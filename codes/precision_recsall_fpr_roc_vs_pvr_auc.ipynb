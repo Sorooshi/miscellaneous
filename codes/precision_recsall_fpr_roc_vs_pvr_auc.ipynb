{
 "cells": [
  {
   "cell_type": "code",
   "execution_count": 1,
   "metadata": {},
   "outputs": [],
   "source": [
    "import numpy as np"
   ]
  },
  {
   "cell_type": "markdown",
   "metadata": {},
   "source": [
    "# Definitions:\n",
    "\n",
    "\n",
    "- PPV (precision) = TP/ (TP+FP) = 6/(6+30) = 0.166 \n",
    "- FPR (pollution rate) = FP / (FP+TN) = 30/(30+8) = 0.789 \n",
    "- Recall (TPR) = TP / (TP+FN) = 6/(6+2) = 0.750 \n",
    "\n",
    "\n",
    "**AUC ROC plots (FRP vs. TPR) while AUC PVR plots (PPV, TRP)**"
   ]
  },
  {
   "cell_type": "markdown",
   "metadata": {},
   "source": [
    "###### Imbalanced: are shown with numbers \n",
    "###### balanced: are shown with letters "
   ]
  },
  {
   "cell_type": "code",
   "execution_count": 9,
   "metadata": {},
   "outputs": [],
   "source": [
    "def ppv (tp, fp):\n",
    "    return tp/ (tp+fp)\n",
    "\n",
    "def fpr(fp, tn):\n",
    "    return fp/ (fp+tn)\n",
    "\n",
    "\n",
    "def tpr(tp, fn):\n",
    "    return tp/(tp+fn)"
   ]
  },
  {
   "cell_type": "code",
   "execution_count": 10,
   "metadata": {},
   "outputs": [
    {
     "data": {
      "text/plain": [
       "(1.0, 0.0, 1.0)"
      ]
     },
     "execution_count": 10,
     "metadata": {},
     "output_type": "execute_result"
    }
   ],
   "source": [
    "# case 1: pos & neg perfect\n",
    "tp1 = 10\n",
    "fp1 = 0\n",
    "tn1 = 90\n",
    "fn1 = 0\n",
    "\n",
    "ppv1 = ppv(tp1, fp1)\n",
    "fpr1 = fpr(fp1, tn1)\n",
    "tpr1 = tpr(tp1, fn1)\n",
    "\n",
    "ppv1, fpr1, tpr1"
   ]
  },
  {
   "cell_type": "code",
   "execution_count": 29,
   "metadata": {},
   "outputs": [
    {
     "data": {
      "text/plain": [
       "(1.0, 0.0, 1.0)"
      ]
     },
     "execution_count": 29,
     "metadata": {},
     "output_type": "execute_result"
    }
   ],
   "source": [
    "# case A: pos & neg perfect\n",
    "tp_a = 10\n",
    "fp_a = 0\n",
    "tn_a = 9\n",
    "fn_a = 0\n",
    "\n",
    "ppv_a = ppv(tp_a, fp_a)\n",
    "fpr_a = fpr(fp_a, tn_a)\n",
    "tpr_a = tpr(tp_a, fn_a)\n",
    "\n",
    "ppv_a, fpr_a, tpr_a"
   ]
  },
  {
   "cell_type": "markdown",
   "metadata": {},
   "source": [
    "- Not much differences "
   ]
  },
  {
   "cell_type": "code",
   "execution_count": 12,
   "metadata": {},
   "outputs": [
    {
     "data": {
      "text/plain": [
       "(0.5, 0.05263157894736842, 1.0)"
      ]
     },
     "execution_count": 12,
     "metadata": {},
     "output_type": "execute_result"
    }
   ],
   "source": [
    "# case 2: pos: rnd, neg: perfect\n",
    "tp2 = 5\n",
    "fp2 = 5\n",
    "tn2 = 90\n",
    "fn2 = 0\n",
    "\n",
    "ppv2 = ppv(tp2, fp2)\n",
    "fpr2 = fpr(fp2, tn2)\n",
    "tpr2 = tpr(tp2, fn2)\n",
    "\n",
    "ppv2, fpr2, tpr2"
   ]
  },
  {
   "cell_type": "code",
   "execution_count": 13,
   "metadata": {},
   "outputs": [
    {
     "data": {
      "text/plain": [
       "(0.5, 0.35714285714285715, 1.0)"
      ]
     },
     "execution_count": 13,
     "metadata": {},
     "output_type": "execute_result"
    }
   ],
   "source": [
    "# case B: pos: rnd, neg: perfect\n",
    "tp_b = 5\n",
    "fp_b = 5\n",
    "tn_b = 9\n",
    "fn_b = 0\n",
    "\n",
    "ppv_b = ppv(tp_b, fp_b)\n",
    "fpr_b = fpr(fp_b, tn_b)\n",
    "tpr_b = tpr(tp_b, fn_b)\n",
    "\n",
    "ppv_b, fpr_b, tpr_b"
   ]
  },
  {
   "cell_type": "markdown",
   "metadata": {},
   "source": [
    "\n",
    "\n",
    "- precision is 50% but it not completely representative, because we have 100% correct prediction for negative class.\n",
    "\n",
    "- **Moreover, the main issue appears if one compare the case B with case 2 and will understand how illusive this value is in case 2**\n",
    "\n"
   ]
  },
  {
   "cell_type": "code",
   "execution_count": 14,
   "metadata": {},
   "outputs": [
    {
     "data": {
      "text/plain": [
       "(1.0, 0.0, 0.5)"
      ]
     },
     "execution_count": 14,
     "metadata": {},
     "output_type": "execute_result"
    }
   ],
   "source": [
    "# case 3: pos: perfect, neg: 50-50 \n",
    "tp3 = 10\n",
    "fp3 = 0\n",
    "tn3 = 80\n",
    "fn3 = 10\n",
    "\n",
    "ppv3 = ppv(tp3, fp3)\n",
    "fpr3 = fpr(fp3, tn3)\n",
    "tpr3 = tpr(tp3, fn3)\n",
    "\n",
    "ppv3, fpr3, tpr3"
   ]
  },
  {
   "cell_type": "code",
   "execution_count": 19,
   "metadata": {},
   "outputs": [
    {
     "data": {
      "text/plain": [
       "(1.0, 0.0, 0.6666666666666666)"
      ]
     },
     "execution_count": 19,
     "metadata": {},
     "output_type": "execute_result"
    }
   ],
   "source": [
    "# case 3: pos: perfect, neg: 50-50 \n",
    "tp_c = 10\n",
    "fp_c = 0\n",
    "tn_c = 4\n",
    "fn_c = 5\n",
    "\n",
    "ppv_c = ppv(tp_c, fp_c)\n",
    "fpr_c = fpr(fp_c, tn_c)\n",
    "tpr_c = tpr(tp_c, fn_c)\n",
    "\n",
    "ppv_c, fpr_c, tpr_c"
   ]
  },
  {
   "cell_type": "markdown",
   "metadata": {},
   "source": [
    "- we cannot observe significant differences in these cases"
   ]
  },
  {
   "cell_type": "code",
   "execution_count": 20,
   "metadata": {},
   "outputs": [
    {
     "data": {
      "text/plain": [
       "(1.0, 0.0, 0.18181818181818182)"
      ]
     },
     "execution_count": 20,
     "metadata": {},
     "output_type": "execute_result"
    }
   ],
   "source": [
    "# case 4: pos: perfect, neg: 50-50 \n",
    "tp4 = 10\n",
    "fp4 = 0\n",
    "tn4 = 45\n",
    "fn4 = 45\n",
    "\n",
    "ppv4 = ppv(tp4, fp4)\n",
    "fpr4 = fpr(fp4, tn4)\n",
    "tpr4 = tpr(tp4, fn4)\n",
    "\n",
    "ppv4, fpr4, tpr4"
   ]
  },
  {
   "cell_type": "code",
   "execution_count": 24,
   "metadata": {},
   "outputs": [
    {
     "data": {
      "text/plain": [
       "(1.0, 0.0, 0.6666666666666666)"
      ]
     },
     "execution_count": 24,
     "metadata": {},
     "output_type": "execute_result"
    }
   ],
   "source": [
    "# case 4: pos: perfect, neg: 50-50 \n",
    "tp_d = 10\n",
    "fp_d = 0\n",
    "tn_d = 4\n",
    "fn_d = 5\n",
    "\n",
    "ppv_d = ppv(tp_d, fp_d)\n",
    "fpr_d = fpr(fp_d, tn_d)\n",
    "tpr_d = tpr(tp_d, fn_d)\n",
    "\n",
    "ppv_d, fpr_d, tpr_d"
   ]
  },
  {
   "cell_type": "markdown",
   "metadata": {},
   "source": [
    "- We observe significant difference between balanced and imbalanced datasets w.r.t to call, which leads to misunderstanding of the performance of an algorithm in imbalanced case, if one uses ROC AUC plots"
   ]
  },
  {
   "cell_type": "code",
   "execution_count": 26,
   "metadata": {},
   "outputs": [
    {
     "data": {
      "text/plain": [
       "(1.0, 0.0, 0.10101010101010101)"
      ]
     },
     "execution_count": 26,
     "metadata": {},
     "output_type": "execute_result"
    }
   ],
   "source": [
    "# case 5: pos: perfect, neg: bad\n",
    "tp5 = 10\n",
    "fp5 = 0\n",
    "tn5 = 1\n",
    "fn5 = 89\n",
    "\n",
    "ppv5 = ppv(tp5, fp5)\n",
    "fpr5 = fpr(fp5, tn5)\n",
    "tpr5 = tpr(tp5, fn5)\n",
    "\n",
    "ppv5, fpr5, tpr5"
   ]
  },
  {
   "cell_type": "code",
   "execution_count": 28,
   "metadata": {},
   "outputs": [
    {
     "data": {
      "text/plain": [
       "(1.0, 0.0, 0.5555555555555556)"
      ]
     },
     "execution_count": 28,
     "metadata": {},
     "output_type": "execute_result"
    }
   ],
   "source": [
    "# case 4: pos: perfect, neg: rnd\n",
    "tp_e = 10\n",
    "fp_e = 0\n",
    "tn_e = 1\n",
    "fn_e = 8\n",
    "\n",
    "ppv_e = ppv(tp_e, fp_e)\n",
    "fpr_e = fpr(fp_e, tn_e)\n",
    "tpr_e = tpr(tp_e, fn_e)\n",
    "\n",
    "ppv_e, fpr_e, tpr_e"
   ]
  },
  {
   "cell_type": "markdown",
   "metadata": {},
   "source": [
    "- again the difference is clear!"
   ]
  },
  {
   "cell_type": "markdown",
   "metadata": {},
   "source": [
    "## Conclusion:\n",
    "The ROC AUC values, which are the result of plotting PPV (precision) vs TPR (recall), are illusively low, and this is why it cannot be considered as good evaluation metric/plot."
   ]
  },
  {
   "cell_type": "code",
   "execution_count": null,
   "metadata": {},
   "outputs": [],
   "source": []
  },
  {
   "cell_type": "code",
   "execution_count": null,
   "metadata": {},
   "outputs": [],
   "source": []
  },
  {
   "cell_type": "code",
   "execution_count": null,
   "metadata": {},
   "outputs": [],
   "source": []
  }
 ],
 "metadata": {
  "kernelspec": {
   "display_name": "venv_Sep21",
   "language": "python",
   "name": "venv_sep21"
  },
  "language_info": {
   "codemirror_mode": {
    "name": "ipython",
    "version": 3
   },
   "file_extension": ".py",
   "mimetype": "text/x-python",
   "name": "python",
   "nbconvert_exporter": "python",
   "pygments_lexer": "ipython3",
   "version": "3.7.3"
  }
 },
 "nbformat": 4,
 "nbformat_minor": 2
}
