{
 "cells": [
  {
   "cell_type": "code",
   "execution_count": 1,
   "metadata": {},
   "outputs": [],
   "source": [
    "import os\n",
    "import wandb\n",
    "\n",
    "import numpy as np\n",
    "import tensorflow as tf\n",
    "import tensorflow.keras as tfk\n",
    "\n",
    "from sklearn import metrics"
   ]
  },
  {
   "cell_type": "code",
   "execution_count": 2,
   "metadata": {},
   "outputs": [],
   "source": [
    "def mae(y_trues, y_preds):\n",
    "    if not isinstance(y_trues, np.ndarray):\n",
    "        y_trues = np.asarray(y_trues)\n",
    "\n",
    "    if not isinstance(y_preds, np.ndarray):\n",
    "        y_preds = np.asarray(y_preds)\n",
    "\n",
    "    return np.mean(np.abs(y_trues-y_preds))\n",
    "\n",
    "def rmse(y_trues, y_preds):\n",
    "    if not isinstance(y_trues, np.ndarray):\n",
    "        y_trues = np.asarray(y_trues)\n",
    "\n",
    "    if not isinstance(y_preds, np.ndarray):\n",
    "        y_preds = np.asarray(y_preds)\n",
    "\n",
    "    return np.sqrt(np.mean(np.power(y_trues-y_preds, 2)))\n",
    "\n",
    "\n",
    "def mrae(y_trues, y_preds):\n",
    "    if not isinstance(y_trues, np.ndarray):\n",
    "        y_trues = np.asarray(y_trues)\n",
    "\n",
    "    if not isinstance(y_preds, np.ndarray):\n",
    "        y_preds = np.asarray(y_preds)\n",
    "    return np.mean(np.abs(np.divide(y_trues -y_preds, y_trues)))"
   ]
  },
  {
   "cell_type": "code",
   "execution_count": null,
   "metadata": {},
   "outputs": [],
   "source": []
  },
  {
   "cell_type": "code",
   "execution_count": null,
   "metadata": {},
   "outputs": [],
   "source": []
  },
  {
   "cell_type": "code",
   "execution_count": 3,
   "metadata": {},
   "outputs": [
    {
     "data": {
      "text/plain": [
       "array([[1, 2, 3],\n",
       "       [4, 5, 6]])"
      ]
     },
     "execution_count": 3,
     "metadata": {},
     "output_type": "execute_result"
    }
   ],
   "source": [
    "x = np.array([[1, 2, 3], \n",
    "              [4, 5, 6]])\n",
    "x"
   ]
  },
  {
   "cell_type": "code",
   "execution_count": 4,
   "metadata": {},
   "outputs": [
    {
     "data": {
      "text/plain": [
       "array([1, 2])"
      ]
     },
     "execution_count": 4,
     "metadata": {},
     "output_type": "execute_result"
    }
   ],
   "source": [
    "y = np.array([1, 2])\n",
    "y"
   ]
  },
  {
   "cell_type": "code",
   "execution_count": 5,
   "metadata": {},
   "outputs": [],
   "source": [
    "n_units = n_features = x.shape[1]\n",
    "learning_rate = 1e-2\n",
    "batch_size = 2\n",
    "n_epochs = 100"
   ]
  },
  {
   "cell_type": "code",
   "execution_count": 6,
   "metadata": {},
   "outputs": [],
   "source": [
    "# class MLP (tf.keras.Model):\n",
    "#     def __init__(self, n_units, n_features, name=\"test\", **kwargs):\n",
    "#         super(MLP, self).__init__(name=name, **kwargs)\n",
    "#         self.n_units = n_units\n",
    "#         self.n_features = n_features\n",
    "        \n",
    "#         self.dense_1 = tf.keras.layers.Dense(units=self.n_units,\n",
    "#                                              input_shape=(self.n_features,))\n",
    "#         self.dense_2 = tf.keras.layers.Dense(units=self.n_units, )\n",
    "        \n",
    "#     def call (self, inputs):\n",
    "#         x = self.dense_1(inputs)\n",
    "# #         x = self.dense_2(x)\n",
    "#         return x"
   ]
  },
  {
   "cell_type": "code",
   "execution_count": 7,
   "metadata": {},
   "outputs": [],
   "source": [
    "losses_name = [tfk.losses.MeanAbsoluteError(), \n",
    "               tfk.losses.MeanSquaredError(), \n",
    "               tfk.losses.MeanAbsolutePercentageError(),\n",
    "               tfk.losses.KLDivergence(),\n",
    "              ]\n",
    "\n",
    "\n",
    "experiments_name = [\"MAE\", \"MSE\", \"MRAE\", \"KLD\"]\n",
    "\n"
   ]
  },
  {
   "cell_type": "code",
   "execution_count": 8,
   "metadata": {},
   "outputs": [
    {
     "name": "stderr",
     "output_type": "stream",
     "text": [
      "Failed to detect the name of this notebook, you can set it manually with the WANDB_NOTEBOOK_NAME environment variable to enable code saving.\n",
      "\u001b[34m\u001b[1mwandb\u001b[0m: Currently logged in as: \u001b[33msorooshi\u001b[0m (use `wandb login --relogin` to force relogin)\n",
      "\u001b[34m\u001b[1mwandb\u001b[0m: wandb version 0.10.30 is available!  To upgrade, please run:\n",
      "\u001b[34m\u001b[1mwandb\u001b[0m:  $ pip install wandb --upgrade\n"
     ]
    },
    {
     "data": {
      "text/html": [
       "\n",
       "                Tracking run with wandb version 0.10.25<br/>\n",
       "                Syncing run <strong style=\"color:#cdcd00\">MLP method</strong> to <a href=\"https://wandb.ai\" target=\"_blank\">Weights & Biases</a> <a href=\"https://docs.wandb.com/integrations/jupyter.html\" target=\"_blank\">(Documentation)</a>.<br/>\n",
       "                Project page: <a href=\"https://wandb.ai/sorooshi/mlp-method\" target=\"_blank\">https://wandb.ai/sorooshi/mlp-method</a><br/>\n",
       "                Run page: <a href=\"https://wandb.ai/sorooshi/mlp-method/runs/5fk9qilc\" target=\"_blank\">https://wandb.ai/sorooshi/mlp-method/runs/5fk9qilc</a><br/>\n",
       "                Run data is saved locally in <code>/home/soroosh/Desktop/wandb/run-20210512_180904-5fk9qilc</code><br/><br/>\n",
       "            "
      ],
      "text/plain": [
       "<IPython.core.display.HTML object>"
      ]
     },
     "metadata": {},
     "output_type": "display_data"
    },
    {
     "name": "stdout",
     "output_type": "stream",
     "text": [
      "Epoch 1/100\n",
      "1/1 [==============================] - 0s 137ms/step - loss: 4.0240\n",
      "Epoch 2/100\n",
      "1/1 [==============================] - 0s 2ms/step - loss: 3.9111\n",
      "Epoch 3/100\n",
      "1/1 [==============================] - 0s 1ms/step - loss: 3.8207\n",
      "Epoch 4/100\n",
      "1/1 [==============================] - 0s 2ms/step - loss: 3.7307\n",
      "Epoch 5/100\n",
      "1/1 [==============================] - 0s 2ms/step - loss: 3.6675\n",
      "Epoch 6/100\n",
      "1/1 [==============================] - 0s 2ms/step - loss: 3.5986\n",
      "Epoch 7/100\n",
      "1/1 [==============================] - 0s 1ms/step - loss: 3.5169\n",
      "Epoch 8/100\n",
      "1/1 [==============================] - 0s 2ms/step - loss: 3.4273\n",
      "Epoch 9/100\n",
      "1/1 [==============================] - 0s 1ms/step - loss: 3.3429\n",
      "Epoch 10/100\n",
      "1/1 [==============================] - 0s 2ms/step - loss: 3.2708\n",
      "Epoch 11/100\n",
      "1/1 [==============================] - 0s 1ms/step - loss: 3.1968\n",
      "Epoch 12/100\n",
      "1/1 [==============================] - 0s 1ms/step - loss: 3.1212\n",
      "Epoch 13/100\n",
      "1/1 [==============================] - 0s 2ms/step - loss: 3.0442\n",
      "Epoch 14/100\n",
      "1/1 [==============================] - 0s 1ms/step - loss: 2.9659\n",
      "Epoch 15/100\n",
      "1/1 [==============================] - 0s 1ms/step - loss: 2.8867\n",
      "Epoch 16/100\n",
      "1/1 [==============================] - 0s 2ms/step - loss: 2.8064\n",
      "Epoch 17/100\n",
      "1/1 [==============================] - 0s 1ms/step - loss: 2.7254\n",
      "Epoch 18/100\n",
      "1/1 [==============================] - 0s 1ms/step - loss: 2.6454\n",
      "Epoch 19/100\n",
      "1/1 [==============================] - 0s 2ms/step - loss: 2.5707\n",
      "Epoch 20/100\n",
      "1/1 [==============================] - 0s 2ms/step - loss: 2.4894\n",
      "Epoch 21/100\n",
      "1/1 [==============================] - 0s 1ms/step - loss: 2.4158\n",
      "Epoch 22/100\n",
      "1/1 [==============================] - 0s 1ms/step - loss: 2.3409\n",
      "Epoch 23/100\n",
      "1/1 [==============================] - 0s 962us/step - loss: 2.2647\n",
      "Epoch 24/100\n",
      "1/1 [==============================] - 0s 1ms/step - loss: 2.1875\n",
      "Epoch 25/100\n",
      "1/1 [==============================] - 0s 1ms/step - loss: 2.1092\n",
      "Epoch 26/100\n",
      "1/1 [==============================] - 0s 1ms/step - loss: 2.0301\n",
      "Epoch 27/100\n",
      "1/1 [==============================] - 0s 1ms/step - loss: 1.9501\n",
      "Epoch 28/100\n",
      "1/1 [==============================] - 0s 1ms/step - loss: 1.8721\n",
      "Epoch 29/100\n",
      "1/1 [==============================] - 0s 1ms/step - loss: 1.7958\n",
      "Epoch 30/100\n",
      "1/1 [==============================] - 0s 1ms/step - loss: 1.7161\n",
      "Epoch 31/100\n",
      "1/1 [==============================] - 0s 1ms/step - loss: 1.6395\n",
      "Epoch 32/100\n",
      "1/1 [==============================] - 0s 1ms/step - loss: 1.5619\n",
      "Epoch 33/100\n",
      "1/1 [==============================] - 0s 1ms/step - loss: 1.4833\n",
      "Epoch 34/100\n",
      "1/1 [==============================] - 0s 1ms/step - loss: 1.4100\n",
      "Epoch 35/100\n",
      "1/1 [==============================] - 0s 1ms/step - loss: 1.3310\n",
      "Epoch 36/100\n",
      "1/1 [==============================] - 0s 2ms/step - loss: 1.2525\n",
      "Epoch 37/100\n",
      "1/1 [==============================] - 0s 1ms/step - loss: 1.1767\n",
      "Epoch 38/100\n",
      "1/1 [==============================] - 0s 1ms/step - loss: 1.1183\n",
      "Epoch 39/100\n",
      "1/1 [==============================] - 0s 1ms/step - loss: 1.0617\n",
      "Epoch 40/100\n",
      "1/1 [==============================] - 0s 1ms/step - loss: 1.0108\n",
      "Epoch 41/100\n",
      "1/1 [==============================] - 0s 1ms/step - loss: 0.9619\n",
      "Epoch 42/100\n",
      "1/1 [==============================] - 0s 1ms/step - loss: 0.9076\n",
      "Epoch 43/100\n",
      "1/1 [==============================] - 0s 1ms/step - loss: 0.8566\n",
      "Epoch 44/100\n",
      "1/1 [==============================] - 0s 1ms/step - loss: 0.8085\n",
      "Epoch 45/100\n",
      "1/1 [==============================] - 0s 1ms/step - loss: 0.7552\n",
      "Epoch 46/100\n",
      "1/1 [==============================] - 0s 1ms/step - loss: 0.7093\n",
      "Epoch 47/100\n",
      "1/1 [==============================] - 0s 1ms/step - loss: 0.6625\n",
      "Epoch 48/100\n",
      "1/1 [==============================] - 0s 992us/step - loss: 0.6105\n",
      "Epoch 49/100\n",
      "1/1 [==============================] - 0s 1ms/step - loss: 0.5594\n",
      "Epoch 50/100\n",
      "1/1 [==============================] - 0s 1ms/step - loss: 0.5129\n",
      "Epoch 51/100\n",
      "1/1 [==============================] - 0s 1ms/step - loss: 0.4629\n",
      "Epoch 52/100\n",
      "1/1 [==============================] - 0s 1ms/step - loss: 0.4152\n",
      "Epoch 53/100\n",
      "1/1 [==============================] - 0s 1ms/step - loss: 0.3668\n",
      "Epoch 54/100\n",
      "1/1 [==============================] - 0s 1ms/step - loss: 0.3204\n",
      "Epoch 55/100\n",
      "1/1 [==============================] - 0s 1ms/step - loss: 0.3047\n",
      "Epoch 56/100\n",
      "1/1 [==============================] - 0s 1ms/step - loss: 0.3082\n",
      "Epoch 57/100\n",
      "1/1 [==============================] - 0s 1ms/step - loss: 0.3110\n",
      "Epoch 58/100\n",
      "1/1 [==============================] - 0s 1ms/step - loss: 0.3101\n",
      "Epoch 59/100\n",
      "1/1 [==============================] - 0s 1ms/step - loss: 0.3088\n",
      "Epoch 60/100\n",
      "1/1 [==============================] - 0s 1ms/step - loss: 0.3052\n",
      "Epoch 61/100\n",
      "1/1 [==============================] - 0s 1ms/step - loss: 0.3150\n",
      "Epoch 62/100\n",
      "1/1 [==============================] - 0s 1ms/step - loss: 0.3312\n",
      "Epoch 63/100\n",
      "1/1 [==============================] - 0s 1ms/step - loss: 0.3430\n",
      "Epoch 64/100\n",
      "1/1 [==============================] - 0s 1ms/step - loss: 0.3456\n",
      "Epoch 65/100\n",
      "1/1 [==============================] - 0s 1ms/step - loss: 0.3483\n",
      "Epoch 66/100\n",
      "1/1 [==============================] - 0s 1ms/step - loss: 0.3403\n",
      "Epoch 67/100\n",
      "1/1 [==============================] - 0s 1ms/step - loss: 0.3275\n",
      "Epoch 68/100\n",
      "1/1 [==============================] - 0s 1ms/step - loss: 0.3153\n",
      "Epoch 69/100\n",
      "1/1 [==============================] - 0s 1ms/step - loss: 0.3142\n",
      "Epoch 70/100\n",
      "1/1 [==============================] - 0s 1ms/step - loss: 0.3152\n",
      "Epoch 71/100\n",
      "1/1 [==============================] - 0s 1ms/step - loss: 0.3167\n",
      "Epoch 72/100\n",
      "1/1 [==============================] - 0s 1ms/step - loss: 0.3140\n",
      "Epoch 73/100\n",
      "1/1 [==============================] - 0s 1ms/step - loss: 0.3120\n",
      "Epoch 74/100\n",
      "1/1 [==============================] - 0s 1ms/step - loss: 0.3078\n",
      "Epoch 75/100\n",
      "1/1 [==============================] - 0s 1ms/step - loss: 0.3016\n",
      "Epoch 76/100\n",
      "1/1 [==============================] - 0s 1ms/step - loss: 0.2986\n",
      "Epoch 77/100\n",
      "1/1 [==============================] - 0s 1ms/step - loss: 0.2899\n",
      "Epoch 78/100\n",
      "1/1 [==============================] - 0s 1ms/step - loss: 0.2825\n",
      "Epoch 79/100\n",
      "1/1 [==============================] - 0s 1ms/step - loss: 0.2742\n",
      "Epoch 80/100\n",
      "1/1 [==============================] - 0s 1ms/step - loss: 0.2608\n",
      "Epoch 81/100\n",
      "1/1 [==============================] - 0s 1ms/step - loss: 0.2521\n",
      "Epoch 82/100\n",
      "1/1 [==============================] - 0s 1ms/step - loss: 0.2399\n",
      "Epoch 83/100\n",
      "1/1 [==============================] - 0s 1ms/step - loss: 0.2285\n",
      "Epoch 84/100\n",
      "1/1 [==============================] - 0s 1ms/step - loss: 0.2327\n",
      "Epoch 85/100\n",
      "1/1 [==============================] - 0s 1ms/step - loss: 0.2340\n",
      "Epoch 86/100\n",
      "1/1 [==============================] - 0s 1ms/step - loss: 0.2422\n",
      "Epoch 87/100\n",
      "1/1 [==============================] - 0s 1ms/step - loss: 0.2392\n",
      "Epoch 88/100\n",
      "1/1 [==============================] - 0s 994us/step - loss: 0.2283\n",
      "Epoch 89/100\n",
      "1/1 [==============================] - 0s 1ms/step - loss: 0.2217\n",
      "Epoch 90/100\n",
      "1/1 [==============================] - 0s 1ms/step - loss: 0.2168\n",
      "Epoch 91/100\n",
      "1/1 [==============================] - 0s 1ms/step - loss: 0.2208\n",
      "Epoch 92/100\n",
      "1/1 [==============================] - 0s 1ms/step - loss: 0.2228\n",
      "Epoch 93/100\n",
      "1/1 [==============================] - 0s 2ms/step - loss: 0.2231\n",
      "Epoch 94/100\n",
      "1/1 [==============================] - 0s 1ms/step - loss: 0.2213\n",
      "Epoch 95/100\n",
      "1/1 [==============================] - 0s 1ms/step - loss: 0.2191\n",
      "Epoch 96/100\n",
      "1/1 [==============================] - 0s 1ms/step - loss: 0.2145\n",
      "Epoch 97/100\n",
      "1/1 [==============================] - 0s 995us/step - loss: 0.2084\n",
      "Epoch 98/100\n",
      "1/1 [==============================] - 0s 981us/step - loss: 0.2068\n",
      "Epoch 99/100\n",
      "1/1 [==============================] - 0s 1ms/step - loss: 0.2047\n",
      "Epoch 100/100\n",
      "1/1 [==============================] - 0s 1ms/step - loss: 0.2064\n"
     ]
    },
    {
     "data": {
      "text/html": [
       "<br/>Waiting for W&B process to finish, PID 7299<br/>Program ended successfully."
      ],
      "text/plain": [
       "<IPython.core.display.HTML object>"
      ]
     },
     "metadata": {},
     "output_type": "display_data"
    },
    {
     "data": {
      "application/vnd.jupyter.widget-view+json": {
       "model_id": "b66a476e87104c76ba3b4ea4a16a24bc",
       "version_major": 2,
       "version_minor": 0
      },
      "text/plain": [
       "VBox(children=(Label(value=' 0.00MB of 0.00MB uploaded (0.00MB deduped)\\r'), FloatProgress(value=1.0, max=1.0)…"
      ]
     },
     "metadata": {},
     "output_type": "display_data"
    },
    {
     "data": {
      "text/html": [
       "Find user logs for this run at: <code>/home/soroosh/Desktop/wandb/run-20210512_180904-5fk9qilc/logs/debug.log</code>"
      ],
      "text/plain": [
       "<IPython.core.display.HTML object>"
      ]
     },
     "metadata": {},
     "output_type": "display_data"
    },
    {
     "data": {
      "text/html": [
       "Find internal logs for this run at: <code>/home/soroosh/Desktop/wandb/run-20210512_180904-5fk9qilc/logs/debug-internal.log</code>"
      ],
      "text/plain": [
       "<IPython.core.display.HTML object>"
      ]
     },
     "metadata": {},
     "output_type": "display_data"
    },
    {
     "data": {
      "text/html": [
       "<h3>Run summary:</h3><br/><style>\n",
       "    table.wandb td:nth-child(1) { padding: 0 10px; text-align: right }\n",
       "    </style><table class=\"wandb\">\n",
       "<tr><td>mae</td><td>0.20864</td></tr><tr><td>mrae</td><td>0.17909</td></tr><tr><td>rmse</td><td>0.39612</td></tr><tr><td>_runtime</td><td>2</td></tr><tr><td>_timestamp</td><td>1620832146</td></tr><tr><td>_step</td><td>0</td></tr></table>"
      ],
      "text/plain": [
       "<IPython.core.display.HTML object>"
      ]
     },
     "metadata": {},
     "output_type": "display_data"
    },
    {
     "data": {
      "text/html": [
       "<h3>Run history:</h3><br/><style>\n",
       "    table.wandb td:nth-child(1) { padding: 0 10px; text-align: right }\n",
       "    </style><table class=\"wandb\">\n",
       "<tr><td>mae</td><td>▁</td></tr><tr><td>mrae</td><td>▁</td></tr><tr><td>rmse</td><td>▁</td></tr><tr><td>_runtime</td><td>▁</td></tr><tr><td>_timestamp</td><td>▁</td></tr><tr><td>_step</td><td>▁</td></tr></table><br/>"
      ],
      "text/plain": [
       "<IPython.core.display.HTML object>"
      ]
     },
     "metadata": {},
     "output_type": "display_data"
    },
    {
     "data": {
      "text/html": [
       "Synced 5 W&B file(s), 0 media file(s), 0 artifact file(s) and 2 other file(s)"
      ],
      "text/plain": [
       "<IPython.core.display.HTML object>"
      ]
     },
     "metadata": {},
     "output_type": "display_data"
    },
    {
     "data": {
      "text/html": [
       "\n",
       "                    <br/>Synced <strong style=\"color:#cdcd00\">MLP method</strong>: <a href=\"https://wandb.ai/sorooshi/mlp-method/runs/5fk9qilc\" target=\"_blank\">https://wandb.ai/sorooshi/mlp-method/runs/5fk9qilc</a><br/>\n",
       "                "
      ],
      "text/plain": [
       "<IPython.core.display.HTML object>"
      ]
     },
     "metadata": {},
     "output_type": "display_data"
    },
    {
     "name": "stderr",
     "output_type": "stream",
     "text": [
      "\u001b[34m\u001b[1mwandb\u001b[0m: wandb version 0.10.30 is available!  To upgrade, please run:\n",
      "\u001b[34m\u001b[1mwandb\u001b[0m:  $ pip install wandb --upgrade\n"
     ]
    },
    {
     "data": {
      "text/html": [
       "\n",
       "                Tracking run with wandb version 0.10.25<br/>\n",
       "                Syncing run <strong style=\"color:#cdcd00\">MLP method</strong> to <a href=\"https://wandb.ai\" target=\"_blank\">Weights & Biases</a> <a href=\"https://docs.wandb.com/integrations/jupyter.html\" target=\"_blank\">(Documentation)</a>.<br/>\n",
       "                Project page: <a href=\"https://wandb.ai/sorooshi/mlp-method\" target=\"_blank\">https://wandb.ai/sorooshi/mlp-method</a><br/>\n",
       "                Run page: <a href=\"https://wandb.ai/sorooshi/mlp-method/runs/320xcr9g\" target=\"_blank\">https://wandb.ai/sorooshi/mlp-method/runs/320xcr9g</a><br/>\n",
       "                Run data is saved locally in <code>/home/soroosh/Desktop/wandb/run-20210512_180910-320xcr9g</code><br/><br/>\n",
       "            "
      ],
      "text/plain": [
       "<IPython.core.display.HTML object>"
      ]
     },
     "metadata": {},
     "output_type": "display_data"
    },
    {
     "name": "stdout",
     "output_type": "stream",
     "text": [
      "Epoch 1/100\n",
      "1/1 [==============================] - 0s 105ms/step - loss: 37.8624\n",
      "Epoch 2/100\n",
      "1/1 [==============================] - 0s 1ms/step - loss: 36.6693\n",
      "Epoch 3/100\n",
      "1/1 [==============================] - 0s 993us/step - loss: 35.5077\n",
      "Epoch 4/100\n",
      "1/1 [==============================] - 0s 1ms/step - loss: 34.3779\n",
      "Epoch 5/100\n",
      "1/1 [==============================] - 0s 1ms/step - loss: 33.2805\n",
      "Epoch 6/100\n",
      "1/1 [==============================] - 0s 1ms/step - loss: 32.2157\n",
      "Epoch 7/100\n",
      "1/1 [==============================] - 0s 1ms/step - loss: 31.1837\n",
      "Epoch 8/100\n",
      "1/1 [==============================] - 0s 1ms/step - loss: 30.1847\n",
      "Epoch 9/100\n",
      "1/1 [==============================] - 0s 1ms/step - loss: 29.2187\n",
      "Epoch 10/100\n",
      "1/1 [==============================] - 0s 1ms/step - loss: 28.2854\n",
      "Epoch 11/100\n",
      "1/1 [==============================] - 0s 1ms/step - loss: 27.3847\n",
      "Epoch 12/100\n",
      "1/1 [==============================] - 0s 1ms/step - loss: 26.5161\n",
      "Epoch 13/100\n",
      "1/1 [==============================] - 0s 1ms/step - loss: 25.6789\n",
      "Epoch 14/100\n",
      "1/1 [==============================] - 0s 990us/step - loss: 24.8725\n",
      "Epoch 15/100\n",
      "1/1 [==============================] - 0s 1ms/step - loss: 24.0959\n",
      "Epoch 16/100\n",
      "1/1 [==============================] - 0s 1ms/step - loss: 23.3481\n",
      "Epoch 17/100\n",
      "1/1 [==============================] - 0s 1ms/step - loss: 22.6279\n",
      "Epoch 18/100\n",
      "1/1 [==============================] - 0s 1ms/step - loss: 21.9340\n",
      "Epoch 19/100\n",
      "1/1 [==============================] - 0s 986us/step - loss: 21.2649\n",
      "Epoch 20/100\n",
      "1/1 [==============================] - 0s 1ms/step - loss: 20.6191\n",
      "Epoch 21/100\n",
      "1/1 [==============================] - 0s 1ms/step - loss: 19.9952\n",
      "Epoch 22/100\n",
      "1/1 [==============================] - 0s 1ms/step - loss: 19.3914\n",
      "Epoch 23/100\n",
      "1/1 [==============================] - 0s 2ms/step - loss: 18.8064\n",
      "Epoch 24/100\n",
      "1/1 [==============================] - 0s 2ms/step - loss: 18.2385\n",
      "Epoch 25/100\n",
      "1/1 [==============================] - 0s 1ms/step - loss: 17.6863\n",
      "Epoch 26/100\n",
      "1/1 [==============================] - 0s 1ms/step - loss: 17.1487\n",
      "Epoch 27/100\n",
      "1/1 [==============================] - 0s 1ms/step - loss: 16.6243\n",
      "Epoch 28/100\n",
      "1/1 [==============================] - 0s 1ms/step - loss: 16.1123\n",
      "Epoch 29/100\n",
      "1/1 [==============================] - 0s 1ms/step - loss: 15.6116\n",
      "Epoch 30/100\n",
      "1/1 [==============================] - 0s 1ms/step - loss: 15.1217\n",
      "Epoch 31/100\n",
      "1/1 [==============================] - 0s 1ms/step - loss: 14.6421\n",
      "Epoch 32/100\n",
      "1/1 [==============================] - 0s 1ms/step - loss: 14.1723\n",
      "Epoch 33/100\n",
      "1/1 [==============================] - 0s 1ms/step - loss: 13.7121\n",
      "Epoch 34/100\n",
      "1/1 [==============================] - 0s 1ms/step - loss: 13.2614\n",
      "Epoch 35/100\n",
      "1/1 [==============================] - 0s 1ms/step - loss: 12.8202\n",
      "Epoch 36/100\n",
      "1/1 [==============================] - 0s 988us/step - loss: 12.3885\n",
      "Epoch 37/100\n",
      "1/1 [==============================] - 0s 1ms/step - loss: 11.9665\n",
      "Epoch 38/100\n",
      "1/1 [==============================] - 0s 1ms/step - loss: 11.5543\n",
      "Epoch 39/100\n",
      "1/1 [==============================] - 0s 1ms/step - loss: 11.1520\n",
      "Epoch 40/100\n",
      "1/1 [==============================] - 0s 1ms/step - loss: 10.7598\n",
      "Epoch 41/100\n",
      "1/1 [==============================] - 0s 1ms/step - loss: 10.3779\n",
      "Epoch 42/100\n",
      "1/1 [==============================] - 0s 1ms/step - loss: 10.0064\n",
      "Epoch 43/100\n",
      "1/1 [==============================] - 0s 1ms/step - loss: 9.6452\n",
      "Epoch 44/100\n",
      "1/1 [==============================] - 0s 1ms/step - loss: 9.2945\n",
      "Epoch 45/100\n",
      "1/1 [==============================] - 0s 1ms/step - loss: 8.9543\n",
      "Epoch 46/100\n",
      "1/1 [==============================] - 0s 1ms/step - loss: 8.6245\n",
      "Epoch 47/100\n",
      "1/1 [==============================] - 0s 1ms/step - loss: 8.3049\n",
      "Epoch 48/100\n",
      "1/1 [==============================] - 0s 1ms/step - loss: 7.9954\n",
      "Epoch 49/100\n",
      "1/1 [==============================] - 0s 1ms/step - loss: 7.6959\n",
      "Epoch 50/100\n",
      "1/1 [==============================] - 0s 1ms/step - loss: 7.4061\n",
      "Epoch 51/100\n",
      "1/1 [==============================] - 0s 1ms/step - loss: 7.1258\n",
      "Epoch 52/100\n",
      "1/1 [==============================] - 0s 989us/step - loss: 6.8548\n",
      "Epoch 53/100\n",
      "1/1 [==============================] - 0s 1ms/step - loss: 6.5927\n",
      "Epoch 54/100\n",
      "1/1 [==============================] - 0s 1ms/step - loss: 6.3392\n",
      "Epoch 55/100\n",
      "1/1 [==============================] - 0s 1ms/step - loss: 6.0942\n",
      "Epoch 56/100\n",
      "1/1 [==============================] - 0s 1ms/step - loss: 5.8574\n",
      "Epoch 57/100\n",
      "1/1 [==============================] - 0s 1ms/step - loss: 5.6284\n",
      "Epoch 58/100\n",
      "1/1 [==============================] - 0s 1ms/step - loss: 5.4071\n",
      "Epoch 59/100\n",
      "1/1 [==============================] - 0s 1ms/step - loss: 5.1932\n",
      "Epoch 60/100\n",
      "1/1 [==============================] - 0s 1ms/step - loss: 4.9865\n",
      "Epoch 61/100\n",
      "1/1 [==============================] - 0s 1ms/step - loss: 4.7868\n",
      "Epoch 62/100\n",
      "1/1 [==============================] - 0s 1ms/step - loss: 4.5939\n",
      "Epoch 63/100\n",
      "1/1 [==============================] - 0s 1ms/step - loss: 4.4077\n",
      "Epoch 64/100\n",
      "1/1 [==============================] - 0s 1ms/step - loss: 4.2280\n",
      "Epoch 65/100\n",
      "1/1 [==============================] - 0s 988us/step - loss: 4.0546\n",
      "Epoch 66/100\n",
      "1/1 [==============================] - 0s 1ms/step - loss: 3.8874\n",
      "Epoch 67/100\n",
      "1/1 [==============================] - 0s 1ms/step - loss: 3.7262\n",
      "Epoch 68/100\n",
      "1/1 [==============================] - 0s 1ms/step - loss: 3.5709\n",
      "Epoch 69/100\n",
      "1/1 [==============================] - 0s 1ms/step - loss: 3.4214\n",
      "Epoch 70/100\n",
      "1/1 [==============================] - 0s 1ms/step - loss: 3.2775\n",
      "Epoch 71/100\n",
      "1/1 [==============================] - 0s 1ms/step - loss: 3.1391\n",
      "Epoch 72/100\n",
      "1/1 [==============================] - 0s 1ms/step - loss: 3.0060\n",
      "Epoch 73/100\n",
      "1/1 [==============================] - 0s 1ms/step - loss: 2.8781\n",
      "Epoch 74/100\n",
      "1/1 [==============================] - 0s 972us/step - loss: 2.7552\n",
      "Epoch 75/100\n",
      "1/1 [==============================] - 0s 1ms/step - loss: 2.6373\n",
      "Epoch 76/100\n",
      "1/1 [==============================] - 0s 1ms/step - loss: 2.5241\n",
      "Epoch 77/100\n",
      "1/1 [==============================] - 0s 1ms/step - loss: 2.4155\n",
      "Epoch 78/100\n",
      "1/1 [==============================] - 0s 1ms/step - loss: 2.3113\n",
      "Epoch 79/100\n",
      "1/1 [==============================] - 0s 1ms/step - loss: 2.2114\n",
      "Epoch 80/100\n",
      "1/1 [==============================] - 0s 979us/step - loss: 2.1157\n",
      "Epoch 81/100\n",
      "1/1 [==============================] - 0s 1ms/step - loss: 2.0240\n",
      "Epoch 82/100\n",
      "1/1 [==============================] - 0s 1ms/step - loss: 1.9362\n",
      "Epoch 83/100\n",
      "1/1 [==============================] - 0s 1ms/step - loss: 1.8521\n",
      "Epoch 84/100\n",
      "1/1 [==============================] - 0s 1ms/step - loss: 1.7716\n",
      "Epoch 85/100\n",
      "1/1 [==============================] - 0s 975us/step - loss: 1.6945\n",
      "Epoch 86/100\n",
      "1/1 [==============================] - 0s 1ms/step - loss: 1.6208\n",
      "Epoch 87/100\n",
      "1/1 [==============================] - 0s 1ms/step - loss: 1.5503\n",
      "Epoch 88/100\n",
      "1/1 [==============================] - 0s 1ms/step - loss: 1.4829\n",
      "Epoch 89/100\n",
      "1/1 [==============================] - 0s 1ms/step - loss: 1.4185\n",
      "Epoch 90/100\n",
      "1/1 [==============================] - 0s 1ms/step - loss: 1.3570\n",
      "Epoch 91/100\n",
      "1/1 [==============================] - 0s 1ms/step - loss: 1.2983\n",
      "Epoch 92/100\n",
      "1/1 [==============================] - 0s 2ms/step - loss: 1.2422\n",
      "Epoch 93/100\n",
      "1/1 [==============================] - 0s 1ms/step - loss: 1.1887\n",
      "Epoch 94/100\n",
      "1/1 [==============================] - 0s 992us/step - loss: 1.1377\n",
      "Epoch 95/100\n",
      "1/1 [==============================] - 0s 1ms/step - loss: 1.0891\n",
      "Epoch 96/100\n",
      "1/1 [==============================] - 0s 1ms/step - loss: 1.0427\n",
      "Epoch 97/100\n",
      "1/1 [==============================] - 0s 1ms/step - loss: 0.9986\n",
      "Epoch 98/100\n",
      "1/1 [==============================] - 0s 1ms/step - loss: 0.9565\n",
      "Epoch 99/100\n",
      "1/1 [==============================] - 0s 1ms/step - loss: 0.9164\n",
      "Epoch 100/100\n",
      "1/1 [==============================] - 0s 1ms/step - loss: 0.8783\n"
     ]
    },
    {
     "data": {
      "text/html": [
       "<br/>Waiting for W&B process to finish, PID 7413<br/>Program ended successfully."
      ],
      "text/plain": [
       "<IPython.core.display.HTML object>"
      ]
     },
     "metadata": {},
     "output_type": "display_data"
    },
    {
     "data": {
      "application/vnd.jupyter.widget-view+json": {
       "model_id": "1c1bf332408c4cfd903603fdc3695e3b",
       "version_major": 2,
       "version_minor": 0
      },
      "text/plain": [
       "VBox(children=(Label(value=' 0.00MB of 0.00MB uploaded (0.00MB deduped)\\r'), FloatProgress(value=1.0, max=1.0)…"
      ]
     },
     "metadata": {},
     "output_type": "display_data"
    },
    {
     "data": {
      "text/html": [
       "Find user logs for this run at: <code>/home/soroosh/Desktop/wandb/run-20210512_180910-320xcr9g/logs/debug.log</code>"
      ],
      "text/plain": [
       "<IPython.core.display.HTML object>"
      ]
     },
     "metadata": {},
     "output_type": "display_data"
    },
    {
     "data": {
      "text/html": [
       "Find internal logs for this run at: <code>/home/soroosh/Desktop/wandb/run-20210512_180910-320xcr9g/logs/debug-internal.log</code>"
      ],
      "text/plain": [
       "<IPython.core.display.HTML object>"
      ]
     },
     "metadata": {},
     "output_type": "display_data"
    },
    {
     "data": {
      "text/html": [
       "<h3>Run summary:</h3><br/><style>\n",
       "    table.wandb td:nth-child(1) { padding: 0 10px; text-align: right }\n",
       "    </style><table class=\"wandb\">\n",
       "<tr><td>mae</td><td>0.82428</td></tr><tr><td>mrae</td><td>0.3355</td></tr><tr><td>rmse</td><td>0.91765</td></tr><tr><td>_runtime</td><td>2</td></tr><tr><td>_timestamp</td><td>1620832152</td></tr><tr><td>_step</td><td>0</td></tr></table>"
      ],
      "text/plain": [
       "<IPython.core.display.HTML object>"
      ]
     },
     "metadata": {},
     "output_type": "display_data"
    },
    {
     "data": {
      "text/html": [
       "<h3>Run history:</h3><br/><style>\n",
       "    table.wandb td:nth-child(1) { padding: 0 10px; text-align: right }\n",
       "    </style><table class=\"wandb\">\n",
       "<tr><td>mae</td><td>▁</td></tr><tr><td>mrae</td><td>▁</td></tr><tr><td>rmse</td><td>▁</td></tr><tr><td>_runtime</td><td>▁</td></tr><tr><td>_timestamp</td><td>▁</td></tr><tr><td>_step</td><td>▁</td></tr></table><br/>"
      ],
      "text/plain": [
       "<IPython.core.display.HTML object>"
      ]
     },
     "metadata": {},
     "output_type": "display_data"
    },
    {
     "data": {
      "text/html": [
       "Synced 5 W&B file(s), 0 media file(s), 0 artifact file(s) and 2 other file(s)"
      ],
      "text/plain": [
       "<IPython.core.display.HTML object>"
      ]
     },
     "metadata": {},
     "output_type": "display_data"
    },
    {
     "data": {
      "text/html": [
       "\n",
       "                    <br/>Synced <strong style=\"color:#cdcd00\">MLP method</strong>: <a href=\"https://wandb.ai/sorooshi/mlp-method/runs/320xcr9g\" target=\"_blank\">https://wandb.ai/sorooshi/mlp-method/runs/320xcr9g</a><br/>\n",
       "                "
      ],
      "text/plain": [
       "<IPython.core.display.HTML object>"
      ]
     },
     "metadata": {},
     "output_type": "display_data"
    },
    {
     "name": "stderr",
     "output_type": "stream",
     "text": [
      "\u001b[34m\u001b[1mwandb\u001b[0m: wandb version 0.10.30 is available!  To upgrade, please run:\n",
      "\u001b[34m\u001b[1mwandb\u001b[0m:  $ pip install wandb --upgrade\n"
     ]
    },
    {
     "data": {
      "text/html": [
       "\n",
       "                Tracking run with wandb version 0.10.25<br/>\n",
       "                Syncing run <strong style=\"color:#cdcd00\">MLP method</strong> to <a href=\"https://wandb.ai\" target=\"_blank\">Weights & Biases</a> <a href=\"https://docs.wandb.com/integrations/jupyter.html\" target=\"_blank\">(Documentation)</a>.<br/>\n",
       "                Project page: <a href=\"https://wandb.ai/sorooshi/mlp-method\" target=\"_blank\">https://wandb.ai/sorooshi/mlp-method</a><br/>\n",
       "                Run page: <a href=\"https://wandb.ai/sorooshi/mlp-method/runs/2pxj6b70\" target=\"_blank\">https://wandb.ai/sorooshi/mlp-method/runs/2pxj6b70</a><br/>\n",
       "                Run data is saved locally in <code>/home/soroosh/Desktop/wandb/run-20210512_180916-2pxj6b70</code><br/><br/>\n",
       "            "
      ],
      "text/plain": [
       "<IPython.core.display.HTML object>"
      ]
     },
     "metadata": {},
     "output_type": "display_data"
    },
    {
     "name": "stdout",
     "output_type": "stream",
     "text": [
      "Epoch 1/100\n",
      "1/1 [==============================] - 0s 120ms/step - loss: 110.8331\n",
      "Epoch 2/100\n",
      "1/1 [==============================] - 0s 1ms/step - loss: 107.0497\n",
      "Epoch 3/100\n",
      "1/1 [==============================] - 0s 1ms/step - loss: 103.2664\n",
      "Epoch 4/100\n",
      "1/1 [==============================] - 0s 1ms/step - loss: 99.4831\n",
      "Epoch 5/100\n",
      "1/1 [==============================] - 0s 1ms/step - loss: 95.6997\n",
      "Epoch 6/100\n",
      "1/1 [==============================] - 0s 1ms/step - loss: 91.9164\n",
      "Epoch 7/100\n",
      "1/1 [==============================] - 0s 1ms/step - loss: 88.1331\n",
      "Epoch 8/100\n",
      "1/1 [==============================] - 0s 1ms/step - loss: 84.3497\n",
      "Epoch 9/100\n",
      "1/1 [==============================] - 0s 1ms/step - loss: 81.7585\n",
      "Epoch 10/100\n",
      "1/1 [==============================] - 0s 1ms/step - loss: 79.3369\n",
      "Epoch 11/100\n",
      "1/1 [==============================] - 0s 1ms/step - loss: 76.9387\n",
      "Epoch 12/100\n",
      "1/1 [==============================] - 0s 2ms/step - loss: 74.5600\n",
      "Epoch 13/100\n",
      "1/1 [==============================] - 0s 1ms/step - loss: 72.1975\n",
      "Epoch 14/100\n",
      "1/1 [==============================] - 0s 2ms/step - loss: 69.8489\n",
      "Epoch 15/100\n",
      "1/1 [==============================] - 0s 1ms/step - loss: 67.5120\n",
      "Epoch 16/100\n",
      "1/1 [==============================] - 0s 1ms/step - loss: 65.1850\n",
      "Epoch 17/100\n",
      "1/1 [==============================] - 0s 1ms/step - loss: 62.8666\n",
      "Epoch 18/100\n",
      "1/1 [==============================] - 0s 1ms/step - loss: 60.5554\n",
      "Epoch 19/100\n",
      "1/1 [==============================] - 0s 1ms/step - loss: 58.2504\n",
      "Epoch 20/100\n",
      "1/1 [==============================] - 0s 1ms/step - loss: 55.9507\n",
      "Epoch 21/100\n",
      "1/1 [==============================] - 0s 1ms/step - loss: 53.6554\n",
      "Epoch 22/100\n",
      "1/1 [==============================] - 0s 1ms/step - loss: 52.2880\n",
      "Epoch 23/100\n",
      "1/1 [==============================] - 0s 1ms/step - loss: 51.7746\n",
      "Epoch 24/100\n",
      "1/1 [==============================] - 0s 1ms/step - loss: 51.3885\n",
      "Epoch 25/100\n",
      "1/1 [==============================] - 0s 2ms/step - loss: 50.7950\n",
      "Epoch 26/100\n",
      "1/1 [==============================] - 0s 1ms/step - loss: 50.0182\n",
      "Epoch 27/100\n",
      "1/1 [==============================] - 0s 1ms/step - loss: 49.0793\n",
      "Epoch 28/100\n",
      "1/1 [==============================] - 0s 1ms/step - loss: 47.9966\n",
      "Epoch 29/100\n",
      "1/1 [==============================] - 0s 1ms/step - loss: 46.7861\n",
      "Epoch 30/100\n",
      "1/1 [==============================] - 0s 1ms/step - loss: 45.4620\n",
      "Epoch 31/100\n",
      "1/1 [==============================] - 0s 1ms/step - loss: 44.0367\n",
      "Epoch 32/100\n",
      "1/1 [==============================] - 0s 936us/step - loss: 42.5209\n",
      "Epoch 33/100\n",
      "1/1 [==============================] - 0s 1ms/step - loss: 40.9245\n",
      "Epoch 34/100\n",
      "1/1 [==============================] - 0s 1ms/step - loss: 39.2558\n",
      "Epoch 35/100\n",
      "1/1 [==============================] - 0s 1ms/step - loss: 37.5224\n",
      "Epoch 36/100\n",
      "1/1 [==============================] - 0s 1ms/step - loss: 35.9574\n",
      "Epoch 37/100\n",
      "1/1 [==============================] - 0s 1ms/step - loss: 34.8144\n",
      "Epoch 38/100\n",
      "1/1 [==============================] - 0s 994us/step - loss: 33.7154\n",
      "Epoch 39/100\n",
      "1/1 [==============================] - 0s 1ms/step - loss: 32.8896\n",
      "Epoch 40/100\n",
      "1/1 [==============================] - 0s 891us/step - loss: 31.9100\n",
      "Epoch 41/100\n",
      "1/1 [==============================] - 0s 990us/step - loss: 30.7926\n",
      "Epoch 42/100\n",
      "1/1 [==============================] - 0s 2ms/step - loss: 29.5516\n",
      "Epoch 43/100\n",
      "1/1 [==============================] - 0s 1ms/step - loss: 28.1997\n",
      "Epoch 44/100\n",
      "1/1 [==============================] - 0s 1ms/step - loss: 26.7484\n",
      "Epoch 45/100\n",
      "1/1 [==============================] - 0s 924us/step - loss: 25.4342\n",
      "Epoch 46/100\n",
      "1/1 [==============================] - 0s 1ms/step - loss: 25.4966\n",
      "Epoch 47/100\n",
      "1/1 [==============================] - 0s 1ms/step - loss: 25.1215\n",
      "Epoch 48/100\n",
      "1/1 [==============================] - 0s 1ms/step - loss: 24.4002\n",
      "Epoch 49/100\n",
      "1/1 [==============================] - 0s 988us/step - loss: 23.4370\n",
      "Epoch 50/100\n",
      "1/1 [==============================] - 0s 1ms/step - loss: 22.0441\n",
      "Epoch 51/100\n",
      "1/1 [==============================] - 0s 973us/step - loss: 20.2779\n",
      "Epoch 52/100\n",
      "1/1 [==============================] - 0s 1ms/step - loss: 19.3379\n",
      "Epoch 53/100\n",
      "1/1 [==============================] - 0s 1ms/step - loss: 18.6751\n",
      "Epoch 54/100\n",
      "1/1 [==============================] - 0s 1ms/step - loss: 17.9622\n",
      "Epoch 55/100\n",
      "1/1 [==============================] - 0s 2ms/step - loss: 17.2038\n",
      "Epoch 56/100\n",
      "1/1 [==============================] - 0s 1ms/step - loss: 16.4039\n",
      "Epoch 57/100\n",
      "1/1 [==============================] - 0s 2ms/step - loss: 15.5664\n",
      "Epoch 58/100\n",
      "1/1 [==============================] - 0s 2ms/step - loss: 15.3837\n",
      "Epoch 59/100\n",
      "1/1 [==============================] - 0s 1ms/step - loss: 15.3454\n",
      "Epoch 60/100\n",
      "1/1 [==============================] - 0s 2ms/step - loss: 15.7392\n",
      "Epoch 61/100\n",
      "1/1 [==============================] - 0s 2ms/step - loss: 16.1364\n",
      "Epoch 62/100\n",
      "1/1 [==============================] - 0s 1ms/step - loss: 16.3730\n",
      "Epoch 63/100\n",
      "1/1 [==============================] - 0s 2ms/step - loss: 16.4648\n",
      "Epoch 64/100\n",
      "1/1 [==============================] - 0s 2ms/step - loss: 16.4725\n",
      "Epoch 65/100\n",
      "1/1 [==============================] - 0s 2ms/step - loss: 16.3358\n",
      "Epoch 66/100\n",
      "1/1 [==============================] - 0s 2ms/step - loss: 16.0378\n",
      "Epoch 67/100\n",
      "1/1 [==============================] - 0s 1ms/step - loss: 15.6980\n",
      "Epoch 68/100\n",
      "1/1 [==============================] - 0s 1ms/step - loss: 15.2705\n",
      "Epoch 69/100\n",
      "1/1 [==============================] - 0s 2ms/step - loss: 15.0425\n",
      "Epoch 70/100\n",
      "1/1 [==============================] - 0s 1ms/step - loss: 14.8195\n",
      "Epoch 71/100\n",
      "1/1 [==============================] - 0s 1ms/step - loss: 14.1899\n",
      "Epoch 72/100\n",
      "1/1 [==============================] - 0s 1ms/step - loss: 13.6758\n",
      "Epoch 73/100\n",
      "1/1 [==============================] - 0s 1ms/step - loss: 13.4945\n",
      "Epoch 74/100\n",
      "1/1 [==============================] - 0s 987us/step - loss: 13.3483\n",
      "Epoch 75/100\n",
      "1/1 [==============================] - 0s 1ms/step - loss: 13.3050\n",
      "Epoch 76/100\n",
      "1/1 [==============================] - 0s 1ms/step - loss: 13.2949\n",
      "Epoch 77/100\n",
      "1/1 [==============================] - 0s 1ms/step - loss: 13.4782\n",
      "Epoch 78/100\n",
      "1/1 [==============================] - 0s 2ms/step - loss: 13.4760\n",
      "Epoch 79/100\n",
      "1/1 [==============================] - 0s 1ms/step - loss: 13.5986\n",
      "Epoch 80/100\n",
      "1/1 [==============================] - 0s 1ms/step - loss: 13.4881\n",
      "Epoch 81/100\n",
      "1/1 [==============================] - 0s 1ms/step - loss: 13.2248\n",
      "Epoch 82/100\n",
      "1/1 [==============================] - 0s 1ms/step - loss: 13.0882\n",
      "Epoch 83/100\n",
      "1/1 [==============================] - 0s 1ms/step - loss: 12.9333\n",
      "Epoch 84/100\n",
      "1/1 [==============================] - 0s 1ms/step - loss: 12.6490\n",
      "Epoch 85/100\n",
      "1/1 [==============================] - 0s 1ms/step - loss: 12.5204\n",
      "Epoch 86/100\n",
      "1/1 [==============================] - 0s 1ms/step - loss: 12.5327\n",
      "Epoch 87/100\n",
      "1/1 [==============================] - 0s 1ms/step - loss: 12.4528\n",
      "Epoch 88/100\n",
      "1/1 [==============================] - 0s 978us/step - loss: 12.2528\n",
      "Epoch 89/100\n",
      "1/1 [==============================] - 0s 1ms/step - loss: 12.3388\n",
      "Epoch 90/100\n",
      "1/1 [==============================] - 0s 976us/step - loss: 12.3328\n",
      "Epoch 91/100\n",
      "1/1 [==============================] - 0s 1ms/step - loss: 12.2566\n",
      "Epoch 92/100\n",
      "1/1 [==============================] - 0s 1ms/step - loss: 12.1207\n",
      "Epoch 93/100\n",
      "1/1 [==============================] - 0s 1ms/step - loss: 12.1535\n",
      "Epoch 94/100\n",
      "1/1 [==============================] - 0s 1ms/step - loss: 12.0814\n",
      "Epoch 95/100\n",
      "1/1 [==============================] - 0s 1ms/step - loss: 11.8670\n",
      "Epoch 96/100\n",
      "1/1 [==============================] - 0s 1ms/step - loss: 11.8433\n",
      "Epoch 97/100\n",
      "1/1 [==============================] - 0s 1ms/step - loss: 11.6859\n",
      "Epoch 98/100\n",
      "1/1 [==============================] - 0s 1ms/step - loss: 11.4566\n",
      "Epoch 99/100\n",
      "1/1 [==============================] - 0s 1ms/step - loss: 11.6311\n",
      "Epoch 100/100\n",
      "1/1 [==============================] - 0s 1ms/step - loss: 11.5839\n"
     ]
    },
    {
     "data": {
      "text/html": [
       "<br/>Waiting for W&B process to finish, PID 7493<br/>Program ended successfully."
      ],
      "text/plain": [
       "<IPython.core.display.HTML object>"
      ]
     },
     "metadata": {},
     "output_type": "display_data"
    },
    {
     "data": {
      "application/vnd.jupyter.widget-view+json": {
       "model_id": "f46295b699c0460eac6db67e4a21a5f5",
       "version_major": 2,
       "version_minor": 0
      },
      "text/plain": [
       "VBox(children=(Label(value=' 0.00MB of 0.00MB uploaded (0.00MB deduped)\\r'), FloatProgress(value=1.0, max=1.0)…"
      ]
     },
     "metadata": {},
     "output_type": "display_data"
    },
    {
     "data": {
      "text/html": [
       "Find user logs for this run at: <code>/home/soroosh/Desktop/wandb/run-20210512_180916-2pxj6b70/logs/debug.log</code>"
      ],
      "text/plain": [
       "<IPython.core.display.HTML object>"
      ]
     },
     "metadata": {},
     "output_type": "display_data"
    },
    {
     "data": {
      "text/html": [
       "Find internal logs for this run at: <code>/home/soroosh/Desktop/wandb/run-20210512_180916-2pxj6b70/logs/debug-internal.log</code>"
      ],
      "text/plain": [
       "<IPython.core.display.HTML object>"
      ]
     },
     "metadata": {},
     "output_type": "display_data"
    },
    {
     "data": {
      "text/html": [
       "<h3>Run summary:</h3><br/><style>\n",
       "    table.wandb td:nth-child(1) { padding: 0 10px; text-align: right }\n",
       "    </style><table class=\"wandb\">\n",
       "<tr><td>mae</td><td>0.44522</td></tr><tr><td>mrae</td><td>0.1128</td></tr><tr><td>rmse</td><td>1.05568</td></tr><tr><td>_runtime</td><td>2</td></tr><tr><td>_timestamp</td><td>1620832158</td></tr><tr><td>_step</td><td>0</td></tr></table>"
      ],
      "text/plain": [
       "<IPython.core.display.HTML object>"
      ]
     },
     "metadata": {},
     "output_type": "display_data"
    },
    {
     "data": {
      "text/html": [
       "<h3>Run history:</h3><br/><style>\n",
       "    table.wandb td:nth-child(1) { padding: 0 10px; text-align: right }\n",
       "    </style><table class=\"wandb\">\n",
       "<tr><td>mae</td><td>▁</td></tr><tr><td>mrae</td><td>▁</td></tr><tr><td>rmse</td><td>▁</td></tr><tr><td>_runtime</td><td>▁</td></tr><tr><td>_timestamp</td><td>▁</td></tr><tr><td>_step</td><td>▁</td></tr></table><br/>"
      ],
      "text/plain": [
       "<IPython.core.display.HTML object>"
      ]
     },
     "metadata": {},
     "output_type": "display_data"
    },
    {
     "data": {
      "text/html": [
       "Synced 5 W&B file(s), 0 media file(s), 0 artifact file(s) and 2 other file(s)"
      ],
      "text/plain": [
       "<IPython.core.display.HTML object>"
      ]
     },
     "metadata": {},
     "output_type": "display_data"
    },
    {
     "data": {
      "text/html": [
       "\n",
       "                    <br/>Synced <strong style=\"color:#cdcd00\">MLP method</strong>: <a href=\"https://wandb.ai/sorooshi/mlp-method/runs/2pxj6b70\" target=\"_blank\">https://wandb.ai/sorooshi/mlp-method/runs/2pxj6b70</a><br/>\n",
       "                "
      ],
      "text/plain": [
       "<IPython.core.display.HTML object>"
      ]
     },
     "metadata": {},
     "output_type": "display_data"
    },
    {
     "name": "stderr",
     "output_type": "stream",
     "text": [
      "\u001b[34m\u001b[1mwandb\u001b[0m: wandb version 0.10.30 is available!  To upgrade, please run:\n",
      "\u001b[34m\u001b[1mwandb\u001b[0m:  $ pip install wandb --upgrade\n"
     ]
    },
    {
     "data": {
      "text/html": [
       "\n",
       "                Tracking run with wandb version 0.10.25<br/>\n",
       "                Syncing run <strong style=\"color:#cdcd00\">MLP method</strong> to <a href=\"https://wandb.ai\" target=\"_blank\">Weights & Biases</a> <a href=\"https://docs.wandb.com/integrations/jupyter.html\" target=\"_blank\">(Documentation)</a>.<br/>\n",
       "                Project page: <a href=\"https://wandb.ai/sorooshi/mlp-method\" target=\"_blank\">https://wandb.ai/sorooshi/mlp-method</a><br/>\n",
       "                Run page: <a href=\"https://wandb.ai/sorooshi/mlp-method/runs/1964b3r1\" target=\"_blank\">https://wandb.ai/sorooshi/mlp-method/runs/1964b3r1</a><br/>\n",
       "                Run data is saved locally in <code>/home/soroosh/Desktop/wandb/run-20210512_180922-1964b3r1</code><br/><br/>\n",
       "            "
      ],
      "text/plain": [
       "<IPython.core.display.HTML object>"
      ]
     },
     "metadata": {},
     "output_type": "display_data"
    },
    {
     "name": "stdout",
     "output_type": "stream",
     "text": [
      "Epoch 1/100\n",
      "1/1 [==============================] - 0s 132ms/step - loss: 32.5135\n",
      "Epoch 2/100\n",
      "1/1 [==============================] - 0s 1ms/step - loss: 32.4560\n",
      "Epoch 3/100\n",
      "1/1 [==============================] - 0s 1ms/step - loss: 32.4046\n",
      "Epoch 4/100\n",
      "1/1 [==============================] - 0s 1ms/step - loss: 32.3584\n",
      "Epoch 5/100\n",
      "1/1 [==============================] - 0s 1ms/step - loss: 25.2489\n",
      "Epoch 6/100\n",
      "1/1 [==============================] - 0s 1ms/step - loss: 24.9324\n",
      "Epoch 7/100\n",
      "1/1 [==============================] - 0s 1ms/step - loss: 24.7011\n",
      "Epoch 8/100\n",
      "1/1 [==============================] - 0s 1ms/step - loss: 24.5289\n",
      "Epoch 9/100\n",
      "1/1 [==============================] - 0s 1ms/step - loss: 24.4153\n",
      "Epoch 10/100\n",
      "1/1 [==============================] - 0s 1ms/step - loss: 24.3249\n",
      "Epoch 11/100\n",
      "1/1 [==============================] - 0s 1ms/step - loss: 24.2505\n",
      "Epoch 12/100\n",
      "1/1 [==============================] - 0s 2ms/step - loss: 24.1880\n",
      "Epoch 13/100\n",
      "1/1 [==============================] - 0s 1ms/step - loss: 24.1771\n",
      "Epoch 14/100\n",
      "1/1 [==============================] - 0s 1ms/step - loss: 24.1771\n",
      "Epoch 15/100\n",
      "1/1 [==============================] - 0s 1ms/step - loss: 24.1771\n",
      "Epoch 16/100\n",
      "1/1 [==============================] - 0s 1ms/step - loss: 24.1771\n",
      "Epoch 17/100\n",
      "1/1 [==============================] - 0s 927us/step - loss: 24.1771\n",
      "Epoch 18/100\n",
      "1/1 [==============================] - 0s 1ms/step - loss: 24.1771\n",
      "Epoch 19/100\n",
      "1/1 [==============================] - 0s 1ms/step - loss: 24.1771\n",
      "Epoch 20/100\n",
      "1/1 [==============================] - 0s 1ms/step - loss: 24.1771\n",
      "Epoch 21/100\n",
      "1/1 [==============================] - 0s 2ms/step - loss: 24.1771\n",
      "Epoch 22/100\n",
      "1/1 [==============================] - 0s 1ms/step - loss: 24.1771\n",
      "Epoch 23/100\n",
      "1/1 [==============================] - 0s 2ms/step - loss: 24.1771\n",
      "Epoch 24/100\n",
      "1/1 [==============================] - 0s 2ms/step - loss: 24.1771\n",
      "Epoch 25/100\n",
      "1/1 [==============================] - 0s 1ms/step - loss: 24.1771\n",
      "Epoch 26/100\n",
      "1/1 [==============================] - 0s 1ms/step - loss: 24.1771\n",
      "Epoch 27/100\n",
      "1/1 [==============================] - 0s 1ms/step - loss: 24.1771\n",
      "Epoch 28/100\n",
      "1/1 [==============================] - 0s 1ms/step - loss: 24.1771\n",
      "Epoch 29/100\n",
      "1/1 [==============================] - 0s 1ms/step - loss: 24.1771\n",
      "Epoch 30/100\n",
      "1/1 [==============================] - 0s 1ms/step - loss: 24.1771\n",
      "Epoch 31/100\n",
      "1/1 [==============================] - 0s 1ms/step - loss: 24.1771\n",
      "Epoch 32/100\n",
      "1/1 [==============================] - 0s 1ms/step - loss: 24.1771\n",
      "Epoch 33/100\n",
      "1/1 [==============================] - 0s 1ms/step - loss: 24.1771\n",
      "Epoch 34/100\n",
      "1/1 [==============================] - 0s 1ms/step - loss: 24.1771\n",
      "Epoch 35/100\n",
      "1/1 [==============================] - 0s 2ms/step - loss: 24.1771\n",
      "Epoch 36/100\n",
      "1/1 [==============================] - 0s 1ms/step - loss: 24.1771\n",
      "Epoch 37/100\n",
      "1/1 [==============================] - 0s 1000us/step - loss: 24.1771\n",
      "Epoch 38/100\n",
      "1/1 [==============================] - 0s 1ms/step - loss: 24.1771\n",
      "Epoch 39/100\n",
      "1/1 [==============================] - 0s 1ms/step - loss: 24.1771\n",
      "Epoch 40/100\n",
      "1/1 [==============================] - 0s 1ms/step - loss: 24.1771\n",
      "Epoch 41/100\n",
      "1/1 [==============================] - 0s 1ms/step - loss: 24.1771\n",
      "Epoch 42/100\n",
      "1/1 [==============================] - 0s 1ms/step - loss: 24.1771\n",
      "Epoch 43/100\n",
      "1/1 [==============================] - 0s 1ms/step - loss: 24.1771\n",
      "Epoch 44/100\n",
      "1/1 [==============================] - 0s 996us/step - loss: 24.1771\n",
      "Epoch 45/100\n",
      "1/1 [==============================] - 0s 909us/step - loss: 24.1771\n",
      "Epoch 46/100\n",
      "1/1 [==============================] - 0s 1ms/step - loss: 24.1771\n",
      "Epoch 47/100\n",
      "1/1 [==============================] - 0s 985us/step - loss: 24.1771\n",
      "Epoch 48/100\n",
      "1/1 [==============================] - 0s 1ms/step - loss: 24.1771\n",
      "Epoch 49/100\n",
      "1/1 [==============================] - 0s 1ms/step - loss: 24.1771\n",
      "Epoch 50/100\n",
      "1/1 [==============================] - 0s 1ms/step - loss: 24.1771\n",
      "Epoch 51/100\n",
      "1/1 [==============================] - 0s 1ms/step - loss: 24.1771\n",
      "Epoch 52/100\n",
      "1/1 [==============================] - 0s 1ms/step - loss: 24.1771\n",
      "Epoch 53/100\n",
      "1/1 [==============================] - 0s 983us/step - loss: 24.1771\n",
      "Epoch 54/100\n",
      "1/1 [==============================] - 0s 1ms/step - loss: 24.1771\n",
      "Epoch 55/100\n",
      "1/1 [==============================] - 0s 1ms/step - loss: 24.1771\n",
      "Epoch 56/100\n",
      "1/1 [==============================] - 0s 1ms/step - loss: 24.1771\n",
      "Epoch 57/100\n",
      "1/1 [==============================] - 0s 1ms/step - loss: 24.1771\n",
      "Epoch 58/100\n",
      "1/1 [==============================] - 0s 970us/step - loss: 24.1771\n",
      "Epoch 59/100\n",
      "1/1 [==============================] - 0s 1ms/step - loss: 24.1771\n",
      "Epoch 60/100\n",
      "1/1 [==============================] - 0s 1ms/step - loss: 24.1771\n",
      "Epoch 61/100\n",
      "1/1 [==============================] - 0s 1ms/step - loss: 24.1771\n",
      "Epoch 62/100\n",
      "1/1 [==============================] - 0s 1ms/step - loss: 24.1771\n",
      "Epoch 63/100\n",
      "1/1 [==============================] - 0s 1ms/step - loss: 24.1771\n",
      "Epoch 64/100\n",
      "1/1 [==============================] - 0s 1ms/step - loss: 24.1771\n",
      "Epoch 65/100\n",
      "1/1 [==============================] - 0s 1ms/step - loss: 24.1771\n",
      "Epoch 66/100\n",
      "1/1 [==============================] - 0s 1ms/step - loss: 24.1771\n",
      "Epoch 67/100\n",
      "1/1 [==============================] - 0s 949us/step - loss: 24.1771\n",
      "Epoch 68/100\n",
      "1/1 [==============================] - 0s 1ms/step - loss: 24.1771\n",
      "Epoch 69/100\n",
      "1/1 [==============================] - 0s 1ms/step - loss: 24.1771\n",
      "Epoch 70/100\n",
      "1/1 [==============================] - 0s 979us/step - loss: 24.1771\n",
      "Epoch 71/100\n",
      "1/1 [==============================] - 0s 1ms/step - loss: 24.1771\n",
      "Epoch 72/100\n",
      "1/1 [==============================] - 0s 1ms/step - loss: 24.1771\n",
      "Epoch 73/100\n",
      "1/1 [==============================] - 0s 1ms/step - loss: 24.1771\n",
      "Epoch 74/100\n",
      "1/1 [==============================] - 0s 1ms/step - loss: 24.1771\n",
      "Epoch 75/100\n",
      "1/1 [==============================] - 0s 964us/step - loss: 24.1771\n",
      "Epoch 76/100\n",
      "1/1 [==============================] - 0s 1ms/step - loss: 24.1771\n",
      "Epoch 77/100\n",
      "1/1 [==============================] - 0s 1ms/step - loss: 24.1771\n",
      "Epoch 78/100\n",
      "1/1 [==============================] - 0s 985us/step - loss: 24.1771\n",
      "Epoch 79/100\n",
      "1/1 [==============================] - 0s 1ms/step - loss: 24.1771\n",
      "Epoch 80/100\n",
      "1/1 [==============================] - 0s 1ms/step - loss: 24.1771\n",
      "Epoch 81/100\n",
      "1/1 [==============================] - 0s 1ms/step - loss: 24.1771\n",
      "Epoch 82/100\n",
      "1/1 [==============================] - 0s 1ms/step - loss: 24.1771\n",
      "Epoch 83/100\n",
      "1/1 [==============================] - 0s 979us/step - loss: 24.1771\n",
      "Epoch 84/100\n",
      "1/1 [==============================] - 0s 1ms/step - loss: 24.1771\n",
      "Epoch 85/100\n",
      "1/1 [==============================] - 0s 1ms/step - loss: 24.1771\n",
      "Epoch 86/100\n",
      "1/1 [==============================] - 0s 1ms/step - loss: 24.1771\n",
      "Epoch 87/100\n",
      "1/1 [==============================] - 0s 1ms/step - loss: 24.1771\n",
      "Epoch 88/100\n",
      "1/1 [==============================] - 0s 1ms/step - loss: 24.1771\n",
      "Epoch 89/100\n",
      "1/1 [==============================] - 0s 1ms/step - loss: 24.1771\n",
      "Epoch 90/100\n",
      "1/1 [==============================] - 0s 1ms/step - loss: 24.1771\n",
      "Epoch 91/100\n",
      "1/1 [==============================] - 0s 1ms/step - loss: 24.1771\n",
      "Epoch 92/100\n",
      "1/1 [==============================] - 0s 1ms/step - loss: 24.1771\n",
      "Epoch 93/100\n",
      "1/1 [==============================] - 0s 1ms/step - loss: 24.1771\n",
      "Epoch 94/100\n",
      "1/1 [==============================] - 0s 1ms/step - loss: 24.1771\n",
      "Epoch 95/100\n",
      "1/1 [==============================] - 0s 1ms/step - loss: 24.1771\n",
      "Epoch 96/100\n",
      "1/1 [==============================] - 0s 1ms/step - loss: 24.1771\n",
      "Epoch 97/100\n",
      "1/1 [==============================] - 0s 1ms/step - loss: 24.1771\n",
      "Epoch 98/100\n",
      "1/1 [==============================] - 0s 1ms/step - loss: 24.1771\n",
      "Epoch 99/100\n",
      "1/1 [==============================] - 0s 1ms/step - loss: 24.1771\n",
      "Epoch 100/100\n",
      "1/1 [==============================] - 0s 1ms/step - loss: 24.1771\n"
     ]
    },
    {
     "data": {
      "text/html": [
       "<br/>Waiting for W&B process to finish, PID 7573<br/>Program ended successfully."
      ],
      "text/plain": [
       "<IPython.core.display.HTML object>"
      ]
     },
     "metadata": {},
     "output_type": "display_data"
    },
    {
     "data": {
      "application/vnd.jupyter.widget-view+json": {
       "model_id": "9575b653ef124b439093fd6a94432cf3",
       "version_major": 2,
       "version_minor": 0
      },
      "text/plain": [
       "VBox(children=(Label(value=' 0.00MB of 0.00MB uploaded (0.00MB deduped)\\r'), FloatProgress(value=1.0, max=1.0)…"
      ]
     },
     "metadata": {},
     "output_type": "display_data"
    },
    {
     "data": {
      "text/html": [
       "Find user logs for this run at: <code>/home/soroosh/Desktop/wandb/run-20210512_180922-1964b3r1/logs/debug.log</code>"
      ],
      "text/plain": [
       "<IPython.core.display.HTML object>"
      ]
     },
     "metadata": {},
     "output_type": "display_data"
    },
    {
     "data": {
      "text/html": [
       "Find internal logs for this run at: <code>/home/soroosh/Desktop/wandb/run-20210512_180922-1964b3r1/logs/debug-internal.log</code>"
      ],
      "text/plain": [
       "<IPython.core.display.HTML object>"
      ]
     },
     "metadata": {},
     "output_type": "display_data"
    },
    {
     "data": {
      "text/html": [
       "<h3>Run summary:</h3><br/><style>\n",
       "    table.wandb td:nth-child(1) { padding: 0 10px; text-align: right }\n",
       "    </style><table class=\"wandb\">\n",
       "<tr><td>mae</td><td>3.21505</td></tr><tr><td>mrae</td><td>0.9192</td></tr><tr><td>rmse</td><td>3.71859</td></tr><tr><td>_runtime</td><td>2</td></tr><tr><td>_timestamp</td><td>1620832164</td></tr><tr><td>_step</td><td>0</td></tr></table>"
      ],
      "text/plain": [
       "<IPython.core.display.HTML object>"
      ]
     },
     "metadata": {},
     "output_type": "display_data"
    },
    {
     "data": {
      "text/html": [
       "<h3>Run history:</h3><br/><style>\n",
       "    table.wandb td:nth-child(1) { padding: 0 10px; text-align: right }\n",
       "    </style><table class=\"wandb\">\n",
       "<tr><td>mae</td><td>▁</td></tr><tr><td>mrae</td><td>▁</td></tr><tr><td>rmse</td><td>▁</td></tr><tr><td>_runtime</td><td>▁</td></tr><tr><td>_timestamp</td><td>▁</td></tr><tr><td>_step</td><td>▁</td></tr></table><br/>"
      ],
      "text/plain": [
       "<IPython.core.display.HTML object>"
      ]
     },
     "metadata": {},
     "output_type": "display_data"
    },
    {
     "data": {
      "text/html": [
       "Synced 5 W&B file(s), 0 media file(s), 0 artifact file(s) and 2 other file(s)"
      ],
      "text/plain": [
       "<IPython.core.display.HTML object>"
      ]
     },
     "metadata": {},
     "output_type": "display_data"
    },
    {
     "data": {
      "text/html": [
       "\n",
       "                    <br/>Synced <strong style=\"color:#cdcd00\">MLP method</strong>: <a href=\"https://wandb.ai/sorooshi/mlp-method/runs/1964b3r1\" target=\"_blank\">https://wandb.ai/sorooshi/mlp-method/runs/1964b3r1</a><br/>\n",
       "                "
      ],
      "text/plain": [
       "<IPython.core.display.HTML object>"
      ]
     },
     "metadata": {},
     "output_type": "display_data"
    }
   ],
   "source": [
    "\n",
    "\n",
    "for l in range(len(losses_name)):\n",
    "    loss = losses_name[l]\n",
    "    experiment_name = experiments_name[l]\n",
    "    \n",
    "\n",
    "    # 1. Start a W&B run\n",
    "    \n",
    "    run = wandb.init(name=\"MLP method\", \n",
    "                     project='mlp-method', \n",
    "                     notes = 'Vanilla MLP method: to figure out which loss function works better',\n",
    "                     entity='sorooshi',\n",
    "                     group=experiment_name\n",
    "                    )\n",
    "\n",
    "    mlp = tfk.Sequential([\n",
    "        tf.keras.layers.Dense(units=n_units,\n",
    "                              input_shape=(n_features,))\n",
    "    ])\n",
    "    \n",
    "    mlp.compile(optimizer=tfk.optimizers.Adam(learning_rate=learning_rate),\n",
    "             loss=loss)\n",
    "\n",
    "    \n",
    "    # 2. Save model inputs and hyperparameters\n",
    "    config = run.config\n",
    "    config.learning_rate = learning_rate\n",
    "    config.loss = experiment_name\n",
    "    config.n_units = n_units\n",
    "\n",
    "    callback = tf.keras.callbacks.EarlyStopping(monitor='loss', patience=5)\n",
    "\n",
    "    history = mlp.fit(x=x, y=x, epochs=n_epochs, \n",
    "                      batch_size=batch_size, \n",
    "                      # callbacks=[callback],\n",
    "                      verbose=True)\n",
    "    \n",
    "    run.log({\n",
    "        \"mae\" : mae(x, mlp.predict(x)),\n",
    "        \"mrae\" : mrae(x, mlp.predict(x)),\n",
    "        \"rmse\" : rmse(x, mlp.predict(x)),\n",
    "    })\n",
    "        \n",
    "    # Save the model\n",
    "    # model.save('path_to_my_model',save_format='tf')\n",
    "\n",
    "\n",
    "    mlp.save(os.path.join(wandb.run.dir,\n",
    "                          \"MLP\" + experiment_name + \".h5\" ))\n",
    "\n",
    "    # Recreate the exact same model purely from the file\n",
    "    # new_model = keras.models.load_model('path_to_my_model')\n",
    "\n",
    "    run.finish()\n"
   ]
  },
  {
   "cell_type": "code",
   "execution_count": 10,
   "metadata": {},
   "outputs": [
    {
     "name": "stdout",
     "output_type": "stream",
     "text": [
      "finish\n"
     ]
    }
   ],
   "source": [
    "print(\"finish\")"
   ]
  },
  {
   "cell_type": "code",
   "execution_count": 16,
   "metadata": {},
   "outputs": [
    {
     "ename": "TypeError",
     "evalue": "Cannot convert 1e-07 to EagerTensor of dtype int64",
     "output_type": "error",
     "traceback": [
      "\u001b[0;31m---------------------------------------------------------------------------\u001b[0m",
      "\u001b[0;31mTypeError\u001b[0m                                 Traceback (most recent call last)",
      "\u001b[0;32m<ipython-input-16-32761b51ecaf>\u001b[0m in \u001b[0;36m<module>\u001b[0;34m\u001b[0m\n\u001b[0;32m----> 1\u001b[0;31m \u001b[0mmlp\u001b[0m\u001b[0;34m.\u001b[0m\u001b[0mloss\u001b[0m\u001b[0;34m(\u001b[0m\u001b[0my_true\u001b[0m\u001b[0;34m=\u001b[0m\u001b[0mx\u001b[0m\u001b[0;34m,\u001b[0m \u001b[0my_pred\u001b[0m\u001b[0;34m=\u001b[0m\u001b[0mx\u001b[0m\u001b[0;34m)\u001b[0m\u001b[0;34m\u001b[0m\u001b[0;34m\u001b[0m\u001b[0m\n\u001b[0m",
      "\u001b[0;32m~/.local/lib/python3.7/site-packages/tensorflow/python/keras/losses.py\u001b[0m in \u001b[0;36m__call__\u001b[0;34m(self, y_true, y_pred, sample_weight)\u001b[0m\n\u001b[1;32m    150\u001b[0m       \u001b[0;32melse\u001b[0m\u001b[0;34m:\u001b[0m\u001b[0;34m\u001b[0m\u001b[0;34m\u001b[0m\u001b[0m\n\u001b[1;32m    151\u001b[0m         \u001b[0mcall_fn\u001b[0m \u001b[0;34m=\u001b[0m \u001b[0mautograph\u001b[0m\u001b[0;34m.\u001b[0m\u001b[0mtf_convert\u001b[0m\u001b[0;34m(\u001b[0m\u001b[0mself\u001b[0m\u001b[0;34m.\u001b[0m\u001b[0mcall\u001b[0m\u001b[0;34m,\u001b[0m \u001b[0mag_ctx\u001b[0m\u001b[0;34m.\u001b[0m\u001b[0mcontrol_status_ctx\u001b[0m\u001b[0;34m(\u001b[0m\u001b[0;34m)\u001b[0m\u001b[0;34m)\u001b[0m\u001b[0;34m\u001b[0m\u001b[0;34m\u001b[0m\u001b[0m\n\u001b[0;32m--> 152\u001b[0;31m       \u001b[0mlosses\u001b[0m \u001b[0;34m=\u001b[0m \u001b[0mcall_fn\u001b[0m\u001b[0;34m(\u001b[0m\u001b[0my_true\u001b[0m\u001b[0;34m,\u001b[0m \u001b[0my_pred\u001b[0m\u001b[0;34m)\u001b[0m\u001b[0;34m\u001b[0m\u001b[0;34m\u001b[0m\u001b[0m\n\u001b[0m\u001b[1;32m    153\u001b[0m       return losses_utils.compute_weighted_loss(\n\u001b[1;32m    154\u001b[0m           losses, sample_weight, reduction=self._get_reduction())\n",
      "\u001b[0;32m~/.local/lib/python3.7/site-packages/tensorflow/python/keras/losses.py\u001b[0m in \u001b[0;36mcall\u001b[0;34m(self, y_true, y_pred)\u001b[0m\n\u001b[1;32m    254\u001b[0m           y_pred, y_true)\n\u001b[1;32m    255\u001b[0m     \u001b[0mag_fn\u001b[0m \u001b[0;34m=\u001b[0m \u001b[0mautograph\u001b[0m\u001b[0;34m.\u001b[0m\u001b[0mtf_convert\u001b[0m\u001b[0;34m(\u001b[0m\u001b[0mself\u001b[0m\u001b[0;34m.\u001b[0m\u001b[0mfn\u001b[0m\u001b[0;34m,\u001b[0m \u001b[0mag_ctx\u001b[0m\u001b[0;34m.\u001b[0m\u001b[0mcontrol_status_ctx\u001b[0m\u001b[0;34m(\u001b[0m\u001b[0;34m)\u001b[0m\u001b[0;34m)\u001b[0m\u001b[0;34m\u001b[0m\u001b[0;34m\u001b[0m\u001b[0m\n\u001b[0;32m--> 256\u001b[0;31m     \u001b[0;32mreturn\u001b[0m \u001b[0mag_fn\u001b[0m\u001b[0;34m(\u001b[0m\u001b[0my_true\u001b[0m\u001b[0;34m,\u001b[0m \u001b[0my_pred\u001b[0m\u001b[0;34m,\u001b[0m \u001b[0;34m**\u001b[0m\u001b[0mself\u001b[0m\u001b[0;34m.\u001b[0m\u001b[0m_fn_kwargs\u001b[0m\u001b[0;34m)\u001b[0m\u001b[0;34m\u001b[0m\u001b[0;34m\u001b[0m\u001b[0m\n\u001b[0m\u001b[1;32m    257\u001b[0m \u001b[0;34m\u001b[0m\u001b[0m\n\u001b[1;32m    258\u001b[0m   \u001b[0;32mdef\u001b[0m \u001b[0mget_config\u001b[0m\u001b[0;34m(\u001b[0m\u001b[0mself\u001b[0m\u001b[0;34m)\u001b[0m\u001b[0;34m:\u001b[0m\u001b[0;34m\u001b[0m\u001b[0;34m\u001b[0m\u001b[0m\n",
      "\u001b[0;32m~/.local/lib/python3.7/site-packages/tensorflow/python/util/dispatch.py\u001b[0m in \u001b[0;36mwrapper\u001b[0;34m(*args, **kwargs)\u001b[0m\n\u001b[1;32m    199\u001b[0m     \u001b[0;34m\"\"\"Call target, and fall back on dispatchers if there is a TypeError.\"\"\"\u001b[0m\u001b[0;34m\u001b[0m\u001b[0;34m\u001b[0m\u001b[0m\n\u001b[1;32m    200\u001b[0m     \u001b[0;32mtry\u001b[0m\u001b[0;34m:\u001b[0m\u001b[0;34m\u001b[0m\u001b[0;34m\u001b[0m\u001b[0m\n\u001b[0;32m--> 201\u001b[0;31m       \u001b[0;32mreturn\u001b[0m \u001b[0mtarget\u001b[0m\u001b[0;34m(\u001b[0m\u001b[0;34m*\u001b[0m\u001b[0margs\u001b[0m\u001b[0;34m,\u001b[0m \u001b[0;34m**\u001b[0m\u001b[0mkwargs\u001b[0m\u001b[0;34m)\u001b[0m\u001b[0;34m\u001b[0m\u001b[0;34m\u001b[0m\u001b[0m\n\u001b[0m\u001b[1;32m    202\u001b[0m     \u001b[0;32mexcept\u001b[0m \u001b[0;34m(\u001b[0m\u001b[0mTypeError\u001b[0m\u001b[0;34m,\u001b[0m \u001b[0mValueError\u001b[0m\u001b[0;34m)\u001b[0m\u001b[0;34m:\u001b[0m\u001b[0;34m\u001b[0m\u001b[0;34m\u001b[0m\u001b[0m\n\u001b[1;32m    203\u001b[0m       \u001b[0;31m# Note: convert_to_eager_tensor currently raises a ValueError, not a\u001b[0m\u001b[0;34m\u001b[0m\u001b[0;34m\u001b[0m\u001b[0;34m\u001b[0m\u001b[0m\n",
      "\u001b[0;32m~/.local/lib/python3.7/site-packages/tensorflow/python/keras/losses.py\u001b[0m in \u001b[0;36mkl_divergence\u001b[0;34m(y_true, y_pred)\u001b[0m\n\u001b[1;32m   1648\u001b[0m   \u001b[0my_pred\u001b[0m \u001b[0;34m=\u001b[0m \u001b[0mops\u001b[0m\u001b[0;34m.\u001b[0m\u001b[0mconvert_to_tensor_v2_with_dispatch\u001b[0m\u001b[0;34m(\u001b[0m\u001b[0my_pred\u001b[0m\u001b[0;34m)\u001b[0m\u001b[0;34m\u001b[0m\u001b[0;34m\u001b[0m\u001b[0m\n\u001b[1;32m   1649\u001b[0m   \u001b[0my_true\u001b[0m \u001b[0;34m=\u001b[0m \u001b[0mmath_ops\u001b[0m\u001b[0;34m.\u001b[0m\u001b[0mcast\u001b[0m\u001b[0;34m(\u001b[0m\u001b[0my_true\u001b[0m\u001b[0;34m,\u001b[0m \u001b[0my_pred\u001b[0m\u001b[0;34m.\u001b[0m\u001b[0mdtype\u001b[0m\u001b[0;34m)\u001b[0m\u001b[0;34m\u001b[0m\u001b[0;34m\u001b[0m\u001b[0m\n\u001b[0;32m-> 1650\u001b[0;31m   \u001b[0my_true\u001b[0m \u001b[0;34m=\u001b[0m \u001b[0mK\u001b[0m\u001b[0;34m.\u001b[0m\u001b[0mclip\u001b[0m\u001b[0;34m(\u001b[0m\u001b[0my_true\u001b[0m\u001b[0;34m,\u001b[0m \u001b[0mK\u001b[0m\u001b[0;34m.\u001b[0m\u001b[0mepsilon\u001b[0m\u001b[0;34m(\u001b[0m\u001b[0;34m)\u001b[0m\u001b[0;34m,\u001b[0m \u001b[0;36m1\u001b[0m\u001b[0;34m)\u001b[0m\u001b[0;34m\u001b[0m\u001b[0;34m\u001b[0m\u001b[0m\n\u001b[0m\u001b[1;32m   1651\u001b[0m   \u001b[0my_pred\u001b[0m \u001b[0;34m=\u001b[0m \u001b[0mK\u001b[0m\u001b[0;34m.\u001b[0m\u001b[0mclip\u001b[0m\u001b[0;34m(\u001b[0m\u001b[0my_pred\u001b[0m\u001b[0;34m,\u001b[0m \u001b[0mK\u001b[0m\u001b[0;34m.\u001b[0m\u001b[0mepsilon\u001b[0m\u001b[0;34m(\u001b[0m\u001b[0;34m)\u001b[0m\u001b[0;34m,\u001b[0m \u001b[0;36m1\u001b[0m\u001b[0;34m)\u001b[0m\u001b[0;34m\u001b[0m\u001b[0;34m\u001b[0m\u001b[0m\n\u001b[1;32m   1652\u001b[0m   \u001b[0;32mreturn\u001b[0m \u001b[0mmath_ops\u001b[0m\u001b[0;34m.\u001b[0m\u001b[0mreduce_sum\u001b[0m\u001b[0;34m(\u001b[0m\u001b[0my_true\u001b[0m \u001b[0;34m*\u001b[0m \u001b[0mmath_ops\u001b[0m\u001b[0;34m.\u001b[0m\u001b[0mlog\u001b[0m\u001b[0;34m(\u001b[0m\u001b[0my_true\u001b[0m \u001b[0;34m/\u001b[0m \u001b[0my_pred\u001b[0m\u001b[0;34m)\u001b[0m\u001b[0;34m,\u001b[0m \u001b[0maxis\u001b[0m\u001b[0;34m=\u001b[0m\u001b[0;34m-\u001b[0m\u001b[0;36m1\u001b[0m\u001b[0;34m)\u001b[0m\u001b[0;34m\u001b[0m\u001b[0;34m\u001b[0m\u001b[0m\n",
      "\u001b[0;32m~/.local/lib/python3.7/site-packages/tensorflow/python/util/dispatch.py\u001b[0m in \u001b[0;36mwrapper\u001b[0;34m(*args, **kwargs)\u001b[0m\n\u001b[1;32m    199\u001b[0m     \u001b[0;34m\"\"\"Call target, and fall back on dispatchers if there is a TypeError.\"\"\"\u001b[0m\u001b[0;34m\u001b[0m\u001b[0;34m\u001b[0m\u001b[0m\n\u001b[1;32m    200\u001b[0m     \u001b[0;32mtry\u001b[0m\u001b[0;34m:\u001b[0m\u001b[0;34m\u001b[0m\u001b[0;34m\u001b[0m\u001b[0m\n\u001b[0;32m--> 201\u001b[0;31m       \u001b[0;32mreturn\u001b[0m \u001b[0mtarget\u001b[0m\u001b[0;34m(\u001b[0m\u001b[0;34m*\u001b[0m\u001b[0margs\u001b[0m\u001b[0;34m,\u001b[0m \u001b[0;34m**\u001b[0m\u001b[0mkwargs\u001b[0m\u001b[0;34m)\u001b[0m\u001b[0;34m\u001b[0m\u001b[0;34m\u001b[0m\u001b[0m\n\u001b[0m\u001b[1;32m    202\u001b[0m     \u001b[0;32mexcept\u001b[0m \u001b[0;34m(\u001b[0m\u001b[0mTypeError\u001b[0m\u001b[0;34m,\u001b[0m \u001b[0mValueError\u001b[0m\u001b[0;34m)\u001b[0m\u001b[0;34m:\u001b[0m\u001b[0;34m\u001b[0m\u001b[0;34m\u001b[0m\u001b[0m\n\u001b[1;32m    203\u001b[0m       \u001b[0;31m# Note: convert_to_eager_tensor currently raises a ValueError, not a\u001b[0m\u001b[0;34m\u001b[0m\u001b[0;34m\u001b[0m\u001b[0;34m\u001b[0m\u001b[0m\n",
      "\u001b[0;32m~/.local/lib/python3.7/site-packages/tensorflow/python/keras/backend.py\u001b[0m in \u001b[0;36mclip\u001b[0;34m(x, min_value, max_value)\u001b[0m\n\u001b[1;32m   2583\u001b[0m   \u001b[0;32mif\u001b[0m \u001b[0mmax_value\u001b[0m \u001b[0;32mis\u001b[0m \u001b[0;32mNone\u001b[0m\u001b[0;34m:\u001b[0m\u001b[0;34m\u001b[0m\u001b[0;34m\u001b[0m\u001b[0m\n\u001b[1;32m   2584\u001b[0m     \u001b[0mmax_value\u001b[0m \u001b[0;34m=\u001b[0m \u001b[0mnp\u001b[0m\u001b[0;34m.\u001b[0m\u001b[0minf\u001b[0m\u001b[0;34m\u001b[0m\u001b[0;34m\u001b[0m\u001b[0m\n\u001b[0;32m-> 2585\u001b[0;31m   \u001b[0;32mreturn\u001b[0m \u001b[0mclip_ops\u001b[0m\u001b[0;34m.\u001b[0m\u001b[0mclip_by_value\u001b[0m\u001b[0;34m(\u001b[0m\u001b[0mx\u001b[0m\u001b[0;34m,\u001b[0m \u001b[0mmin_value\u001b[0m\u001b[0;34m,\u001b[0m \u001b[0mmax_value\u001b[0m\u001b[0;34m)\u001b[0m\u001b[0;34m\u001b[0m\u001b[0;34m\u001b[0m\u001b[0m\n\u001b[0m\u001b[1;32m   2586\u001b[0m \u001b[0;34m\u001b[0m\u001b[0m\n\u001b[1;32m   2587\u001b[0m \u001b[0;34m\u001b[0m\u001b[0m\n",
      "\u001b[0;32m~/.local/lib/python3.7/site-packages/tensorflow/python/util/dispatch.py\u001b[0m in \u001b[0;36mwrapper\u001b[0;34m(*args, **kwargs)\u001b[0m\n\u001b[1;32m    199\u001b[0m     \u001b[0;34m\"\"\"Call target, and fall back on dispatchers if there is a TypeError.\"\"\"\u001b[0m\u001b[0;34m\u001b[0m\u001b[0;34m\u001b[0m\u001b[0m\n\u001b[1;32m    200\u001b[0m     \u001b[0;32mtry\u001b[0m\u001b[0;34m:\u001b[0m\u001b[0;34m\u001b[0m\u001b[0;34m\u001b[0m\u001b[0m\n\u001b[0;32m--> 201\u001b[0;31m       \u001b[0;32mreturn\u001b[0m \u001b[0mtarget\u001b[0m\u001b[0;34m(\u001b[0m\u001b[0;34m*\u001b[0m\u001b[0margs\u001b[0m\u001b[0;34m,\u001b[0m \u001b[0;34m**\u001b[0m\u001b[0mkwargs\u001b[0m\u001b[0;34m)\u001b[0m\u001b[0;34m\u001b[0m\u001b[0;34m\u001b[0m\u001b[0m\n\u001b[0m\u001b[1;32m    202\u001b[0m     \u001b[0;32mexcept\u001b[0m \u001b[0;34m(\u001b[0m\u001b[0mTypeError\u001b[0m\u001b[0;34m,\u001b[0m \u001b[0mValueError\u001b[0m\u001b[0;34m)\u001b[0m\u001b[0;34m:\u001b[0m\u001b[0;34m\u001b[0m\u001b[0;34m\u001b[0m\u001b[0m\n\u001b[1;32m    203\u001b[0m       \u001b[0;31m# Note: convert_to_eager_tensor currently raises a ValueError, not a\u001b[0m\u001b[0;34m\u001b[0m\u001b[0;34m\u001b[0m\u001b[0;34m\u001b[0m\u001b[0m\n",
      "\u001b[0;32m~/.local/lib/python3.7/site-packages/tensorflow/python/ops/clip_ops.py\u001b[0m in \u001b[0;36mclip_by_value\u001b[0;34m(t, clip_value_min, clip_value_max, name)\u001b[0m\n\u001b[1;32m    114\u001b[0m     \u001b[0m_\u001b[0m \u001b[0;34m=\u001b[0m \u001b[0mvalues\u001b[0m\u001b[0;34m.\u001b[0m\u001b[0mshape\u001b[0m\u001b[0;34m.\u001b[0m\u001b[0mmerge_with\u001b[0m\u001b[0;34m(\u001b[0m\u001b[0mt_min\u001b[0m\u001b[0;34m.\u001b[0m\u001b[0mshape\u001b[0m\u001b[0;34m)\u001b[0m\u001b[0;34m\u001b[0m\u001b[0;34m\u001b[0m\u001b[0m\n\u001b[1;32m    115\u001b[0m \u001b[0;34m\u001b[0m\u001b[0m\n\u001b[0;32m--> 116\u001b[0;31m     \u001b[0mt_max\u001b[0m \u001b[0;34m=\u001b[0m \u001b[0mmath_ops\u001b[0m\u001b[0;34m.\u001b[0m\u001b[0mmaximum\u001b[0m\u001b[0;34m(\u001b[0m\u001b[0mt_min\u001b[0m\u001b[0;34m,\u001b[0m \u001b[0mclip_value_min\u001b[0m\u001b[0;34m,\u001b[0m \u001b[0mname\u001b[0m\u001b[0;34m=\u001b[0m\u001b[0mname\u001b[0m\u001b[0;34m)\u001b[0m\u001b[0;34m\u001b[0m\u001b[0;34m\u001b[0m\u001b[0m\n\u001b[0m\u001b[1;32m    117\u001b[0m     \u001b[0m_\u001b[0m \u001b[0;34m=\u001b[0m \u001b[0mvalues\u001b[0m\u001b[0;34m.\u001b[0m\u001b[0mshape\u001b[0m\u001b[0;34m.\u001b[0m\u001b[0mmerge_with\u001b[0m\u001b[0;34m(\u001b[0m\u001b[0mt_max\u001b[0m\u001b[0;34m.\u001b[0m\u001b[0mshape\u001b[0m\u001b[0;34m)\u001b[0m\u001b[0;34m\u001b[0m\u001b[0;34m\u001b[0m\u001b[0m\n\u001b[1;32m    118\u001b[0m \u001b[0;34m\u001b[0m\u001b[0m\n",
      "\u001b[0;32m~/.local/lib/python3.7/site-packages/tensorflow/python/ops/gen_math_ops.py\u001b[0m in \u001b[0;36mmaximum\u001b[0;34m(x, y, name)\u001b[0m\n\u001b[1;32m   5682\u001b[0m     \u001b[0;32mtry\u001b[0m\u001b[0;34m:\u001b[0m\u001b[0;34m\u001b[0m\u001b[0;34m\u001b[0m\u001b[0m\n\u001b[1;32m   5683\u001b[0m       _result = pywrap_tfe.TFE_Py_FastPathExecute(\n\u001b[0;32m-> 5684\u001b[0;31m         _ctx, \"Maximum\", name, x, y)\n\u001b[0m\u001b[1;32m   5685\u001b[0m       \u001b[0;32mreturn\u001b[0m \u001b[0m_result\u001b[0m\u001b[0;34m\u001b[0m\u001b[0;34m\u001b[0m\u001b[0m\n\u001b[1;32m   5686\u001b[0m     \u001b[0;32mexcept\u001b[0m \u001b[0m_core\u001b[0m\u001b[0;34m.\u001b[0m\u001b[0m_NotOkStatusException\u001b[0m \u001b[0;32mas\u001b[0m \u001b[0me\u001b[0m\u001b[0;34m:\u001b[0m\u001b[0;34m\u001b[0m\u001b[0;34m\u001b[0m\u001b[0m\n",
      "\u001b[0;31mTypeError\u001b[0m: Cannot convert 1e-07 to EagerTensor of dtype int64"
     ]
    }
   ],
   "source": [
    "mlp.loss(y_true=x, y_pred=x)"
   ]
  },
  {
   "cell_type": "code",
   "execution_count": 19,
   "metadata": {},
   "outputs": [],
   "source": [
    "from sklearn.ensemble import RandomForestRegressor, GradientBoostingRegressor\n",
    "\n",
    "from joblib import dump, load"
   ]
  },
  {
   "cell_type": "code",
   "execution_count": 28,
   "metadata": {},
   "outputs": [
    {
     "data": {
      "text/html": [
       "\n",
       "                Tracking run with wandb version 0.10.25<br/>\n",
       "                Syncing run <strong style=\"color:#cdcd00\">MLP method</strong> to <a href=\"https://wandb.ai\" target=\"_blank\">Weights & Biases</a> <a href=\"https://docs.wandb.com/integrations/jupyter.html\" target=\"_blank\">(Documentation)</a>.<br/>\n",
       "                Project page: <a href=\"https://wandb.ai/sorooshi/mlp-method\" target=\"_blank\">https://wandb.ai/sorooshi/mlp-method</a><br/>\n",
       "                Run page: <a href=\"https://wandb.ai/sorooshi/mlp-method/runs/11sgx1w2\" target=\"_blank\">https://wandb.ai/sorooshi/mlp-method/runs/11sgx1w2</a><br/>\n",
       "                Run data is saved locally in <code>/home/soroosh/Desktop/wandb/run-20210413_011418-11sgx1w2</code><br/><br/>\n",
       "            "
      ],
      "text/plain": [
       "<IPython.core.display.HTML object>"
      ]
     },
     "metadata": {},
     "output_type": "display_data"
    }
   ],
   "source": [
    "\n",
    "\n",
    "run = wandb.init(name=\"MLP method\", \n",
    "                     project='mlp-method', \n",
    "                     notes = 'Vanilla MLP method: to figure out which loss function works better',\n",
    "                     entity='sorooshi',\n",
    "                     group='RF'\n",
    "                    )"
   ]
  },
  {
   "cell_type": "code",
   "execution_count": 60,
   "metadata": {},
   "outputs": [
    {
     "name": "stderr",
     "output_type": "stream",
     "text": [
      "[Parallel(n_jobs=-2)]: Using backend ThreadingBackend with 15 concurrent workers.\n",
      "[Parallel(n_jobs=-2)]: Done  20 tasks      | elapsed:    0.0s\n",
      "[Parallel(n_jobs=-2)]: Done 100 out of 100 | elapsed:    0.1s finished\n",
      "[Parallel(n_jobs=15)]: Using backend ThreadingBackend with 15 concurrent workers.\n",
      "[Parallel(n_jobs=15)]: Done  20 tasks      | elapsed:    0.0s\n",
      "[Parallel(n_jobs=15)]: Done 100 out of 100 | elapsed:    0.0s finished\n"
     ]
    }
   ],
   "source": [
    "rf_reg = RandomForestRegressor(n_estimators=100, \n",
    "                               n_jobs=-2, \n",
    "                               criterion='mse', \n",
    "                               min_samples_leaf=1,\n",
    "                               verbose=1)\n",
    "    \n",
    "rf_reg.fit(x, x)\n",
    "\n",
    "x_preds_rf = rf_reg.predict(x)\n",
    "    \n",
    "    "
   ]
  },
  {
   "cell_type": "code",
   "execution_count": 30,
   "metadata": {},
   "outputs": [
    {
     "data": {
      "text/html": [
       "<br/>Waiting for W&B process to finish, PID 15614<br/>Program ended successfully."
      ],
      "text/plain": [
       "<IPython.core.display.HTML object>"
      ]
     },
     "metadata": {},
     "output_type": "display_data"
    },
    {
     "data": {
      "application/vnd.jupyter.widget-view+json": {
       "model_id": "7508769db16e46be83b7b6533062dcf6",
       "version_major": 2,
       "version_minor": 0
      },
      "text/plain": [
       "VBox(children=(Label(value=' 0.00MB of 0.00MB uploaded (0.00MB deduped)\\r'), FloatProgress(value=1.0, max=1.0)…"
      ]
     },
     "metadata": {},
     "output_type": "display_data"
    },
    {
     "data": {
      "text/html": [
       "Find user logs for this run at: <code>/home/soroosh/Desktop/wandb/run-20210413_011418-11sgx1w2/logs/debug.log</code>"
      ],
      "text/plain": [
       "<IPython.core.display.HTML object>"
      ]
     },
     "metadata": {},
     "output_type": "display_data"
    },
    {
     "data": {
      "text/html": [
       "Find internal logs for this run at: <code>/home/soroosh/Desktop/wandb/run-20210413_011418-11sgx1w2/logs/debug-internal.log</code>"
      ],
      "text/plain": [
       "<IPython.core.display.HTML object>"
      ]
     },
     "metadata": {},
     "output_type": "display_data"
    },
    {
     "data": {
      "text/html": [
       "<h3>Run summary:</h3><br/><style>\n",
       "    table.wandb td:nth-child(1) { padding: 0 10px; text-align: right }\n",
       "    </style><table class=\"wandb\">\n",
       "<tr><td>mae</td><td>6.54271</td></tr><tr><td>mrae</td><td>2.13689</td></tr><tr><td>rmse</td><td>8.11196</td></tr><tr><td>_runtime</td><td>7</td></tr><tr><td>_timestamp</td><td>1618265665</td></tr><tr><td>_step</td><td>0</td></tr></table>"
      ],
      "text/plain": [
       "<IPython.core.display.HTML object>"
      ]
     },
     "metadata": {},
     "output_type": "display_data"
    },
    {
     "data": {
      "text/html": [
       "<h3>Run history:</h3><br/><style>\n",
       "    table.wandb td:nth-child(1) { padding: 0 10px; text-align: right }\n",
       "    </style><table class=\"wandb\">\n",
       "<tr><td>mae</td><td>▁</td></tr><tr><td>mrae</td><td>▁</td></tr><tr><td>rmse</td><td>▁</td></tr><tr><td>_runtime</td><td>▁</td></tr><tr><td>_timestamp</td><td>▁</td></tr><tr><td>_step</td><td>▁</td></tr></table><br/>"
      ],
      "text/plain": [
       "<IPython.core.display.HTML object>"
      ]
     },
     "metadata": {},
     "output_type": "display_data"
    },
    {
     "data": {
      "text/html": [
       "Synced 5 W&B file(s), 0 media file(s), 0 artifact file(s) and 2 other file(s)"
      ],
      "text/plain": [
       "<IPython.core.display.HTML object>"
      ]
     },
     "metadata": {},
     "output_type": "display_data"
    },
    {
     "data": {
      "text/html": [
       "\n",
       "                    <br/>Synced <strong style=\"color:#cdcd00\">MLP method</strong>: <a href=\"https://wandb.ai/sorooshi/mlp-method/runs/11sgx1w2\" target=\"_blank\">https://wandb.ai/sorooshi/mlp-method/runs/11sgx1w2</a><br/>\n",
       "                "
      ],
      "text/plain": [
       "<IPython.core.display.HTML object>"
      ]
     },
     "metadata": {},
     "output_type": "display_data"
    }
   ],
   "source": [
    "# filename = \"rf_reg-\" + name +  \"-.joblib\"\n",
    "dump(rf_reg, os.path.join(wandb.run.dir,\n",
    "                          \"RF-\" + \"experiment_name\" + \".joblib\" ) )\n",
    "\n",
    "run.log({\n",
    "    \"mae\" : mae(x, mlp.predict(x)),\n",
    "    \"mrae\" : mrae(x, mlp.predict(x)),\n",
    "    \"rmse\" : rmse(x, mlp.predict(x)),\n",
    "})\n",
    "        \n",
    "run.finish()"
   ]
  },
  {
   "cell_type": "code",
   "execution_count": 26,
   "metadata": {},
   "outputs": [],
   "source": [
    "\n"
   ]
  },
  {
   "cell_type": "code",
   "execution_count": null,
   "metadata": {},
   "outputs": [],
   "source": [
    "\n",
    "\n"
   ]
  },
  {
   "cell_type": "markdown",
   "metadata": {},
   "source": [
    "1. MAE  : 2.6526409313082695\n",
    "\n",
    "2. MSE  : 1.0456066777308781\n",
    "\n",
    "3. MRAE : 5.888582201053699\n",
    "\n",
    "4. COSS : 3.802344910800457\n",
    "\n",
    "5. KLD  : 2.9339942882458367"
   ]
  },
  {
   "cell_type": "code",
   "execution_count": null,
   "metadata": {},
   "outputs": [],
   "source": []
  },
  {
   "cell_type": "code",
   "execution_count": 83,
   "metadata": {},
   "outputs": [],
   "source": [
    "def init_a_wandb(name, project, notes, group):\n",
    "    \n",
    "    \"\"\" name := the within the project name, e.g., RF-reg-1\n",
    "        project := the project name, e.g., Non-sequential Regressions \n",
    "        notes := Description, e.g., Non-sequential Regressions Comparison for SuperOX\n",
    "        group := name of experiment or the algorithm under consideration, e.g., RF-1\n",
    "        \n",
    "    \n",
    "    \"\"\"\n",
    "    \n",
    "    run = wandb.init(name=name, \n",
    "                     project=project, \n",
    "                     notes = notes,\n",
    "                     entity='sorooshi',\n",
    "                     group=group\n",
    "                    )\n",
    "        \n",
    "    return run\n",
    "\n"
   ]
  },
  {
   "cell_type": "code",
   "execution_count": 84,
   "metadata": {},
   "outputs": [],
   "source": [
    "def wandb_metrics(run, y_preds, y_trues):\n",
    "    \n",
    "    run.log({\n",
    "        \"MAE\" : mae(y_trues=y_trues, y_preds=y_preds),\n",
    "        \"MRAE\" : mrae(y_trues=y_trues, y_preds=y_preds),\n",
    "        \"RMSE\" : rmse(y_trues=y_trues, y_preds=y_preds),\n",
    "        \"R^2-Score\": metrics.r2_score(y_trues, y_preds)\n",
    "    })\n",
    "    \n",
    "    \n",
    "    return run\n",
    "\n"
   ]
  },
  {
   "cell_type": "code",
   "execution_count": 85,
   "metadata": {},
   "outputs": [],
   "source": [
    "def save_model(run, model, name, experiment_name):\n",
    "    if name == \"rf\" or name == \"gbr\":\n",
    "        dump(model, os.path.join(wandb.run.dir,\n",
    "                          name + experiment_name + \".joblib\"))\n",
    "    else:\n",
    "        model.save(os.path.join(wandb.run.dir,\n",
    "                                name + experiment_name + \".h5\"))\n",
    "    return run\n"
   ]
  },
  {
   "cell_type": "code",
   "execution_count": 90,
   "metadata": {},
   "outputs": [
    {
     "data": {
      "text/html": [
       "Finishing last run (ID:3f9m2gfs) before initializing another..."
      ],
      "text/plain": [
       "<IPython.core.display.HTML object>"
      ]
     },
     "metadata": {},
     "output_type": "display_data"
    },
    {
     "data": {
      "text/html": [
       "<br/>Waiting for W&B process to finish, PID 18008<br/>Program ended successfully."
      ],
      "text/plain": [
       "<IPython.core.display.HTML object>"
      ]
     },
     "metadata": {},
     "output_type": "display_data"
    },
    {
     "data": {
      "application/vnd.jupyter.widget-view+json": {
       "model_id": "1e802e131f12489fb5e1abca1e8818ac",
       "version_major": 2,
       "version_minor": 0
      },
      "text/plain": [
       "VBox(children=(Label(value=' 0.00MB of 0.00MB uploaded (0.00MB deduped)\\r'), FloatProgress(value=1.0, max=1.0)…"
      ]
     },
     "metadata": {},
     "output_type": "display_data"
    },
    {
     "data": {
      "text/html": [
       "Find user logs for this run at: <code>/home/soroosh/Desktop/wandb/run-20210413_142303-3f9m2gfs/logs/debug.log</code>"
      ],
      "text/plain": [
       "<IPython.core.display.HTML object>"
      ]
     },
     "metadata": {},
     "output_type": "display_data"
    },
    {
     "data": {
      "text/html": [
       "Find internal logs for this run at: <code>/home/soroosh/Desktop/wandb/run-20210413_142303-3f9m2gfs/logs/debug-internal.log</code>"
      ],
      "text/plain": [
       "<IPython.core.display.HTML object>"
      ]
     },
     "metadata": {},
     "output_type": "display_data"
    },
    {
     "data": {
      "text/html": [
       "<h3>Run summary:</h3><br/><style>\n",
       "    table.wandb td:nth-child(1) { padding: 0 10px; text-align: right }\n",
       "    </style><table class=\"wandb\">\n",
       "<tr><td>MAE</td><td>0.645</td></tr><tr><td>MRAE</td><td>0.2725</td></tr><tr><td>RMSE</td><td>0.64657</td></tr><tr><td>R^2-Score</td><td>0.8142</td></tr><tr><td>_runtime</td><td>2</td></tr><tr><td>_timestamp</td><td>1618312988</td></tr><tr><td>_step</td><td>0</td></tr></table>"
      ],
      "text/plain": [
       "<IPython.core.display.HTML object>"
      ]
     },
     "metadata": {},
     "output_type": "display_data"
    },
    {
     "data": {
      "text/html": [
       "<h3>Run history:</h3><br/><style>\n",
       "    table.wandb td:nth-child(1) { padding: 0 10px; text-align: right }\n",
       "    </style><table class=\"wandb\">\n",
       "<tr><td>MAE</td><td>▁</td></tr><tr><td>MRAE</td><td>▁</td></tr><tr><td>RMSE</td><td>▁</td></tr><tr><td>R^2-Score</td><td>▁</td></tr><tr><td>_runtime</td><td>▁</td></tr><tr><td>_timestamp</td><td>▁</td></tr><tr><td>_step</td><td>▁</td></tr></table><br/>"
      ],
      "text/plain": [
       "<IPython.core.display.HTML object>"
      ]
     },
     "metadata": {},
     "output_type": "display_data"
    },
    {
     "data": {
      "text/html": [
       "Synced 4 W&B file(s), 0 media file(s), 0 artifact file(s) and 0 other file(s)"
      ],
      "text/plain": [
       "<IPython.core.display.HTML object>"
      ]
     },
     "metadata": {},
     "output_type": "display_data"
    },
    {
     "data": {
      "text/html": [
       "\n",
       "                    <br/>Synced <strong style=\"color:#cdcd00\">dulcet-leaf-2</strong>: <a href=\"https://wandb.ai/sorooshi/Non-sequential%20Regressions/runs/3f9m2gfs\" target=\"_blank\">https://wandb.ai/sorooshi/Non-sequential%20Regressions/runs/3f9m2gfs</a><br/>\n",
       "                "
      ],
      "text/plain": [
       "<IPython.core.display.HTML object>"
      ]
     },
     "metadata": {},
     "output_type": "display_data"
    },
    {
     "data": {
      "text/html": [
       "...Successfully finished last run (ID:3f9m2gfs). Initializing new run:<br/><br/>"
      ],
      "text/plain": [
       "<IPython.core.display.HTML object>"
      ]
     },
     "metadata": {},
     "output_type": "display_data"
    },
    {
     "data": {
      "text/html": [
       "\n",
       "                Tracking run with wandb version 0.10.25<br/>\n",
       "                Syncing run <strong style=\"color:#cdcd00\">icy-frost-3</strong> to <a href=\"https://wandb.ai\" target=\"_blank\">Weights & Biases</a> <a href=\"https://docs.wandb.com/integrations/jupyter.html\" target=\"_blank\">(Documentation)</a>.<br/>\n",
       "                Project page: <a href=\"https://wandb.ai/sorooshi/Non-sequential%20Regressions\" target=\"_blank\">https://wandb.ai/sorooshi/Non-sequential%20Regressions</a><br/>\n",
       "                Run page: <a href=\"https://wandb.ai/sorooshi/Non-sequential%20Regressions/runs/2cvdwuyw\" target=\"_blank\">https://wandb.ai/sorooshi/Non-sequential%20Regressions/runs/2cvdwuyw</a><br/>\n",
       "                Run data is saved locally in <code>/home/soroosh/Desktop/wandb/run-20210413_142327-2cvdwuyw</code><br/><br/>\n",
       "            "
      ],
      "text/plain": [
       "<IPython.core.display.HTML object>"
      ]
     },
     "metadata": {},
     "output_type": "display_data"
    }
   ],
   "source": [
    "A = init_a_wandb(name=None, \n",
    "                 project=\"Non-sequential Regressions\", \n",
    "                 notes=\"Non-sequential Regressions Comparison for SuperOX\", \n",
    "                 group=\"RF\")\n",
    "\n"
   ]
  },
  {
   "cell_type": "code",
   "execution_count": 91,
   "metadata": {},
   "outputs": [],
   "source": [
    "wandb_metrics(run=A, y_trues=x, y_preds=x_preds_rf)"
   ]
  },
  {
   "cell_type": "code",
   "execution_count": null,
   "metadata": {},
   "outputs": [],
   "source": []
  },
  {
   "cell_type": "code",
   "execution_count": null,
   "metadata": {},
   "outputs": [],
   "source": []
  },
  {
   "cell_type": "code",
   "execution_count": null,
   "metadata": {},
   "outputs": [],
   "source": []
  },
  {
   "cell_type": "code",
   "execution_count": 5,
   "metadata": {},
   "outputs": [
    {
     "name": "stderr",
     "output_type": "stream",
     "text": [
      "100%|██████████| 10000000/10000000 [00:03<00:00, 2890479.31it/s]\n"
     ]
    }
   ],
   "source": [
    "tmp = 0\n",
    "from tqdm import tqdm\n",
    "for i in tqdm(range(10000000)):\n",
    "    tmp += i"
   ]
  },
  {
   "cell_type": "code",
   "execution_count": null,
   "metadata": {},
   "outputs": [],
   "source": []
  }
 ],
 "metadata": {
  "kernelspec": {
   "display_name": "tfGvenv",
   "language": "python",
   "name": "tfgvenv"
  },
  "language_info": {
   "codemirror_mode": {
    "name": "ipython",
    "version": 3
   },
   "file_extension": ".py",
   "mimetype": "text/x-python",
   "name": "python",
   "nbconvert_exporter": "python",
   "pygments_lexer": "ipython3",
   "version": "3.6.9"
  }
 },
 "nbformat": 4,
 "nbformat_minor": 4
}
