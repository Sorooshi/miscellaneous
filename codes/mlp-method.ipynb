{
 "cells": [
  {
   "cell_type": "code",
   "execution_count": 1,
   "metadata": {},
   "outputs": [
    {
     "name": "stderr",
     "output_type": "stream",
     "text": [
      "2023-08-10 15:12:05.981380: W tensorflow/stream_executor/platform/default/dso_loader.cc:64] Could not load dynamic library 'libcudart.so.11.0'; dlerror: libcudart.so.11.0: cannot open shared object file: No such file or directory\n",
      "2023-08-10 15:12:05.981432: I tensorflow/stream_executor/cuda/cudart_stub.cc:29] Ignore above cudart dlerror if you do not have a GPU set up on your machine.\n"
     ]
    }
   ],
   "source": [
    "import os\n",
    "import wandb\n",
    "\n",
    "import numpy as np\n",
    "import tensorflow as tf\n",
    "import tensorflow.keras as tfk\n",
    "\n",
    "from sklearn import metrics"
   ]
  },
  {
   "cell_type": "code",
   "execution_count": 2,
   "metadata": {},
   "outputs": [],
   "source": [
    "def mae(y_trues, y_preds):\n",
    "    if not isinstance(y_trues, np.ndarray):\n",
    "        y_trues = np.asarray(y_trues)\n",
    "\n",
    "    if not isinstance(y_preds, np.ndarray):\n",
    "        y_preds = np.asarray(y_preds)\n",
    "\n",
    "    return np.mean(np.abs(y_trues-y_preds))\n",
    "\n",
    "def rmse(y_trues, y_preds):\n",
    "    if not isinstance(y_trues, np.ndarray):\n",
    "        y_trues = np.asarray(y_trues)\n",
    "\n",
    "    if not isinstance(y_preds, np.ndarray):\n",
    "        y_preds = np.asarray(y_preds)\n",
    "\n",
    "    return np.sqrt(np.mean(np.power(y_trues-y_preds, 2)))\n",
    "\n",
    "\n",
    "def mrae(y_trues, y_preds):\n",
    "    if not isinstance(y_trues, np.ndarray):\n",
    "        y_trues = np.asarray(y_trues)\n",
    "\n",
    "    if not isinstance(y_preds, np.ndarray):\n",
    "        y_preds = np.asarray(y_preds)\n",
    "    return np.mean(np.abs(np.divide(y_trues -y_preds, y_trues)))"
   ]
  },
  {
   "cell_type": "code",
   "execution_count": null,
   "metadata": {},
   "outputs": [],
   "source": []
  },
  {
   "cell_type": "code",
   "execution_count": null,
   "metadata": {},
   "outputs": [],
   "source": []
  },
  {
   "cell_type": "code",
   "execution_count": 3,
   "metadata": {},
   "outputs": [
    {
     "data": {
      "text/plain": [
       "array([[1, 2, 3],\n",
       "       [4, 5, 6]])"
      ]
     },
     "execution_count": 3,
     "metadata": {},
     "output_type": "execute_result"
    }
   ],
   "source": [
    "x = np.array([[1, 2, 3], \n",
    "              [4, 5, 6]])\n",
    "x"
   ]
  },
  {
   "cell_type": "code",
   "execution_count": 4,
   "metadata": {},
   "outputs": [
    {
     "data": {
      "text/plain": [
       "array([1, 2])"
      ]
     },
     "execution_count": 4,
     "metadata": {},
     "output_type": "execute_result"
    }
   ],
   "source": [
    "y = np.array([1, 2])\n",
    "y"
   ]
  },
  {
   "cell_type": "code",
   "execution_count": 8,
   "metadata": {},
   "outputs": [
    {
     "data": {
      "text/plain": [
       "3"
      ]
     },
     "execution_count": 8,
     "metadata": {},
     "output_type": "execute_result"
    }
   ],
   "source": [
    "n_units = n_features = x.shape[1]\n",
    "learning_rate = 1e-2\n",
    "batch_size = 2\n",
    "n_epochs = 100\n",
    "\n",
    "n_units"
   ]
  },
  {
   "cell_type": "code",
   "execution_count": 5,
   "metadata": {},
   "outputs": [],
   "source": [
    "class MLP (tf.keras.Model):\n",
    "    def __init__(self, n_units, n_features, name=\"test\", **kwargs):\n",
    "        super(MLP, self).__init__(name=name, **kwargs)\n",
    "        self.n_units = n_units\n",
    "        self.n_features = n_features\n",
    "        \n",
    "        self.dense_1 = tf.keras.layers.Dense(units=self.n_units,\n",
    "                                             input_shape=(self.n_features,))\n",
    "        self.dense_2 = tf.keras.layers.Dense(units=self.n_units, )\n",
    "        \n",
    "    def call (self, inputs):\n",
    "        x = self.dense_1(inputs)\n",
    "#         x = self.dense_2(x)\n",
    "        return x"
   ]
  },
  {
   "cell_type": "code",
   "execution_count": 6,
   "metadata": {},
   "outputs": [],
   "source": [
    "losses_name = [tfk.losses.MeanAbsoluteError(), \n",
    "               tfk.losses.MeanSquaredError(), \n",
    "               tfk.losses.MeanAbsolutePercentageError(),\n",
    "               tfk.losses.KLDivergence(),\n",
    "              ]\n",
    "\n",
    "\n",
    "experiments_name = [\"MAE\", \"MSE\", \"MRAE\", \"KLD\"]\n",
    "\n"
   ]
  },
  {
   "cell_type": "code",
   "execution_count": 10,
   "metadata": {},
   "outputs": [
    {
     "data": {
      "text/html": [
       "Finishing last run (ID:1sclipff) before initializing another..."
      ],
      "text/plain": [
       "<IPython.core.display.HTML object>"
      ]
     },
     "metadata": {},
     "output_type": "display_data"
    },
    {
     "data": {
      "text/html": [
       "<br/>Waiting for W&B process to finish, PID 3215578... <strong style=\"color:green\">(success).</strong>"
      ],
      "text/plain": [
       "<IPython.core.display.HTML object>"
      ]
     },
     "metadata": {},
     "output_type": "display_data"
    },
    {
     "data": {
      "application/vnd.jupyter.widget-view+json": {
       "model_id": "",
       "version_major": 2,
       "version_minor": 0
      },
      "text/plain": [
       "VBox(children=(Label(value=' 0.06MB of 0.06MB uploaded (0.00MB deduped)\\r'), FloatProgress(value=1.0, max=1.0)…"
      ]
     },
     "metadata": {},
     "output_type": "display_data"
    },
    {
     "data": {
      "text/html": [
       "<style>\n",
       "    table.wandb td:nth-child(1) { padding: 0 10px; text-align: right }\n",
       "    .wandb-row { display: flex; flex-direction: row; flex-wrap: wrap; width: 100% }\n",
       "    .wandb-col { display: flex; flex-direction: column; flex-basis: 100%; flex: 1; padding: 10px; }\n",
       "    </style>\n",
       "<div class=\"wandb-row\"><div class=\"wandb-col\">\n",
       "<h3>Run history:</h3><br/><table class=\"wandb\"><tr><td>mae</td><td>▁</td></tr><tr><td>mrae</td><td>▁</td></tr><tr><td>rmse</td><td>▁</td></tr></table><br/></div><div class=\"wandb-col\">\n",
       "<h3>Run summary:</h3><br/><table class=\"wandb\"><tr><td>mae</td><td>0.32918</td></tr><tr><td>mrae</td><td>0.21306</td></tr><tr><td>rmse</td><td>0.49812</td></tr></table>\n",
       "</div></div>\n",
       "Synced 6 W&B file(s), 0 media file(s), 0 artifact file(s) and 0 other file(s)\n",
       "<br/>Synced <strong style=\"color:#cdcd00\">MLP method</strong>: <a href=\"https://wandb.ai/sorooshi/mlp-method/runs/1sclipff\" target=\"_blank\">https://wandb.ai/sorooshi/mlp-method/runs/1sclipff</a><br/>\n",
       "Find logs at: <code>./wandb/run-20230810_151414-1sclipff/logs</code><br/>\n"
      ],
      "text/plain": [
       "<IPython.core.display.HTML object>"
      ]
     },
     "metadata": {},
     "output_type": "display_data"
    },
    {
     "data": {
      "text/html": [
       "Successfully finished last run (ID:1sclipff). Initializing new run:<br/>"
      ],
      "text/plain": [
       "<IPython.core.display.HTML object>"
      ]
     },
     "metadata": {},
     "output_type": "display_data"
    },
    {
     "name": "stderr",
     "output_type": "stream",
     "text": [
      "\u001b[34m\u001b[1mwandb\u001b[0m: wandb version 0.15.8 is available!  To upgrade, please run:\n",
      "\u001b[34m\u001b[1mwandb\u001b[0m:  $ pip install wandb --upgrade\n",
      "2023-08-10 15:15:28.295943: W tensorflow/stream_executor/platform/default/dso_loader.cc:64] Could not load dynamic library 'libcudart.so.11.0'; dlerror: libcudart.so.11.0: cannot open shared object file: No such file or directory\n"
     ]
    },
    {
     "data": {
      "text/html": [
       "\n",
       "                    Syncing run <strong><a href=\"https://wandb.ai/sorooshi/mlp-method/runs/xty9ouu7\" target=\"_blank\">MLP method</a></strong> to <a href=\"https://wandb.ai/sorooshi/mlp-method\" target=\"_blank\">Weights & Biases</a> (<a href=\"https://docs.wandb.com/integrations/jupyter.html\" target=\"_blank\">docs</a>).<br/>\n",
       "\n",
       "                "
      ],
      "text/plain": [
       "<IPython.core.display.HTML object>"
      ]
     },
     "metadata": {},
     "output_type": "display_data"
    },
    {
     "name": "stdout",
     "output_type": "stream",
     "text": [
      "Epoch 1/100\n",
      "1/1 [==============================] - 0s 94ms/step - loss: 4.2018\n",
      "Epoch 2/100\n",
      "1/1 [==============================] - 0s 964us/step - loss: 4.0868\n",
      "Epoch 3/100\n",
      "1/1 [==============================] - 0s 879us/step - loss: 3.9718\n",
      "Epoch 4/100\n",
      "1/1 [==============================] - 0s 1ms/step - loss: 3.8568\n",
      "Epoch 5/100\n",
      "1/1 [==============================] - 0s 1ms/step - loss: 3.7418\n",
      "Epoch 6/100\n",
      "1/1 [==============================] - 0s 866us/step - loss: 3.6268\n",
      "Epoch 7/100\n",
      "1/1 [==============================] - 0s 920us/step - loss: 3.5118\n",
      "Epoch 8/100\n",
      "1/1 [==============================] - 0s 842us/step - loss: 3.3968\n",
      "Epoch 9/100\n",
      "1/1 [==============================] - 0s 796us/step - loss: 3.2818\n",
      "Epoch 10/100\n",
      "1/1 [==============================] - 0s 985us/step - loss: 3.1902\n",
      "Epoch 11/100\n",
      "1/1 [==============================] - 0s 1ms/step - loss: 3.1257\n",
      "Epoch 12/100\n",
      "1/1 [==============================] - 0s 1ms/step - loss: 3.0587\n",
      "Epoch 13/100\n",
      "1/1 [==============================] - 0s 824us/step - loss: 2.9896\n",
      "Epoch 14/100\n",
      "1/1 [==============================] - 0s 834us/step - loss: 2.9186\n",
      "Epoch 15/100\n",
      "1/1 [==============================] - 0s 805us/step - loss: 2.8460\n",
      "Epoch 16/100\n",
      "1/1 [==============================] - 0s 887us/step - loss: 2.7720\n",
      "Epoch 17/100\n",
      "1/1 [==============================] - 0s 1ms/step - loss: 2.6966\n",
      "Epoch 18/100\n",
      "1/1 [==============================] - 0s 1ms/step - loss: 2.6201\n",
      "Epoch 19/100\n",
      "1/1 [==============================] - 0s 4ms/step - loss: 2.5426\n",
      "Epoch 20/100\n",
      "1/1 [==============================] - 0s 2ms/step - loss: 2.4641\n",
      "Epoch 21/100\n",
      "1/1 [==============================] - 0s 1ms/step - loss: 2.3849\n",
      "Epoch 22/100\n",
      "1/1 [==============================] - 0s 945us/step - loss: 2.3048\n",
      "Epoch 23/100\n",
      "1/1 [==============================] - 0s 834us/step - loss: 2.2241\n",
      "Epoch 24/100\n",
      "1/1 [==============================] - 0s 862us/step - loss: 2.1427\n",
      "Epoch 25/100\n",
      "1/1 [==============================] - 0s 976us/step - loss: 2.0608\n",
      "Epoch 26/100\n",
      "1/1 [==============================] - 0s 1ms/step - loss: 1.9783\n",
      "Epoch 27/100\n",
      "1/1 [==============================] - 0s 2ms/step - loss: 1.8954\n",
      "Epoch 28/100\n",
      "1/1 [==============================] - 0s 3ms/step - loss: 1.8121\n",
      "Epoch 29/100\n",
      "1/1 [==============================] - 0s 2ms/step - loss: 1.7283\n",
      "Epoch 30/100\n",
      "1/1 [==============================] - 0s 2ms/step - loss: 1.6442\n",
      "Epoch 31/100\n",
      "1/1 [==============================] - 0s 1ms/step - loss: 1.5615\n",
      "Epoch 32/100\n",
      "1/1 [==============================] - 0s 1ms/step - loss: 1.4936\n",
      "Epoch 33/100\n",
      "1/1 [==============================] - 0s 1ms/step - loss: 1.4187\n",
      "Epoch 34/100\n",
      "1/1 [==============================] - 0s 1ms/step - loss: 1.3378\n",
      "Epoch 35/100\n",
      "1/1 [==============================] - 0s 1ms/step - loss: 1.2518\n",
      "Epoch 36/100\n",
      "1/1 [==============================] - 0s 1ms/step - loss: 1.1781\n",
      "Epoch 37/100\n",
      "1/1 [==============================] - 0s 981us/step - loss: 1.1046\n",
      "Epoch 38/100\n",
      "1/1 [==============================] - 0s 881us/step - loss: 1.0298\n",
      "Epoch 39/100\n",
      "1/1 [==============================] - 0s 957us/step - loss: 0.9614\n",
      "Epoch 40/100\n",
      "1/1 [==============================] - 0s 1ms/step - loss: 0.9085\n",
      "Epoch 41/100\n",
      "1/1 [==============================] - 0s 1ms/step - loss: 0.8552\n",
      "Epoch 42/100\n",
      "1/1 [==============================] - 0s 2ms/step - loss: 0.8016\n",
      "Epoch 43/100\n",
      "1/1 [==============================] - 0s 2ms/step - loss: 0.7785\n",
      "Epoch 44/100\n",
      "1/1 [==============================] - 0s 2ms/step - loss: 0.7608\n",
      "Epoch 45/100\n",
      "1/1 [==============================] - 0s 1ms/step - loss: 0.7360\n",
      "Epoch 46/100\n",
      "1/1 [==============================] - 0s 1ms/step - loss: 0.7088\n",
      "Epoch 47/100\n",
      "1/1 [==============================] - 0s 1ms/step - loss: 0.6798\n",
      "Epoch 48/100\n",
      "1/1 [==============================] - 0s 2ms/step - loss: 0.6400\n",
      "Epoch 49/100\n",
      "1/1 [==============================] - 0s 2ms/step - loss: 0.5969\n",
      "Epoch 50/100\n",
      "1/1 [==============================] - 0s 1ms/step - loss: 0.5539\n",
      "Epoch 51/100\n",
      "1/1 [==============================] - 0s 999us/step - loss: 0.5063\n",
      "Epoch 52/100\n",
      "1/1 [==============================] - 0s 944us/step - loss: 0.4548\n",
      "Epoch 53/100\n",
      "1/1 [==============================] - 0s 1ms/step - loss: 0.4064\n",
      "Epoch 54/100\n",
      "1/1 [==============================] - 0s 935us/step - loss: 0.3720\n",
      "Epoch 55/100\n",
      "1/1 [==============================] - 0s 1ms/step - loss: 0.3378\n",
      "Epoch 56/100\n",
      "1/1 [==============================] - 0s 4ms/step - loss: 0.3269\n",
      "Epoch 57/100\n",
      "1/1 [==============================] - 0s 2ms/step - loss: 0.3203\n",
      "Epoch 58/100\n",
      "1/1 [==============================] - 0s 1ms/step - loss: 0.3142\n",
      "Epoch 59/100\n",
      "1/1 [==============================] - 0s 854us/step - loss: 0.3062\n",
      "Epoch 60/100\n",
      "1/1 [==============================] - 0s 777us/step - loss: 0.2966\n",
      "Epoch 61/100\n",
      "1/1 [==============================] - 0s 866us/step - loss: 0.2855\n",
      "Epoch 62/100\n",
      "1/1 [==============================] - 0s 1ms/step - loss: 0.2797\n",
      "Epoch 63/100\n",
      "1/1 [==============================] - 0s 1ms/step - loss: 0.2686\n",
      "Epoch 64/100\n",
      "1/1 [==============================] - 0s 983us/step - loss: 0.2535\n",
      "Epoch 65/100\n",
      "1/1 [==============================] - 0s 908us/step - loss: 0.2430\n",
      "Epoch 66/100\n",
      "1/1 [==============================] - 0s 992us/step - loss: 0.2598\n",
      "Epoch 67/100\n",
      "1/1 [==============================] - 0s 823us/step - loss: 0.2724\n",
      "Epoch 68/100\n",
      "1/1 [==============================] - 0s 891us/step - loss: 0.2780\n",
      "Epoch 69/100\n",
      "1/1 [==============================] - 0s 767us/step - loss: 0.2798\n",
      "Epoch 70/100\n",
      "1/1 [==============================] - 0s 725us/step - loss: 0.2757\n",
      "Epoch 71/100\n",
      "1/1 [==============================] - 0s 751us/step - loss: 0.2668\n",
      "Epoch 72/100\n",
      "1/1 [==============================] - 0s 935us/step - loss: 0.2546\n",
      "Epoch 73/100\n",
      "1/1 [==============================] - 0s 893us/step - loss: 0.2384\n",
      "Epoch 74/100\n",
      "1/1 [==============================] - 0s 762us/step - loss: 0.2178\n",
      "Epoch 75/100\n",
      "1/1 [==============================] - 0s 778us/step - loss: 0.1965\n",
      "Epoch 76/100\n",
      "1/1 [==============================] - 0s 938us/step - loss: 0.2031\n",
      "Epoch 77/100\n",
      "1/1 [==============================] - 0s 921us/step - loss: 0.2090\n",
      "Epoch 78/100\n",
      "1/1 [==============================] - 0s 922us/step - loss: 0.2100\n",
      "Epoch 79/100\n",
      "1/1 [==============================] - 0s 834us/step - loss: 0.2062\n",
      "Epoch 80/100\n",
      "1/1 [==============================] - 0s 917us/step - loss: 0.2094\n",
      "Epoch 81/100\n",
      "1/1 [==============================] - 0s 779us/step - loss: 0.2098\n",
      "Epoch 82/100\n",
      "1/1 [==============================] - 0s 709us/step - loss: 0.2097\n",
      "Epoch 83/100\n",
      "1/1 [==============================] - 0s 686us/step - loss: 0.2063\n",
      "Epoch 84/100\n",
      "1/1 [==============================] - 0s 908us/step - loss: 0.2026\n",
      "Epoch 85/100\n",
      "1/1 [==============================] - 0s 1ms/step - loss: 0.1993\n",
      "Epoch 86/100\n",
      "1/1 [==============================] - 0s 846us/step - loss: 0.1953\n",
      "Epoch 87/100\n",
      "1/1 [==============================] - 0s 781us/step - loss: 0.1928\n",
      "Epoch 88/100\n",
      "1/1 [==============================] - 0s 899us/step - loss: 0.1885\n",
      "Epoch 89/100\n",
      "1/1 [==============================] - 0s 743us/step - loss: 0.1836\n",
      "Epoch 90/100\n",
      "1/1 [==============================] - 0s 868us/step - loss: 0.1769\n",
      "Epoch 91/100\n",
      "1/1 [==============================] - 0s 734us/step - loss: 0.1697\n",
      "Epoch 92/100\n",
      "1/1 [==============================] - 0s 741us/step - loss: 0.1644\n",
      "Epoch 93/100\n",
      "1/1 [==============================] - 0s 680us/step - loss: 0.1672\n",
      "Epoch 94/100\n",
      "1/1 [==============================] - 0s 725us/step - loss: 0.1711\n",
      "Epoch 95/100\n",
      "1/1 [==============================] - 0s 664us/step - loss: 0.1707\n",
      "Epoch 96/100\n",
      "1/1 [==============================] - 0s 832us/step - loss: 0.1646\n",
      "Epoch 97/100\n",
      "1/1 [==============================] - 0s 1ms/step - loss: 0.1549\n",
      "Epoch 98/100\n",
      "1/1 [==============================] - 0s 770us/step - loss: 0.1532\n",
      "Epoch 99/100\n",
      "1/1 [==============================] - 0s 715us/step - loss: 0.1566\n",
      "Epoch 100/100\n",
      "1/1 [==============================] - 0s 900us/step - loss: 0.1608\n"
     ]
    },
    {
     "data": {
      "text/html": [
       "<br/>Waiting for W&B process to finish, PID 3215759... <strong style=\"color:green\">(success).</strong>"
      ],
      "text/plain": [
       "<IPython.core.display.HTML object>"
      ]
     },
     "metadata": {},
     "output_type": "display_data"
    },
    {
     "data": {
      "application/vnd.jupyter.widget-view+json": {
       "model_id": "",
       "version_major": 2,
       "version_minor": 0
      },
      "text/plain": [
       "VBox(children=(Label(value=' 0.06MB of 0.06MB uploaded (0.00MB deduped)\\r'), FloatProgress(value=1.0, max=1.0)…"
      ]
     },
     "metadata": {},
     "output_type": "display_data"
    },
    {
     "data": {
      "text/html": [
       "<style>\n",
       "    table.wandb td:nth-child(1) { padding: 0 10px; text-align: right }\n",
       "    .wandb-row { display: flex; flex-direction: row; flex-wrap: wrap; width: 100% }\n",
       "    .wandb-col { display: flex; flex-direction: column; flex-basis: 100%; flex: 1; padding: 10px; }\n",
       "    </style>\n",
       "<div class=\"wandb-row\"><div class=\"wandb-col\">\n",
       "<h3>Run history:</h3><br/><table class=\"wandb\"><tr><td>mae</td><td>▁</td></tr><tr><td>mrae</td><td>▁</td></tr><tr><td>rmse</td><td>▁</td></tr></table><br/></div><div class=\"wandb-col\">\n",
       "<h3>Run summary:</h3><br/><table class=\"wandb\"><tr><td>mae</td><td>0.15596</td></tr><tr><td>mrae</td><td>0.10656</td></tr><tr><td>rmse</td><td>0.23052</td></tr></table>\n",
       "</div></div>\n",
       "Synced 6 W&B file(s), 0 media file(s), 0 artifact file(s) and 1 other file(s)\n",
       "<br/>Synced <strong style=\"color:#cdcd00\">MLP method</strong>: <a href=\"https://wandb.ai/sorooshi/mlp-method/runs/xty9ouu7\" target=\"_blank\">https://wandb.ai/sorooshi/mlp-method/runs/xty9ouu7</a><br/>\n",
       "Find logs at: <code>./wandb/run-20230810_151522-xty9ouu7/logs</code><br/>\n"
      ],
      "text/plain": [
       "<IPython.core.display.HTML object>"
      ]
     },
     "metadata": {},
     "output_type": "display_data"
    },
    {
     "name": "stderr",
     "output_type": "stream",
     "text": [
      "\u001b[34m\u001b[1mwandb\u001b[0m: wandb version 0.15.8 is available!  To upgrade, please run:\n",
      "\u001b[34m\u001b[1mwandb\u001b[0m:  $ pip install wandb --upgrade\n",
      "2023-08-10 15:15:35.666904: W tensorflow/stream_executor/platform/default/dso_loader.cc:64] Could not load dynamic library 'libcudart.so.11.0'; dlerror: libcudart.so.11.0: cannot open shared object file: No such file or directory\n"
     ]
    },
    {
     "data": {
      "text/html": [
       "\n",
       "                    Syncing run <strong><a href=\"https://wandb.ai/sorooshi/mlp-method/runs/3ui6ryfo\" target=\"_blank\">MLP method</a></strong> to <a href=\"https://wandb.ai/sorooshi/mlp-method\" target=\"_blank\">Weights & Biases</a> (<a href=\"https://docs.wandb.com/integrations/jupyter.html\" target=\"_blank\">docs</a>).<br/>\n",
       "\n",
       "                "
      ],
      "text/plain": [
       "<IPython.core.display.HTML object>"
      ]
     },
     "metadata": {},
     "output_type": "display_data"
    },
    {
     "name": "stdout",
     "output_type": "stream",
     "text": [
      "Epoch 1/100\n",
      "1/1 [==============================] - 0s 104ms/step - loss: 10.9165\n",
      "Epoch 2/100\n",
      "1/1 [==============================] - 0s 870us/step - loss: 10.1598\n",
      "Epoch 3/100\n",
      "1/1 [==============================] - 0s 736us/step - loss: 9.4346\n",
      "Epoch 4/100\n",
      "1/1 [==============================] - 0s 721us/step - loss: 8.7412\n",
      "Epoch 5/100\n",
      "1/1 [==============================] - 0s 693us/step - loss: 8.0802\n",
      "Epoch 6/100\n",
      "1/1 [==============================] - 0s 751us/step - loss: 7.4518\n",
      "Epoch 7/100\n",
      "1/1 [==============================] - 0s 690us/step - loss: 6.8562\n",
      "Epoch 8/100\n",
      "1/1 [==============================] - 0s 755us/step - loss: 6.2935\n",
      "Epoch 9/100\n",
      "1/1 [==============================] - 0s 931us/step - loss: 5.7638\n",
      "Epoch 10/100\n",
      "1/1 [==============================] - 0s 3ms/step - loss: 5.2669\n",
      "Epoch 11/100\n",
      "1/1 [==============================] - 0s 2ms/step - loss: 4.8024\n",
      "Epoch 12/100\n",
      "1/1 [==============================] - 0s 885us/step - loss: 4.3699\n",
      "Epoch 13/100\n",
      "1/1 [==============================] - 0s 812us/step - loss: 3.9688\n",
      "Epoch 14/100\n",
      "1/1 [==============================] - 0s 971us/step - loss: 3.5984\n",
      "Epoch 15/100\n",
      "1/1 [==============================] - 0s 718us/step - loss: 3.2577\n",
      "Epoch 16/100\n",
      "1/1 [==============================] - 0s 683us/step - loss: 2.9457\n",
      "Epoch 17/100\n",
      "1/1 [==============================] - 0s 686us/step - loss: 2.6611\n",
      "Epoch 18/100\n",
      "1/1 [==============================] - 0s 863us/step - loss: 2.4026\n",
      "Epoch 19/100\n",
      "1/1 [==============================] - 0s 1ms/step - loss: 2.1688\n",
      "Epoch 20/100\n",
      "1/1 [==============================] - 0s 2ms/step - loss: 1.9580\n",
      "Epoch 21/100\n",
      "1/1 [==============================] - 0s 1ms/step - loss: 1.7687\n",
      "Epoch 22/100\n",
      "1/1 [==============================] - 0s 919us/step - loss: 1.5992\n",
      "Epoch 23/100\n",
      "1/1 [==============================] - 0s 733us/step - loss: 1.4476\n",
      "Epoch 24/100\n",
      "1/1 [==============================] - 0s 944us/step - loss: 1.3125\n",
      "Epoch 25/100\n",
      "1/1 [==============================] - 0s 888us/step - loss: 1.1921\n",
      "Epoch 26/100\n",
      "1/1 [==============================] - 0s 816us/step - loss: 1.0848\n",
      "Epoch 27/100\n",
      "1/1 [==============================] - 0s 718us/step - loss: 0.9891\n",
      "Epoch 28/100\n",
      "1/1 [==============================] - 0s 680us/step - loss: 0.9037\n",
      "Epoch 29/100\n",
      "1/1 [==============================] - 0s 764us/step - loss: 0.8273\n",
      "Epoch 30/100\n",
      "1/1 [==============================] - 0s 1ms/step - loss: 0.7587\n",
      "Epoch 31/100\n",
      "1/1 [==============================] - 0s 2ms/step - loss: 0.6969\n",
      "Epoch 32/100\n",
      "1/1 [==============================] - 0s 2ms/step - loss: 0.6411\n",
      "Epoch 33/100\n",
      "1/1 [==============================] - 0s 891us/step - loss: 0.5906\n",
      "Epoch 34/100\n",
      "1/1 [==============================] - 0s 829us/step - loss: 0.5448\n",
      "Epoch 35/100\n",
      "1/1 [==============================] - 0s 763us/step - loss: 0.5030\n",
      "Epoch 36/100\n",
      "1/1 [==============================] - 0s 759us/step - loss: 0.4650\n",
      "Epoch 37/100\n",
      "1/1 [==============================] - 0s 747us/step - loss: 0.4304\n",
      "Epoch 38/100\n",
      "1/1 [==============================] - 0s 722us/step - loss: 0.3989\n",
      "Epoch 39/100\n",
      "1/1 [==============================] - 0s 734us/step - loss: 0.3703\n",
      "Epoch 40/100\n",
      "1/1 [==============================] - 0s 941us/step - loss: 0.3445\n",
      "Epoch 41/100\n",
      "1/1 [==============================] - 0s 3ms/step - loss: 0.3213\n",
      "Epoch 42/100\n",
      "1/1 [==============================] - 0s 1ms/step - loss: 0.3006\n",
      "Epoch 43/100\n",
      "1/1 [==============================] - 0s 919us/step - loss: 0.2823\n",
      "Epoch 44/100\n",
      "1/1 [==============================] - 0s 767us/step - loss: 0.2662\n",
      "Epoch 45/100\n",
      "1/1 [==============================] - 0s 827us/step - loss: 0.2522\n",
      "Epoch 46/100\n",
      "1/1 [==============================] - 0s 811us/step - loss: 0.2402\n",
      "Epoch 47/100\n",
      "1/1 [==============================] - 0s 860us/step - loss: 0.2301\n",
      "Epoch 48/100\n",
      "1/1 [==============================] - 0s 732us/step - loss: 0.2217\n",
      "Epoch 49/100\n",
      "1/1 [==============================] - 0s 962us/step - loss: 0.2148\n",
      "Epoch 50/100\n",
      "1/1 [==============================] - 0s 2ms/step - loss: 0.2092\n",
      "Epoch 51/100\n",
      "1/1 [==============================] - 0s 1ms/step - loss: 0.2049\n",
      "Epoch 52/100\n",
      "1/1 [==============================] - 0s 876us/step - loss: 0.2016\n",
      "Epoch 53/100\n",
      "1/1 [==============================] - 0s 793us/step - loss: 0.1992\n",
      "Epoch 54/100\n",
      "1/1 [==============================] - 0s 733us/step - loss: 0.1975\n",
      "Epoch 55/100\n",
      "1/1 [==============================] - 0s 899us/step - loss: 0.1964\n",
      "Epoch 56/100\n",
      "1/1 [==============================] - 0s 928us/step - loss: 0.1956\n",
      "Epoch 57/100\n",
      "1/1 [==============================] - 0s 770us/step - loss: 0.1952\n",
      "Epoch 58/100\n",
      "1/1 [==============================] - 0s 918us/step - loss: 0.1949\n",
      "Epoch 59/100\n",
      "1/1 [==============================] - 0s 1ms/step - loss: 0.1947\n",
      "Epoch 60/100\n",
      "1/1 [==============================] - 0s 1ms/step - loss: 0.1946\n",
      "Epoch 61/100\n",
      "1/1 [==============================] - 0s 1ms/step - loss: 0.1944\n",
      "Epoch 62/100\n",
      "1/1 [==============================] - 0s 758us/step - loss: 0.1941\n",
      "Epoch 63/100\n",
      "1/1 [==============================] - 0s 723us/step - loss: 0.1936\n",
      "Epoch 64/100\n",
      "1/1 [==============================] - 0s 679us/step - loss: 0.1930\n",
      "Epoch 65/100\n",
      "1/1 [==============================] - 0s 772us/step - loss: 0.1923\n",
      "Epoch 66/100\n",
      "1/1 [==============================] - 0s 773us/step - loss: 0.1914\n",
      "Epoch 67/100\n",
      "1/1 [==============================] - 0s 818us/step - loss: 0.1904\n",
      "Epoch 68/100\n",
      "1/1 [==============================] - 0s 799us/step - loss: 0.1892\n",
      "Epoch 69/100\n",
      "1/1 [==============================] - 0s 810us/step - loss: 0.1880\n",
      "Epoch 70/100\n",
      "1/1 [==============================] - 0s 1ms/step - loss: 0.1866\n",
      "Epoch 71/100\n",
      "1/1 [==============================] - 0s 1ms/step - loss: 0.1851\n",
      "Epoch 72/100\n",
      "1/1 [==============================] - 0s 1ms/step - loss: 0.1836\n",
      "Epoch 73/100\n",
      "1/1 [==============================] - 0s 1ms/step - loss: 0.1820\n",
      "Epoch 74/100\n",
      "1/1 [==============================] - 0s 878us/step - loss: 0.1804\n",
      "Epoch 75/100\n",
      "1/1 [==============================] - 0s 815us/step - loss: 0.1788\n",
      "Epoch 76/100\n",
      "1/1 [==============================] - 0s 795us/step - loss: 0.1772\n",
      "Epoch 77/100\n",
      "1/1 [==============================] - 0s 727us/step - loss: 0.1756\n",
      "Epoch 78/100\n",
      "1/1 [==============================] - 0s 742us/step - loss: 0.1740\n",
      "Epoch 79/100\n",
      "1/1 [==============================] - 0s 775us/step - loss: 0.1725\n",
      "Epoch 80/100\n",
      "1/1 [==============================] - 0s 1ms/step - loss: 0.1709\n",
      "Epoch 81/100\n",
      "1/1 [==============================] - 0s 1ms/step - loss: 0.1694\n",
      "Epoch 82/100\n",
      "1/1 [==============================] - 0s 870us/step - loss: 0.1680\n",
      "Epoch 83/100\n",
      "1/1 [==============================] - 0s 803us/step - loss: 0.1666\n",
      "Epoch 84/100\n",
      "1/1 [==============================] - 0s 825us/step - loss: 0.1652\n",
      "Epoch 85/100\n",
      "1/1 [==============================] - 0s 735us/step - loss: 0.1638\n",
      "Epoch 86/100\n",
      "1/1 [==============================] - 0s 745us/step - loss: 0.1625\n",
      "Epoch 87/100\n",
      "1/1 [==============================] - 0s 709us/step - loss: 0.1613\n",
      "Epoch 88/100\n",
      "1/1 [==============================] - 0s 697us/step - loss: 0.1600\n",
      "Epoch 89/100\n",
      "1/1 [==============================] - 0s 887us/step - loss: 0.1589\n",
      "Epoch 90/100\n",
      "1/1 [==============================] - 0s 800us/step - loss: 0.1577\n",
      "Epoch 91/100\n",
      "1/1 [==============================] - 0s 983us/step - loss: 0.1565\n",
      "Epoch 92/100\n",
      "1/1 [==============================] - 0s 1ms/step - loss: 0.1554\n",
      "Epoch 93/100\n",
      "1/1 [==============================] - 0s 835us/step - loss: 0.1544\n",
      "Epoch 94/100\n",
      "1/1 [==============================] - 0s 830us/step - loss: 0.1533\n",
      "Epoch 95/100\n",
      "1/1 [==============================] - 0s 809us/step - loss: 0.1522\n",
      "Epoch 96/100\n",
      "1/1 [==============================] - 0s 848us/step - loss: 0.1512\n",
      "Epoch 97/100\n",
      "1/1 [==============================] - 0s 791us/step - loss: 0.1502\n",
      "Epoch 98/100\n",
      "1/1 [==============================] - 0s 704us/step - loss: 0.1492\n",
      "Epoch 99/100\n",
      "1/1 [==============================] - 0s 689us/step - loss: 0.1482\n",
      "Epoch 100/100\n",
      "1/1 [==============================] - 0s 758us/step - loss: 0.1472\n"
     ]
    },
    {
     "data": {
      "text/html": [
       "<br/>Waiting for W&B process to finish, PID 3215901... <strong style=\"color:green\">(success).</strong>"
      ],
      "text/plain": [
       "<IPython.core.display.HTML object>"
      ]
     },
     "metadata": {},
     "output_type": "display_data"
    },
    {
     "data": {
      "application/vnd.jupyter.widget-view+json": {
       "model_id": "",
       "version_major": 2,
       "version_minor": 0
      },
      "text/plain": [
       "VBox(children=(Label(value=' 0.07MB of 0.07MB uploaded (0.00MB deduped)\\r'), FloatProgress(value=1.0, max=1.0)…"
      ]
     },
     "metadata": {},
     "output_type": "display_data"
    },
    {
     "data": {
      "text/html": [
       "<style>\n",
       "    table.wandb td:nth-child(1) { padding: 0 10px; text-align: right }\n",
       "    .wandb-row { display: flex; flex-direction: row; flex-wrap: wrap; width: 100% }\n",
       "    .wandb-col { display: flex; flex-direction: column; flex-basis: 100%; flex: 1; padding: 10px; }\n",
       "    </style>\n",
       "<div class=\"wandb-row\"><div class=\"wandb-col\">\n",
       "<h3>Run history:</h3><br/><table class=\"wandb\"><tr><td>mae</td><td>▁</td></tr><tr><td>mrae</td><td>▁</td></tr><tr><td>rmse</td><td>▁</td></tr></table><br/></div><div class=\"wandb-col\">\n",
       "<h3>Run summary:</h3><br/><table class=\"wandb\"><tr><td>mae</td><td>0.24125</td></tr><tr><td>mrae</td><td>0.1688</td></tr><tr><td>rmse</td><td>0.38236</td></tr></table>\n",
       "</div></div>\n",
       "Synced 6 W&B file(s), 0 media file(s), 0 artifact file(s) and 1 other file(s)\n",
       "<br/>Synced <strong style=\"color:#cdcd00\">MLP method</strong>: <a href=\"https://wandb.ai/sorooshi/mlp-method/runs/3ui6ryfo\" target=\"_blank\">https://wandb.ai/sorooshi/mlp-method/runs/3ui6ryfo</a><br/>\n",
       "Find logs at: <code>./wandb/run-20230810_151534-3ui6ryfo/logs</code><br/>\n"
      ],
      "text/plain": [
       "<IPython.core.display.HTML object>"
      ]
     },
     "metadata": {},
     "output_type": "display_data"
    },
    {
     "name": "stderr",
     "output_type": "stream",
     "text": [
      "\u001b[34m\u001b[1mwandb\u001b[0m: wandb version 0.15.8 is available!  To upgrade, please run:\n",
      "\u001b[34m\u001b[1mwandb\u001b[0m:  $ pip install wandb --upgrade\n",
      "2023-08-10 15:15:42.966161: W tensorflow/stream_executor/platform/default/dso_loader.cc:64] Could not load dynamic library 'libcudart.so.11.0'; dlerror: libcudart.so.11.0: cannot open shared object file: No such file or directory\n"
     ]
    },
    {
     "data": {
      "text/html": [
       "\n",
       "                    Syncing run <strong><a href=\"https://wandb.ai/sorooshi/mlp-method/runs/7u9217xr\" target=\"_blank\">MLP method</a></strong> to <a href=\"https://wandb.ai/sorooshi/mlp-method\" target=\"_blank\">Weights & Biases</a> (<a href=\"https://docs.wandb.com/integrations/jupyter.html\" target=\"_blank\">docs</a>).<br/>\n",
       "\n",
       "                "
      ],
      "text/plain": [
       "<IPython.core.display.HTML object>"
      ]
     },
     "metadata": {},
     "output_type": "display_data"
    },
    {
     "name": "stdout",
     "output_type": "stream",
     "text": [
      "Epoch 1/100\n",
      "1/1 [==============================] - 0s 132ms/step - loss: 129.4614\n",
      "Epoch 2/100\n",
      "1/1 [==============================] - 0s 2ms/step - loss: 125.6781\n",
      "Epoch 3/100\n",
      "1/1 [==============================] - 0s 2ms/step - loss: 121.8947\n",
      "Epoch 4/100\n",
      "1/1 [==============================] - 0s 2ms/step - loss: 118.1114\n",
      "Epoch 5/100\n",
      "1/1 [==============================] - 0s 830us/step - loss: 114.3281\n",
      "Epoch 6/100\n",
      "1/1 [==============================] - 0s 1ms/step - loss: 110.5447\n",
      "Epoch 7/100\n",
      "1/1 [==============================] - 0s 2ms/step - loss: 106.7614\n",
      "Epoch 8/100\n",
      "1/1 [==============================] - 0s 924us/step - loss: 102.9781\n",
      "Epoch 9/100\n",
      "1/1 [==============================] - 0s 772us/step - loss: 99.1947\n",
      "Epoch 10/100\n",
      "1/1 [==============================] - 0s 732us/step - loss: 95.4114\n",
      "Epoch 11/100\n",
      "1/1 [==============================] - 0s 697us/step - loss: 91.6281\n",
      "Epoch 12/100\n",
      "1/1 [==============================] - 0s 683us/step - loss: 89.3570\n",
      "Epoch 13/100\n",
      "1/1 [==============================] - 0s 890us/step - loss: 87.8263\n",
      "Epoch 14/100\n",
      "1/1 [==============================] - 0s 931us/step - loss: 86.5126\n",
      "Epoch 15/100\n",
      "1/1 [==============================] - 0s 834us/step - loss: 85.6279\n",
      "Epoch 16/100\n",
      "1/1 [==============================] - 0s 790us/step - loss: 84.6890\n",
      "Epoch 17/100\n",
      "1/1 [==============================] - 0s 2ms/step - loss: 83.7779\n",
      "Epoch 18/100\n",
      "1/1 [==============================] - 0s 2ms/step - loss: 83.2438\n",
      "Epoch 19/100\n",
      "1/1 [==============================] - 0s 1ms/step - loss: 82.5081\n",
      "Epoch 20/100\n",
      "1/1 [==============================] - 0s 3ms/step - loss: 81.5978\n",
      "Epoch 21/100\n",
      "1/1 [==============================] - 0s 1ms/step - loss: 80.5354\n",
      "Epoch 22/100\n",
      "1/1 [==============================] - 0s 828us/step - loss: 79.3399\n",
      "Epoch 23/100\n",
      "1/1 [==============================] - 0s 797us/step - loss: 78.0274\n",
      "Epoch 24/100\n",
      "1/1 [==============================] - 0s 1ms/step - loss: 76.6118\n",
      "Epoch 25/100\n",
      "1/1 [==============================] - 0s 2ms/step - loss: 75.1051\n",
      "Epoch 26/100\n",
      "1/1 [==============================] - 0s 1ms/step - loss: 73.6994\n",
      "Epoch 27/100\n",
      "1/1 [==============================] - 0s 4ms/step - loss: 72.4868\n",
      "Epoch 28/100\n",
      "1/1 [==============================] - 0s 1ms/step - loss: 71.2522\n",
      "Epoch 29/100\n",
      "1/1 [==============================] - 0s 991us/step - loss: 69.9976\n",
      "Epoch 30/100\n",
      "1/1 [==============================] - 0s 849us/step - loss: 68.7244\n",
      "Epoch 31/100\n",
      "1/1 [==============================] - 0s 2ms/step - loss: 67.4342\n",
      "Epoch 32/100\n",
      "1/1 [==============================] - 0s 2ms/step - loss: 66.1285\n",
      "Epoch 33/100\n",
      "1/1 [==============================] - 0s 1ms/step - loss: 64.8083\n",
      "Epoch 34/100\n",
      "1/1 [==============================] - 0s 863us/step - loss: 63.4749\n",
      "Epoch 35/100\n",
      "1/1 [==============================] - 0s 869us/step - loss: 62.1843\n",
      "Epoch 36/100\n",
      "1/1 [==============================] - 0s 811us/step - loss: 60.8454\n",
      "Epoch 37/100\n",
      "1/1 [==============================] - 0s 1ms/step - loss: 59.3969\n",
      "Epoch 38/100\n",
      "1/1 [==============================] - 0s 902us/step - loss: 58.0152\n",
      "Epoch 39/100\n",
      "1/1 [==============================] - 0s 872us/step - loss: 56.6251\n",
      "Epoch 40/100\n",
      "1/1 [==============================] - 0s 904us/step - loss: 55.2271\n",
      "Epoch 41/100\n",
      "1/1 [==============================] - 0s 2ms/step - loss: 53.8218\n",
      "Epoch 42/100\n",
      "1/1 [==============================] - 0s 1ms/step - loss: 52.8759\n",
      "Epoch 43/100\n",
      "1/1 [==============================] - 0s 1ms/step - loss: 52.0325\n",
      "Epoch 44/100\n",
      "1/1 [==============================] - 0s 3ms/step - loss: 50.8451\n",
      "Epoch 45/100\n",
      "1/1 [==============================] - 0s 1ms/step - loss: 49.3615\n",
      "Epoch 46/100\n",
      "1/1 [==============================] - 0s 1ms/step - loss: 47.7367\n",
      "Epoch 47/100\n",
      "1/1 [==============================] - 0s 1ms/step - loss: 46.6498\n",
      "Epoch 48/100\n",
      "1/1 [==============================] - 0s 2ms/step - loss: 45.5277\n",
      "Epoch 49/100\n",
      "1/1 [==============================] - 0s 1ms/step - loss: 44.3734\n",
      "Epoch 50/100\n",
      "1/1 [==============================] - 0s 871us/step - loss: 43.1899\n",
      "Epoch 51/100\n",
      "1/1 [==============================] - 0s 774us/step - loss: 41.9796\n",
      "Epoch 52/100\n",
      "1/1 [==============================] - 0s 916us/step - loss: 40.7448\n",
      "Epoch 53/100\n",
      "1/1 [==============================] - 0s 926us/step - loss: 39.5179\n",
      "Epoch 54/100\n",
      "1/1 [==============================] - 0s 842us/step - loss: 38.2393\n",
      "Epoch 55/100\n",
      "1/1 [==============================] - 0s 885us/step - loss: 36.9518\n",
      "Epoch 56/100\n",
      "1/1 [==============================] - 0s 793us/step - loss: 35.8681\n",
      "Epoch 57/100\n",
      "1/1 [==============================] - 0s 846us/step - loss: 34.6945\n",
      "Epoch 58/100\n",
      "1/1 [==============================] - 0s 2ms/step - loss: 33.3544\n",
      "Epoch 59/100\n",
      "1/1 [==============================] - 0s 2ms/step - loss: 32.2090\n",
      "Epoch 60/100\n",
      "1/1 [==============================] - 0s 2ms/step - loss: 31.0328\n",
      "Epoch 61/100\n",
      "1/1 [==============================] - 0s 4ms/step - loss: 29.8458\n",
      "Epoch 62/100\n",
      "1/1 [==============================] - 0s 2ms/step - loss: 28.5960\n",
      "Epoch 63/100\n",
      "1/1 [==============================] - 0s 909us/step - loss: 27.3405\n",
      "Epoch 64/100\n",
      "1/1 [==============================] - 0s 1ms/step - loss: 26.3222\n",
      "Epoch 65/100\n",
      "1/1 [==============================] - 0s 2ms/step - loss: 25.0307\n",
      "Epoch 66/100\n",
      "1/1 [==============================] - 0s 1ms/step - loss: 23.8683\n",
      "Epoch 67/100\n",
      "1/1 [==============================] - 0s 882us/step - loss: 22.7201\n",
      "Epoch 68/100\n",
      "1/1 [==============================] - 0s 865us/step - loss: 21.5788\n",
      "Epoch 69/100\n",
      "1/1 [==============================] - 0s 818us/step - loss: 20.4527\n",
      "Epoch 70/100\n",
      "1/1 [==============================] - 0s 796us/step - loss: 19.1993\n",
      "Epoch 71/100\n",
      "1/1 [==============================] - 0s 873us/step - loss: 18.0280\n",
      "Epoch 72/100\n",
      "1/1 [==============================] - 0s 875us/step - loss: 16.8009\n",
      "Epoch 73/100\n",
      "1/1 [==============================] - 0s 1ms/step - loss: 15.5613\n",
      "Epoch 74/100\n",
      "1/1 [==============================] - 0s 2ms/step - loss: 14.6582\n",
      "Epoch 75/100\n",
      "1/1 [==============================] - 0s 1ms/step - loss: 13.4566\n",
      "Epoch 76/100\n",
      "1/1 [==============================] - 0s 2ms/step - loss: 12.0680\n",
      "Epoch 77/100\n",
      "1/1 [==============================] - 0s 3ms/step - loss: 11.9587\n",
      "Epoch 78/100\n",
      "1/1 [==============================] - 0s 2ms/step - loss: 11.9996\n",
      "Epoch 79/100\n",
      "1/1 [==============================] - 0s 1ms/step - loss: 11.9380\n",
      "Epoch 80/100\n",
      "1/1 [==============================] - 0s 2ms/step - loss: 11.9128\n",
      "Epoch 81/100\n",
      "1/1 [==============================] - 0s 1ms/step - loss: 11.7956\n",
      "Epoch 82/100\n",
      "1/1 [==============================] - 0s 1ms/step - loss: 11.8822\n",
      "Epoch 83/100\n",
      "1/1 [==============================] - 0s 1ms/step - loss: 11.7552\n",
      "Epoch 84/100\n",
      "1/1 [==============================] - 0s 830us/step - loss: 11.7126\n",
      "Epoch 85/100\n",
      "1/1 [==============================] - 0s 955us/step - loss: 11.9059\n",
      "Epoch 86/100\n",
      "1/1 [==============================] - 0s 873us/step - loss: 11.9658\n",
      "Epoch 87/100\n",
      "1/1 [==============================] - 0s 1ms/step - loss: 11.8668\n",
      "Epoch 88/100\n",
      "1/1 [==============================] - 0s 1ms/step - loss: 11.6261\n",
      "Epoch 89/100\n",
      "1/1 [==============================] - 0s 1ms/step - loss: 11.8725\n",
      "Epoch 90/100\n",
      "1/1 [==============================] - 0s 1ms/step - loss: 12.0371\n",
      "Epoch 91/100\n",
      "1/1 [==============================] - 0s 4ms/step - loss: 11.9183\n",
      "Epoch 92/100\n",
      "1/1 [==============================] - 0s 2ms/step - loss: 11.6137\n",
      "Epoch 93/100\n",
      "1/1 [==============================] - 0s 947us/step - loss: 11.1204\n",
      "Epoch 94/100\n",
      "1/1 [==============================] - 0s 1ms/step - loss: 11.1737\n",
      "Epoch 95/100\n",
      "1/1 [==============================] - 0s 2ms/step - loss: 11.2085\n",
      "Epoch 96/100\n",
      "1/1 [==============================] - 0s 1ms/step - loss: 11.0915\n",
      "Epoch 97/100\n",
      "1/1 [==============================] - 0s 1ms/step - loss: 10.8385\n",
      "Epoch 98/100\n",
      "1/1 [==============================] - 0s 1ms/step - loss: 10.9305\n",
      "Epoch 99/100\n",
      "1/1 [==============================] - 0s 1ms/step - loss: 10.9199\n",
      "Epoch 100/100\n",
      "1/1 [==============================] - 0s 1ms/step - loss: 10.7631\n"
     ]
    },
    {
     "data": {
      "text/html": [
       "<br/>Waiting for W&B process to finish, PID 3216055... <strong style=\"color:green\">(success).</strong>"
      ],
      "text/plain": [
       "<IPython.core.display.HTML object>"
      ]
     },
     "metadata": {},
     "output_type": "display_data"
    },
    {
     "data": {
      "application/vnd.jupyter.widget-view+json": {
       "model_id": "",
       "version_major": 2,
       "version_minor": 0
      },
      "text/plain": [
       "VBox(children=(Label(value=' 0.07MB of 0.07MB uploaded (0.00MB deduped)\\r'), FloatProgress(value=1.0, max=1.0)…"
      ]
     },
     "metadata": {},
     "output_type": "display_data"
    },
    {
     "data": {
      "text/html": [
       "<style>\n",
       "    table.wandb td:nth-child(1) { padding: 0 10px; text-align: right }\n",
       "    .wandb-row { display: flex; flex-direction: row; flex-wrap: wrap; width: 100% }\n",
       "    .wandb-col { display: flex; flex-direction: column; flex-basis: 100%; flex: 1; padding: 10px; }\n",
       "    </style>\n",
       "<div class=\"wandb-row\"><div class=\"wandb-col\">\n",
       "<h3>Run history:</h3><br/><table class=\"wandb\"><tr><td>mae</td><td>▁</td></tr><tr><td>mrae</td><td>▁</td></tr><tr><td>rmse</td><td>▁</td></tr></table><br/></div><div class=\"wandb-col\">\n",
       "<h3>Run summary:</h3><br/><table class=\"wandb\"><tr><td>mae</td><td>0.37488</td></tr><tr><td>mrae</td><td>0.10673</td></tr><tr><td>rmse</td><td>0.67304</td></tr></table>\n",
       "</div></div>\n",
       "Synced 6 W&B file(s), 0 media file(s), 0 artifact file(s) and 1 other file(s)\n",
       "<br/>Synced <strong style=\"color:#cdcd00\">MLP method</strong>: <a href=\"https://wandb.ai/sorooshi/mlp-method/runs/7u9217xr\" target=\"_blank\">https://wandb.ai/sorooshi/mlp-method/runs/7u9217xr</a><br/>\n",
       "Find logs at: <code>./wandb/run-20230810_151541-7u9217xr/logs</code><br/>\n"
      ],
      "text/plain": [
       "<IPython.core.display.HTML object>"
      ]
     },
     "metadata": {},
     "output_type": "display_data"
    },
    {
     "name": "stderr",
     "output_type": "stream",
     "text": [
      "\u001b[34m\u001b[1mwandb\u001b[0m: wandb version 0.15.8 is available!  To upgrade, please run:\n",
      "\u001b[34m\u001b[1mwandb\u001b[0m:  $ pip install wandb --upgrade\n",
      "2023-08-10 15:15:50.413231: W tensorflow/stream_executor/platform/default/dso_loader.cc:64] Could not load dynamic library 'libcudart.so.11.0'; dlerror: libcudart.so.11.0: cannot open shared object file: No such file or directory\n"
     ]
    },
    {
     "data": {
      "text/html": [
       "\n",
       "                    Syncing run <strong><a href=\"https://wandb.ai/sorooshi/mlp-method/runs/1zyrdskx\" target=\"_blank\">MLP method</a></strong> to <a href=\"https://wandb.ai/sorooshi/mlp-method\" target=\"_blank\">Weights & Biases</a> (<a href=\"https://docs.wandb.com/integrations/jupyter.html\" target=\"_blank\">docs</a>).<br/>\n",
       "\n",
       "                "
      ],
      "text/plain": [
       "<IPython.core.display.HTML object>"
      ]
     },
     "metadata": {},
     "output_type": "display_data"
    },
    {
     "name": "stdout",
     "output_type": "stream",
     "text": [
      "Epoch 1/100\n",
      "1/1 [==============================] - 0s 373ms/step - loss: 16.8899\n",
      "Epoch 2/100\n",
      "1/1 [==============================] - 0s 1ms/step - loss: 16.7254\n",
      "Epoch 3/100\n",
      "1/1 [==============================] - 0s 952us/step - loss: 16.5980\n",
      "Epoch 4/100\n",
      "1/1 [==============================] - 0s 759us/step - loss: 16.5165\n",
      "Epoch 5/100\n",
      "1/1 [==============================] - 0s 868us/step - loss: 16.4479\n",
      "Epoch 6/100\n",
      "1/1 [==============================] - 0s 1ms/step - loss: 16.3887\n",
      "Epoch 7/100\n",
      "1/1 [==============================] - 0s 2ms/step - loss: 16.3370\n",
      "Epoch 8/100\n",
      "1/1 [==============================] - 0s 1ms/step - loss: 16.2912\n",
      "Epoch 9/100\n",
      "1/1 [==============================] - 0s 867us/step - loss: 16.2502\n",
      "Epoch 10/100\n",
      "1/1 [==============================] - 0s 769us/step - loss: 16.2132\n",
      "Epoch 11/100\n",
      "1/1 [==============================] - 0s 694us/step - loss: 9.1506\n",
      "Epoch 12/100\n",
      "1/1 [==============================] - 0s 827us/step - loss: 8.8061\n",
      "Epoch 13/100\n",
      "1/1 [==============================] - 0s 845us/step - loss: 8.5670\n",
      "Epoch 14/100\n",
      "1/1 [==============================] - 0s 852us/step - loss: 8.4093\n",
      "Epoch 15/100\n",
      "1/1 [==============================] - 0s 782us/step - loss: 8.2924\n",
      "Epoch 16/100\n",
      "1/1 [==============================] - 0s 843us/step - loss: 8.1992\n",
      "Epoch 17/100\n",
      "1/1 [==============================] - 0s 1ms/step - loss: 8.1227\n",
      "Epoch 18/100\n",
      "1/1 [==============================] - 0s 1ms/step - loss: 8.0590\n",
      "Epoch 19/100\n",
      "1/1 [==============================] - 0s 1ms/step - loss: 8.0590\n",
      "Epoch 20/100\n",
      "1/1 [==============================] - 0s 921us/step - loss: 8.0590\n",
      "Epoch 21/100\n",
      "1/1 [==============================] - 0s 909us/step - loss: 8.0590\n",
      "Epoch 22/100\n",
      "1/1 [==============================] - 0s 911us/step - loss: 8.0590\n",
      "Epoch 23/100\n",
      "1/1 [==============================] - 0s 933us/step - loss: 8.0590\n",
      "Epoch 24/100\n",
      "1/1 [==============================] - 0s 842us/step - loss: 8.0590\n",
      "Epoch 25/100\n",
      "1/1 [==============================] - 0s 848us/step - loss: 8.0590\n",
      "Epoch 26/100\n",
      "1/1 [==============================] - 0s 1ms/step - loss: 8.0590\n",
      "Epoch 27/100\n",
      "1/1 [==============================] - 0s 1ms/step - loss: 8.0590\n",
      "Epoch 28/100\n",
      "1/1 [==============================] - 0s 935us/step - loss: 8.0590\n",
      "Epoch 29/100\n",
      "1/1 [==============================] - 0s 988us/step - loss: 8.0590\n",
      "Epoch 30/100\n",
      "1/1 [==============================] - 0s 819us/step - loss: 8.0590\n",
      "Epoch 31/100\n",
      "1/1 [==============================] - 0s 897us/step - loss: 8.0590\n",
      "Epoch 32/100\n",
      "1/1 [==============================] - 0s 930us/step - loss: 8.0590\n",
      "Epoch 33/100\n",
      "1/1 [==============================] - 0s 891us/step - loss: 8.0590\n",
      "Epoch 34/100\n",
      "1/1 [==============================] - 0s 760us/step - loss: 8.0590\n",
      "Epoch 35/100\n",
      "1/1 [==============================] - 0s 807us/step - loss: 8.0590\n",
      "Epoch 36/100\n",
      "1/1 [==============================] - 0s 802us/step - loss: 8.0590\n",
      "Epoch 37/100\n",
      "1/1 [==============================] - 0s 1ms/step - loss: 8.0590\n",
      "Epoch 38/100\n",
      "1/1 [==============================] - 0s 2ms/step - loss: 8.0590\n",
      "Epoch 39/100\n",
      "1/1 [==============================] - 0s 2ms/step - loss: 8.0590\n",
      "Epoch 40/100\n",
      "1/1 [==============================] - 0s 871us/step - loss: 8.0590\n",
      "Epoch 41/100\n",
      "1/1 [==============================] - 0s 799us/step - loss: 8.0590\n",
      "Epoch 42/100\n",
      "1/1 [==============================] - 0s 817us/step - loss: 8.0590\n",
      "Epoch 43/100\n",
      "1/1 [==============================] - 0s 740us/step - loss: 8.0590\n",
      "Epoch 44/100\n",
      "1/1 [==============================] - 0s 721us/step - loss: 8.0590\n",
      "Epoch 45/100\n",
      "1/1 [==============================] - 0s 708us/step - loss: 8.0590\n",
      "Epoch 46/100\n",
      "1/1 [==============================] - 0s 712us/step - loss: 8.0590\n",
      "Epoch 47/100\n",
      "1/1 [==============================] - 0s 1ms/step - loss: 8.0590\n",
      "Epoch 48/100\n",
      "1/1 [==============================] - 0s 1ms/step - loss: 8.0590\n",
      "Epoch 49/100\n",
      "1/1 [==============================] - 0s 771us/step - loss: 8.0590\n",
      "Epoch 50/100\n",
      "1/1 [==============================] - 0s 850us/step - loss: 8.0590\n",
      "Epoch 51/100\n",
      "1/1 [==============================] - 0s 737us/step - loss: 8.0590\n",
      "Epoch 52/100\n",
      "1/1 [==============================] - 0s 759us/step - loss: 8.0590\n",
      "Epoch 53/100\n",
      "1/1 [==============================] - 0s 714us/step - loss: 8.0590\n",
      "Epoch 54/100\n",
      "1/1 [==============================] - 0s 769us/step - loss: 8.0590\n",
      "Epoch 55/100\n",
      "1/1 [==============================] - 0s 800us/step - loss: 8.0590\n",
      "Epoch 56/100\n",
      "1/1 [==============================] - 0s 763us/step - loss: 8.0590\n",
      "Epoch 57/100\n",
      "1/1 [==============================] - 0s 731us/step - loss: 8.0590\n",
      "Epoch 58/100\n",
      "1/1 [==============================] - 0s 692us/step - loss: 8.0590\n",
      "Epoch 59/100\n",
      "1/1 [==============================] - 0s 1ms/step - loss: 8.0590\n",
      "Epoch 60/100\n",
      "1/1 [==============================] - 0s 1ms/step - loss: 8.0590\n",
      "Epoch 61/100\n",
      "1/1 [==============================] - 0s 920us/step - loss: 8.0590\n",
      "Epoch 62/100\n",
      "1/1 [==============================] - 0s 888us/step - loss: 8.0590\n",
      "Epoch 63/100\n",
      "1/1 [==============================] - 0s 794us/step - loss: 8.0590\n",
      "Epoch 64/100\n",
      "1/1 [==============================] - 0s 807us/step - loss: 8.0590\n",
      "Epoch 65/100\n",
      "1/1 [==============================] - 0s 20ms/step - loss: 8.0590\n",
      "Epoch 66/100\n",
      "1/1 [==============================] - 0s 1ms/step - loss: 8.0590\n",
      "Epoch 67/100\n",
      "1/1 [==============================] - 0s 1ms/step - loss: 8.0590\n",
      "Epoch 68/100\n",
      "1/1 [==============================] - 0s 1ms/step - loss: 8.0590\n",
      "Epoch 69/100\n",
      "1/1 [==============================] - 0s 925us/step - loss: 8.0590\n",
      "Epoch 70/100\n",
      "1/1 [==============================] - 0s 991us/step - loss: 8.0590\n",
      "Epoch 71/100\n",
      "1/1 [==============================] - 0s 834us/step - loss: 8.0590\n",
      "Epoch 72/100\n",
      "1/1 [==============================] - 0s 836us/step - loss: 8.0590\n",
      "Epoch 73/100\n",
      "1/1 [==============================] - 0s 816us/step - loss: 8.0590\n",
      "Epoch 74/100\n",
      "1/1 [==============================] - 0s 840us/step - loss: 8.0590\n",
      "Epoch 75/100\n",
      "1/1 [==============================] - 0s 856us/step - loss: 8.0590\n",
      "Epoch 76/100\n",
      "1/1 [==============================] - 0s 789us/step - loss: 8.0590\n",
      "Epoch 77/100\n",
      "1/1 [==============================] - 0s 1ms/step - loss: 8.0590\n",
      "Epoch 78/100\n",
      "1/1 [==============================] - 0s 1ms/step - loss: 8.0590\n",
      "Epoch 79/100\n",
      "1/1 [==============================] - 0s 1ms/step - loss: 8.0590\n",
      "Epoch 80/100\n",
      "1/1 [==============================] - 0s 993us/step - loss: 8.0590\n",
      "Epoch 81/100\n",
      "1/1 [==============================] - 0s 784us/step - loss: 8.0590\n",
      "Epoch 82/100\n",
      "1/1 [==============================] - 0s 749us/step - loss: 8.0590\n",
      "Epoch 83/100\n",
      "1/1 [==============================] - 0s 698us/step - loss: 8.0590\n",
      "Epoch 84/100\n",
      "1/1 [==============================] - 0s 911us/step - loss: 8.0590\n",
      "Epoch 85/100\n",
      "1/1 [==============================] - 0s 781us/step - loss: 8.0590\n",
      "Epoch 86/100\n",
      "1/1 [==============================] - 0s 869us/step - loss: 8.0590\n",
      "Epoch 87/100\n",
      "1/1 [==============================] - 0s 1ms/step - loss: 8.0590\n",
      "Epoch 88/100\n",
      "1/1 [==============================] - 0s 1ms/step - loss: 8.0590\n",
      "Epoch 89/100\n",
      "1/1 [==============================] - 0s 908us/step - loss: 8.0590\n",
      "Epoch 90/100\n",
      "1/1 [==============================] - 0s 834us/step - loss: 8.0590\n",
      "Epoch 91/100\n",
      "1/1 [==============================] - 0s 830us/step - loss: 8.0590\n",
      "Epoch 92/100\n",
      "1/1 [==============================] - 0s 768us/step - loss: 8.0590\n",
      "Epoch 93/100\n",
      "1/1 [==============================] - 0s 724us/step - loss: 8.0590\n",
      "Epoch 94/100\n",
      "1/1 [==============================] - 0s 782us/step - loss: 8.0590\n",
      "Epoch 95/100\n",
      "1/1 [==============================] - 0s 802us/step - loss: 8.0590\n",
      "Epoch 96/100\n",
      "1/1 [==============================] - 0s 695us/step - loss: 8.0590\n",
      "Epoch 97/100\n",
      "1/1 [==============================] - 0s 726us/step - loss: 8.0590\n",
      "Epoch 98/100\n",
      "1/1 [==============================] - 0s 2ms/step - loss: 8.0590\n",
      "Epoch 99/100\n",
      "1/1 [==============================] - 0s 2ms/step - loss: 8.0590\n",
      "Epoch 100/100\n",
      "1/1 [==============================] - 0s 2ms/step - loss: 8.0590\n",
      "WARNING:tensorflow:5 out of the last 13 calls to <function Model.make_predict_function.<locals>.predict_function at 0x7f297458a160> triggered tf.function retracing. Tracing is expensive and the excessive number of tracings could be due to (1) creating @tf.function repeatedly in a loop, (2) passing tensors with different shapes, (3) passing Python objects instead of tensors. For (1), please define your @tf.function outside of the loop. For (2), @tf.function has experimental_relax_shapes=True option that relaxes argument shapes that can avoid unnecessary retracing. For (3), please refer to https://www.tensorflow.org/guide/function#controlling_retracing and https://www.tensorflow.org/api_docs/python/tf/function for  more details.\n"
     ]
    },
    {
     "data": {
      "text/html": [
       "<br/>Waiting for W&B process to finish, PID 3216290... <strong style=\"color:green\">(success).</strong>"
      ],
      "text/plain": [
       "<IPython.core.display.HTML object>"
      ]
     },
     "metadata": {},
     "output_type": "display_data"
    },
    {
     "data": {
      "application/vnd.jupyter.widget-view+json": {
       "model_id": "",
       "version_major": 2,
       "version_minor": 0
      },
      "text/plain": [
       "VBox(children=(Label(value=' 0.07MB of 0.07MB uploaded (0.00MB deduped)\\r'), FloatProgress(value=1.0, max=1.0)…"
      ]
     },
     "metadata": {},
     "output_type": "display_data"
    },
    {
     "data": {
      "text/html": [
       "<style>\n",
       "    table.wandb td:nth-child(1) { padding: 0 10px; text-align: right }\n",
       "    .wandb-row { display: flex; flex-direction: row; flex-wrap: wrap; width: 100% }\n",
       "    .wandb-col { display: flex; flex-direction: column; flex-basis: 100%; flex: 1; padding: 10px; }\n",
       "    </style>\n",
       "<div class=\"wandb-row\"><div class=\"wandb-col\">\n",
       "<h3>Run history:</h3><br/><table class=\"wandb\"><tr><td>mae</td><td>▁</td></tr><tr><td>mrae</td><td>▁</td></tr><tr><td>rmse</td><td>▁</td></tr></table><br/></div><div class=\"wandb-col\">\n",
       "<h3>Run summary:</h3><br/><table class=\"wandb\"><tr><td>mae</td><td>1.95106</td></tr><tr><td>mrae</td><td>0.6309</td></tr><tr><td>rmse</td><td>2.19476</td></tr></table>\n",
       "</div></div>\n",
       "Synced 6 W&B file(s), 0 media file(s), 0 artifact file(s) and 1 other file(s)\n",
       "<br/>Synced <strong style=\"color:#cdcd00\">MLP method</strong>: <a href=\"https://wandb.ai/sorooshi/mlp-method/runs/1zyrdskx\" target=\"_blank\">https://wandb.ai/sorooshi/mlp-method/runs/1zyrdskx</a><br/>\n",
       "Find logs at: <code>./wandb/run-20230810_151549-1zyrdskx/logs</code><br/>\n"
      ],
      "text/plain": [
       "<IPython.core.display.HTML object>"
      ]
     },
     "metadata": {},
     "output_type": "display_data"
    }
   ],
   "source": [
    "\n",
    "\n",
    "for l in range(len(losses_name)):\n",
    "    loss = losses_name[l]\n",
    "    experiment_name = experiments_name[l]\n",
    "    \n",
    "\n",
    "    # 1. Start a W&B run\n",
    "    \n",
    "    run = wandb.init(name=\"MLP method\", \n",
    "                     project='mlp-method', \n",
    "                     notes = 'Vanilla MLP method: to figure out which loss function works better',\n",
    "                     entity='sorooshi',\n",
    "                     group=experiment_name\n",
    "                    )\n",
    "\n",
    "#     mlp = tfk.Sequential([\n",
    "#         tf.keras.layers.Dense(units=n_units,\n",
    "#                               input_shape=(n_features,))\n",
    "#     ])\n",
    "    \n",
    "    mlp = MLP(n_units=n_units, n_features=(n_features,))\n",
    "    \n",
    "    mlp.compile(optimizer=tfk.optimizers.Adam(learning_rate=learning_rate),\n",
    "             loss=loss)\n",
    "\n",
    "    \n",
    "    # 2. Save model inputs and hyperparameters\n",
    "    config = run.config\n",
    "    config.learning_rate = learning_rate\n",
    "    config.loss = experiment_name\n",
    "    config.n_units = n_units\n",
    "\n",
    "    callback = tf.keras.callbacks.EarlyStopping(monitor='loss', patience=5)\n",
    "\n",
    "    history = mlp.fit(x=x, y=x, epochs=n_epochs, \n",
    "                      batch_size=batch_size, \n",
    "                      # callbacks=[callback],\n",
    "                      verbose=True)\n",
    "    \n",
    "    run.log({\n",
    "        \"mae\" : mae(x, mlp.predict(x)),\n",
    "        \"mrae\" : mrae(x, mlp.predict(x)),\n",
    "        \"rmse\" : rmse(x, mlp.predict(x)),\n",
    "    })\n",
    "        \n",
    "    # Save the model\n",
    "    # model.save('path_to_my_model',save_format='tf')\n",
    "\n",
    "\n",
    "#     mlp.save(os.path.join(wandb.run.dir,\n",
    "#                           \"MLP\" + experiment_name + \".h5\" ))\n",
    "\n",
    "    # Recreate the exact same model purely from the file\n",
    "    # new_model = keras.models.load_model('path_to_my_model')\n",
    "\n",
    "    run.finish()\n"
   ]
  },
  {
   "cell_type": "code",
   "execution_count": 11,
   "metadata": {},
   "outputs": [
    {
     "name": "stdout",
     "output_type": "stream",
     "text": [
      "finish\n"
     ]
    }
   ],
   "source": [
    "print(\"finish\")"
   ]
  },
  {
   "cell_type": "code",
   "execution_count": 13,
   "metadata": {},
   "outputs": [],
   "source": [
    "# mlp.loss(y_true=x, y_pred=x)"
   ]
  },
  {
   "cell_type": "code",
   "execution_count": 19,
   "metadata": {},
   "outputs": [],
   "source": [
    "from sklearn.ensemble import RandomForestRegressor, GradientBoostingRegressor\n",
    "\n",
    "from joblib import dump, load"
   ]
  },
  {
   "cell_type": "code",
   "execution_count": 28,
   "metadata": {},
   "outputs": [
    {
     "data": {
      "text/html": [
       "\n",
       "                Tracking run with wandb version 0.10.25<br/>\n",
       "                Syncing run <strong style=\"color:#cdcd00\">MLP method</strong> to <a href=\"https://wandb.ai\" target=\"_blank\">Weights & Biases</a> <a href=\"https://docs.wandb.com/integrations/jupyter.html\" target=\"_blank\">(Documentation)</a>.<br/>\n",
       "                Project page: <a href=\"https://wandb.ai/sorooshi/mlp-method\" target=\"_blank\">https://wandb.ai/sorooshi/mlp-method</a><br/>\n",
       "                Run page: <a href=\"https://wandb.ai/sorooshi/mlp-method/runs/11sgx1w2\" target=\"_blank\">https://wandb.ai/sorooshi/mlp-method/runs/11sgx1w2</a><br/>\n",
       "                Run data is saved locally in <code>/home/soroosh/Desktop/wandb/run-20210413_011418-11sgx1w2</code><br/><br/>\n",
       "            "
      ],
      "text/plain": [
       "<IPython.core.display.HTML object>"
      ]
     },
     "metadata": {},
     "output_type": "display_data"
    }
   ],
   "source": [
    "\n",
    "\n",
    "run = wandb.init(name=\"MLP method\", \n",
    "                     project='mlp-method', \n",
    "                     notes = 'Vanilla MLP method: to figure out which loss function works better',\n",
    "                     entity='sorooshi',\n",
    "                     group='RF'\n",
    "                    )"
   ]
  },
  {
   "cell_type": "code",
   "execution_count": 60,
   "metadata": {},
   "outputs": [
    {
     "name": "stderr",
     "output_type": "stream",
     "text": [
      "[Parallel(n_jobs=-2)]: Using backend ThreadingBackend with 15 concurrent workers.\n",
      "[Parallel(n_jobs=-2)]: Done  20 tasks      | elapsed:    0.0s\n",
      "[Parallel(n_jobs=-2)]: Done 100 out of 100 | elapsed:    0.1s finished\n",
      "[Parallel(n_jobs=15)]: Using backend ThreadingBackend with 15 concurrent workers.\n",
      "[Parallel(n_jobs=15)]: Done  20 tasks      | elapsed:    0.0s\n",
      "[Parallel(n_jobs=15)]: Done 100 out of 100 | elapsed:    0.0s finished\n"
     ]
    }
   ],
   "source": [
    "rf_reg = RandomForestRegressor(n_estimators=100, \n",
    "                               n_jobs=-2, \n",
    "                               criterion='mse', \n",
    "                               min_samples_leaf=1,\n",
    "                               verbose=1)\n",
    "    \n",
    "rf_reg.fit(x, x)\n",
    "\n",
    "x_preds_rf = rf_reg.predict(x)\n",
    "    \n",
    "    "
   ]
  },
  {
   "cell_type": "code",
   "execution_count": 30,
   "metadata": {},
   "outputs": [
    {
     "data": {
      "text/html": [
       "<br/>Waiting for W&B process to finish, PID 15614<br/>Program ended successfully."
      ],
      "text/plain": [
       "<IPython.core.display.HTML object>"
      ]
     },
     "metadata": {},
     "output_type": "display_data"
    },
    {
     "data": {
      "application/vnd.jupyter.widget-view+json": {
       "model_id": "7508769db16e46be83b7b6533062dcf6",
       "version_major": 2,
       "version_minor": 0
      },
      "text/plain": [
       "VBox(children=(Label(value=' 0.00MB of 0.00MB uploaded (0.00MB deduped)\\r'), FloatProgress(value=1.0, max=1.0)…"
      ]
     },
     "metadata": {},
     "output_type": "display_data"
    },
    {
     "data": {
      "text/html": [
       "Find user logs for this run at: <code>/home/soroosh/Desktop/wandb/run-20210413_011418-11sgx1w2/logs/debug.log</code>"
      ],
      "text/plain": [
       "<IPython.core.display.HTML object>"
      ]
     },
     "metadata": {},
     "output_type": "display_data"
    },
    {
     "data": {
      "text/html": [
       "Find internal logs for this run at: <code>/home/soroosh/Desktop/wandb/run-20210413_011418-11sgx1w2/logs/debug-internal.log</code>"
      ],
      "text/plain": [
       "<IPython.core.display.HTML object>"
      ]
     },
     "metadata": {},
     "output_type": "display_data"
    },
    {
     "data": {
      "text/html": [
       "<h3>Run summary:</h3><br/><style>\n",
       "    table.wandb td:nth-child(1) { padding: 0 10px; text-align: right }\n",
       "    </style><table class=\"wandb\">\n",
       "<tr><td>mae</td><td>6.54271</td></tr><tr><td>mrae</td><td>2.13689</td></tr><tr><td>rmse</td><td>8.11196</td></tr><tr><td>_runtime</td><td>7</td></tr><tr><td>_timestamp</td><td>1618265665</td></tr><tr><td>_step</td><td>0</td></tr></table>"
      ],
      "text/plain": [
       "<IPython.core.display.HTML object>"
      ]
     },
     "metadata": {},
     "output_type": "display_data"
    },
    {
     "data": {
      "text/html": [
       "<h3>Run history:</h3><br/><style>\n",
       "    table.wandb td:nth-child(1) { padding: 0 10px; text-align: right }\n",
       "    </style><table class=\"wandb\">\n",
       "<tr><td>mae</td><td>▁</td></tr><tr><td>mrae</td><td>▁</td></tr><tr><td>rmse</td><td>▁</td></tr><tr><td>_runtime</td><td>▁</td></tr><tr><td>_timestamp</td><td>▁</td></tr><tr><td>_step</td><td>▁</td></tr></table><br/>"
      ],
      "text/plain": [
       "<IPython.core.display.HTML object>"
      ]
     },
     "metadata": {},
     "output_type": "display_data"
    },
    {
     "data": {
      "text/html": [
       "Synced 5 W&B file(s), 0 media file(s), 0 artifact file(s) and 2 other file(s)"
      ],
      "text/plain": [
       "<IPython.core.display.HTML object>"
      ]
     },
     "metadata": {},
     "output_type": "display_data"
    },
    {
     "data": {
      "text/html": [
       "\n",
       "                    <br/>Synced <strong style=\"color:#cdcd00\">MLP method</strong>: <a href=\"https://wandb.ai/sorooshi/mlp-method/runs/11sgx1w2\" target=\"_blank\">https://wandb.ai/sorooshi/mlp-method/runs/11sgx1w2</a><br/>\n",
       "                "
      ],
      "text/plain": [
       "<IPython.core.display.HTML object>"
      ]
     },
     "metadata": {},
     "output_type": "display_data"
    }
   ],
   "source": [
    "# filename = \"rf_reg-\" + name +  \"-.joblib\"\n",
    "dump(rf_reg, os.path.join(wandb.run.dir,\n",
    "                          \"RF-\" + \"experiment_name\" + \".joblib\" ) )\n",
    "\n",
    "run.log({\n",
    "    \"mae\" : mae(x, mlp.predict(x)),\n",
    "    \"mrae\" : mrae(x, mlp.predict(x)),\n",
    "    \"rmse\" : rmse(x, mlp.predict(x)),\n",
    "})\n",
    "        \n",
    "run.finish()"
   ]
  },
  {
   "cell_type": "code",
   "execution_count": 26,
   "metadata": {},
   "outputs": [],
   "source": [
    "\n"
   ]
  },
  {
   "cell_type": "code",
   "execution_count": null,
   "metadata": {},
   "outputs": [],
   "source": [
    "\n",
    "\n"
   ]
  },
  {
   "cell_type": "markdown",
   "metadata": {},
   "source": [
    "1. MAE  : 2.6526409313082695\n",
    "\n",
    "2. MSE  : 1.0456066777308781\n",
    "\n",
    "3. MRAE : 5.888582201053699\n",
    "\n",
    "4. COSS : 3.802344910800457\n",
    "\n",
    "5. KLD  : 2.9339942882458367"
   ]
  },
  {
   "cell_type": "code",
   "execution_count": null,
   "metadata": {},
   "outputs": [],
   "source": []
  },
  {
   "cell_type": "code",
   "execution_count": 83,
   "metadata": {},
   "outputs": [],
   "source": [
    "def init_a_wandb(name, project, notes, group):\n",
    "    \n",
    "    \"\"\" name := the within the project name, e.g., RF-reg-1\n",
    "        project := the project name, e.g., Non-sequential Regressions \n",
    "        notes := Description, e.g., Non-sequential Regressions Comparison for SuperOX\n",
    "        group := name of experiment or the algorithm under consideration, e.g., RF-1\n",
    "        \n",
    "    \n",
    "    \"\"\"\n",
    "    \n",
    "    run = wandb.init(name=name, \n",
    "                     project=project, \n",
    "                     notes = notes,\n",
    "                     entity='sorooshi',\n",
    "                     group=group\n",
    "                    )\n",
    "        \n",
    "    return run\n",
    "\n"
   ]
  },
  {
   "cell_type": "code",
   "execution_count": 84,
   "metadata": {},
   "outputs": [],
   "source": [
    "def wandb_metrics(run, y_preds, y_trues):\n",
    "    \n",
    "    run.log({\n",
    "        \"MAE\" : mae(y_trues=y_trues, y_preds=y_preds),\n",
    "        \"MRAE\" : mrae(y_trues=y_trues, y_preds=y_preds),\n",
    "        \"RMSE\" : rmse(y_trues=y_trues, y_preds=y_preds),\n",
    "        \"R^2-Score\": metrics.r2_score(y_trues, y_preds)\n",
    "    })\n",
    "    \n",
    "    \n",
    "    return run\n",
    "\n"
   ]
  },
  {
   "cell_type": "code",
   "execution_count": 85,
   "metadata": {},
   "outputs": [],
   "source": [
    "def save_model(run, model, name, experiment_name):\n",
    "    if name == \"rf\" or name == \"gbr\":\n",
    "        dump(model, os.path.join(wandb.run.dir,\n",
    "                          name + experiment_name + \".joblib\"))\n",
    "    else:\n",
    "        model.save(os.path.join(wandb.run.dir,\n",
    "                                name + experiment_name + \".h5\"))\n",
    "    return run\n"
   ]
  },
  {
   "cell_type": "code",
   "execution_count": 90,
   "metadata": {},
   "outputs": [
    {
     "data": {
      "text/html": [
       "Finishing last run (ID:3f9m2gfs) before initializing another..."
      ],
      "text/plain": [
       "<IPython.core.display.HTML object>"
      ]
     },
     "metadata": {},
     "output_type": "display_data"
    },
    {
     "data": {
      "text/html": [
       "<br/>Waiting for W&B process to finish, PID 18008<br/>Program ended successfully."
      ],
      "text/plain": [
       "<IPython.core.display.HTML object>"
      ]
     },
     "metadata": {},
     "output_type": "display_data"
    },
    {
     "data": {
      "application/vnd.jupyter.widget-view+json": {
       "model_id": "1e802e131f12489fb5e1abca1e8818ac",
       "version_major": 2,
       "version_minor": 0
      },
      "text/plain": [
       "VBox(children=(Label(value=' 0.00MB of 0.00MB uploaded (0.00MB deduped)\\r'), FloatProgress(value=1.0, max=1.0)…"
      ]
     },
     "metadata": {},
     "output_type": "display_data"
    },
    {
     "data": {
      "text/html": [
       "Find user logs for this run at: <code>/home/soroosh/Desktop/wandb/run-20210413_142303-3f9m2gfs/logs/debug.log</code>"
      ],
      "text/plain": [
       "<IPython.core.display.HTML object>"
      ]
     },
     "metadata": {},
     "output_type": "display_data"
    },
    {
     "data": {
      "text/html": [
       "Find internal logs for this run at: <code>/home/soroosh/Desktop/wandb/run-20210413_142303-3f9m2gfs/logs/debug-internal.log</code>"
      ],
      "text/plain": [
       "<IPython.core.display.HTML object>"
      ]
     },
     "metadata": {},
     "output_type": "display_data"
    },
    {
     "data": {
      "text/html": [
       "<h3>Run summary:</h3><br/><style>\n",
       "    table.wandb td:nth-child(1) { padding: 0 10px; text-align: right }\n",
       "    </style><table class=\"wandb\">\n",
       "<tr><td>MAE</td><td>0.645</td></tr><tr><td>MRAE</td><td>0.2725</td></tr><tr><td>RMSE</td><td>0.64657</td></tr><tr><td>R^2-Score</td><td>0.8142</td></tr><tr><td>_runtime</td><td>2</td></tr><tr><td>_timestamp</td><td>1618312988</td></tr><tr><td>_step</td><td>0</td></tr></table>"
      ],
      "text/plain": [
       "<IPython.core.display.HTML object>"
      ]
     },
     "metadata": {},
     "output_type": "display_data"
    },
    {
     "data": {
      "text/html": [
       "<h3>Run history:</h3><br/><style>\n",
       "    table.wandb td:nth-child(1) { padding: 0 10px; text-align: right }\n",
       "    </style><table class=\"wandb\">\n",
       "<tr><td>MAE</td><td>▁</td></tr><tr><td>MRAE</td><td>▁</td></tr><tr><td>RMSE</td><td>▁</td></tr><tr><td>R^2-Score</td><td>▁</td></tr><tr><td>_runtime</td><td>▁</td></tr><tr><td>_timestamp</td><td>▁</td></tr><tr><td>_step</td><td>▁</td></tr></table><br/>"
      ],
      "text/plain": [
       "<IPython.core.display.HTML object>"
      ]
     },
     "metadata": {},
     "output_type": "display_data"
    },
    {
     "data": {
      "text/html": [
       "Synced 4 W&B file(s), 0 media file(s), 0 artifact file(s) and 0 other file(s)"
      ],
      "text/plain": [
       "<IPython.core.display.HTML object>"
      ]
     },
     "metadata": {},
     "output_type": "display_data"
    },
    {
     "data": {
      "text/html": [
       "\n",
       "                    <br/>Synced <strong style=\"color:#cdcd00\">dulcet-leaf-2</strong>: <a href=\"https://wandb.ai/sorooshi/Non-sequential%20Regressions/runs/3f9m2gfs\" target=\"_blank\">https://wandb.ai/sorooshi/Non-sequential%20Regressions/runs/3f9m2gfs</a><br/>\n",
       "                "
      ],
      "text/plain": [
       "<IPython.core.display.HTML object>"
      ]
     },
     "metadata": {},
     "output_type": "display_data"
    },
    {
     "data": {
      "text/html": [
       "...Successfully finished last run (ID:3f9m2gfs). Initializing new run:<br/><br/>"
      ],
      "text/plain": [
       "<IPython.core.display.HTML object>"
      ]
     },
     "metadata": {},
     "output_type": "display_data"
    },
    {
     "data": {
      "text/html": [
       "\n",
       "                Tracking run with wandb version 0.10.25<br/>\n",
       "                Syncing run <strong style=\"color:#cdcd00\">icy-frost-3</strong> to <a href=\"https://wandb.ai\" target=\"_blank\">Weights & Biases</a> <a href=\"https://docs.wandb.com/integrations/jupyter.html\" target=\"_blank\">(Documentation)</a>.<br/>\n",
       "                Project page: <a href=\"https://wandb.ai/sorooshi/Non-sequential%20Regressions\" target=\"_blank\">https://wandb.ai/sorooshi/Non-sequential%20Regressions</a><br/>\n",
       "                Run page: <a href=\"https://wandb.ai/sorooshi/Non-sequential%20Regressions/runs/2cvdwuyw\" target=\"_blank\">https://wandb.ai/sorooshi/Non-sequential%20Regressions/runs/2cvdwuyw</a><br/>\n",
       "                Run data is saved locally in <code>/home/soroosh/Desktop/wandb/run-20210413_142327-2cvdwuyw</code><br/><br/>\n",
       "            "
      ],
      "text/plain": [
       "<IPython.core.display.HTML object>"
      ]
     },
     "metadata": {},
     "output_type": "display_data"
    }
   ],
   "source": [
    "A = init_a_wandb(name=None, \n",
    "                 project=\"Non-sequential Regressions\", \n",
    "                 notes=\"Non-sequential Regressions Comparison for SuperOX\", \n",
    "                 group=\"RF\")\n",
    "\n"
   ]
  },
  {
   "cell_type": "code",
   "execution_count": 91,
   "metadata": {},
   "outputs": [],
   "source": [
    "wandb_metrics(run=A, y_trues=x, y_preds=x_preds_rf)"
   ]
  },
  {
   "cell_type": "code",
   "execution_count": null,
   "metadata": {},
   "outputs": [],
   "source": []
  },
  {
   "cell_type": "code",
   "execution_count": null,
   "metadata": {},
   "outputs": [],
   "source": []
  },
  {
   "cell_type": "code",
   "execution_count": null,
   "metadata": {},
   "outputs": [],
   "source": []
  },
  {
   "cell_type": "code",
   "execution_count": 5,
   "metadata": {},
   "outputs": [
    {
     "name": "stderr",
     "output_type": "stream",
     "text": [
      "100%|██████████| 10000000/10000000 [00:03<00:00, 2890479.31it/s]\n"
     ]
    }
   ],
   "source": [
    "tmp = 0\n",
    "from tqdm import tqdm\n",
    "for i in tqdm(range(10000000)):\n",
    "    tmp += i"
   ]
  },
  {
   "cell_type": "code",
   "execution_count": null,
   "metadata": {},
   "outputs": [],
   "source": []
  }
 ],
 "metadata": {
  "kernelspec": {
   "display_name": "venv_Jan2022",
   "language": "python",
   "name": "venv_jan2022"
  },
  "language_info": {
   "codemirror_mode": {
    "name": "ipython",
    "version": 3
   },
   "file_extension": ".py",
   "mimetype": "text/x-python",
   "name": "python",
   "nbconvert_exporter": "python",
   "pygments_lexer": "ipython3",
   "version": "3.9.7"
  }
 },
 "nbformat": 4,
 "nbformat_minor": 4
}
