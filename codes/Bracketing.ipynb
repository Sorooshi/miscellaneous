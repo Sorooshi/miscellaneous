{
 "cells": [
  {
   "cell_type": "code",
   "execution_count": 1,
   "id": "18f71474",
   "metadata": {},
   "outputs": [],
   "source": [
    "\n",
    "import numpy as np\n",
    "import matplotlib.pyplot as plt\n",
    "\n"
   ]
  },
  {
   "cell_type": "markdown",
   "id": "7b2363f0",
   "metadata": {},
   "source": [
    "# Bracketing:\n",
    "\n",
    "- When computing gradients(derivatives) of an objective function are impossible or computationaly expensiss, these set of approaches will be applied.\n",
    "\n"
   ]
  },
  {
   "cell_type": "markdown",
   "id": "ca6e6cc4",
   "metadata": {},
   "source": [
    "## Finding an Initial Bracket"
   ]
  },
  {
   "cell_type": "code",
   "execution_count": 59,
   "id": "aa011977",
   "metadata": {},
   "outputs": [],
   "source": [
    "\n",
    "\n",
    "def bracket_minimum(f, x=0, s=1e-2, k=2):\n",
    "    \n",
    "    a, ya = x, f(x)\n",
    "    b, yb = a+s, f(a+s)\n",
    "    \n",
    "    if yb > ya:\n",
    "        a, b = b, a\n",
    "        ya, yb = yb, ya\n",
    "        s = -s\n",
    "\n",
    "    while True:\n",
    "        c, yc = b+s, f(b+s)\n",
    "        \n",
    "        if yc > yb:\n",
    "            print(\"Bracket minimum\")\n",
    "            \n",
    "            return a, c\n",
    "        a, b, ya, yc = b, c, f(b), f(c)\n",
    "        s *= k\n",
    "        \n",
    "    \n",
    "    \n",
    "    \n",
    "    "
   ]
  },
  {
   "cell_type": "code",
   "execution_count": 72,
   "id": "d63fdc94",
   "metadata": {},
   "outputs": [],
   "source": [
    "X = np.arange(-3, 6, 0.1)\n",
    "\n",
    "f = lambda x: (x-2)**2\n",
    "\n"
   ]
  },
  {
   "cell_type": "code",
   "execution_count": 73,
   "id": "db462d1e",
   "metadata": {},
   "outputs": [
    {
     "name": "stdout",
     "output_type": "stream",
     "text": [
      "Bracket minimum\n"
     ]
    },
    {
     "data": {
      "text/plain": [
       "(1.28, 5.12)"
      ]
     },
     "execution_count": 73,
     "metadata": {},
     "output_type": "execute_result"
    }
   ],
   "source": [
    "bracket_minimum(f, )"
   ]
  },
  {
   "cell_type": "code",
   "execution_count": 74,
   "id": "6f89ceac",
   "metadata": {},
   "outputs": [
    {
     "data": {
      "text/plain": [
       "[<matplotlib.lines.Line2D at 0x7f19b8703070>]"
      ]
     },
     "execution_count": 74,
     "metadata": {},
     "output_type": "execute_result"
    },
    {
     "data": {
      "image/png": "[encoded data removed]",
      "text/plain": [
       "<Figure size 432x288 with 1 Axes>"
      ]
     },
     "metadata": {
      "needs_background": "light"
     },
     "output_type": "display_data"
    }
   ],
   "source": [
    "\n",
    "plt.plot(X, f(X))"
   ]
  },
  {
   "cell_type": "code",
   "execution_count": null,
   "id": "2c181130",
   "metadata": {},
   "outputs": [],
   "source": []
  },
  {
   "cell_type": "code",
   "execution_count": null,
   "id": "3bed9cd1",
   "metadata": {},
   "outputs": [],
   "source": []
  }
 ],
 "metadata": {
  "kernelspec": {
   "display_name": "venv_Jan2022",
   "language": "python",
   "name": "venv_jan2022"
  },
  "language_info": {
   "codemirror_mode": {
    "name": "ipython",
    "version": 3
   },
   "file_extension": ".py",
   "mimetype": "text/x-python",
   "name": "python",
   "nbconvert_exporter": "python",
   "pygments_lexer": "ipython3",
   "version": "3.9.7"
  }
 },
 "nbformat": 4,
 "nbformat_minor": 5
}
