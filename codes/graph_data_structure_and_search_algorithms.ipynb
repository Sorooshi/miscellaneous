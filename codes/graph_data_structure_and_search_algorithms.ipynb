{
 "cells": [
  {
   "cell_type": "markdown",
   "id": "collectible-night",
   "metadata": {},
   "source": [
    "# Graph data structure and search algorithms\n",
    "\n",
    "## Graph data structure \n",
    "\n"
   ]
  },
  {
   "cell_type": "code",
   "execution_count": null,
   "id": "cleared-plastic",
   "metadata": {},
   "outputs": [],
   "source": [
    "class Node(object):\n",
    "    \"\"\"Assumes node is a string\"\"\"\n",
    "    def __init__(self, name, ):\n",
    "        self.name = name \n",
    "        \n",
    "    def getName(self, ):\n",
    "        return self.name\n",
    "    \n",
    "    def __str__(self, ):\n",
    "        return self.name "
   ]
  },
  {
   "cell_type": "code",
   "execution_count": null,
   "id": "operational-toilet",
   "metadata": {},
   "outputs": [],
   "source": [
    "class Edge(object):\n",
    "    \"\"\"Assumes src and dest are nodes\"\"\"\n",
    "    def __init__(self, src, dest):\n",
    "        self.src = src\n",
    "        self.dest = dest\n",
    "    \n",
    "    def getSource(self, ):\n",
    "        return self.src\n",
    "    \n",
    "    def getDestination(self, ):\n",
    "        return self.dest\n",
    "    \n",
    "    def __str__ (self, ):\n",
    "        return self.src.getName() + \" -> \" + self.dest.getName()"
   ]
  },
  {
   "cell_type": "code",
   "execution_count": null,
   "id": "single-louisville",
   "metadata": {},
   "outputs": [],
   "source": [
    "class Digraph(object):\n",
    "    \"\"\"Edge is a dict mapping each node to a list of its childern\"\"\"\n",
    "    def __init__(self, ):\n",
    "        self.edges = {}\n",
    "    \n",
    "    def addNode(self, node, ):\n",
    "        if node in self.edges:\n",
    "            raise ValueError (\"Dublicate Node\")            \n",
    "        else:\n",
    "            self.edges[node] = []\n",
    "    \n",
    "    def addEdge(self, edge, ):\n",
    "        src = edge.getSource()\n",
    "        dest = edge.getDestination()\n",
    "        if not (src or dest in self.edges):\n",
    "            raise ValueError (\"Node not in graph\")\n",
    "        return self.edges[src].append(dest)\n",
    "        \n",
    "    def childerenOf(self, node, ):\n",
    "        return self.edges[node]\n",
    "    \n",
    "    def hasNode(self, node, ):\n",
    "        return node in self.edges\n",
    "    \n",
    "    def getNode(self, name, ):\n",
    "        for n in self.edges:\n",
    "            if n.getName() == name:\n",
    "                return n\n",
    "        raise NameError (name)\n",
    "    \n",
    "    def __str__(self, ):\n",
    "        result = \"\"\n",
    "        for src in self.edges:\n",
    "            for dest in self.edges[src]:\n",
    "                result = result + src.getName() + \"->\" + dest.getName() + \"\\n\"\n",
    "                return result[:-1]  # omit the last newline\n",
    "    "
   ]
  },
  {
   "cell_type": "code",
   "execution_count": null,
   "id": "younger-possible",
   "metadata": {},
   "outputs": [],
   "source": [
    "class Graph(Digraph):\n",
    "    def addEdge(self, edge):\n",
    "        Digraph.addEdge(self, edge)\n",
    "        rev = Edge(edge.getDestination(), edge.getSource())\n",
    "        Digraph.addEdge(self, rev)\n",
    "\n"
   ]
  },
  {
   "cell_type": "markdown",
   "id": "coastal-camping",
   "metadata": {},
   "source": [
    "### Example"
   ]
  },
  {
   "cell_type": "code",
   "execution_count": null,
   "id": "cross-fitting",
   "metadata": {},
   "outputs": [],
   "source": [
    "def buildCityGraph(graph_type):\n",
    "    \n",
    "    g = graph_type()\n",
    "    for name in (\"Boston\", \"Providence\", \"New York\", \"Chicago\",\n",
    "                 \"Denvor\", \"Phoenix\", \"Los Angles\"):\n",
    "        g.addNode(Node(name))\n",
    "    \n",
    "    g.addEdge(Edge(g.getNode(\"Boston\"), g.getNode(\"Providence\")))\n",
    "    g.addEdge(Edge(g.getNode(\"Boston\"), g.getNode(\"New York\")))\n",
    "    g.addEdge(Edge(g.getNode(\"Phoenix\"), g.getNode(\"Los Angles\")))\n",
    "    \n",
    "    return g"
   ]
  },
  {
   "cell_type": "code",
   "execution_count": null,
   "id": "significant-coffee",
   "metadata": {},
   "outputs": [],
   "source": [
    "g = buildCityGraph(Graph)"
   ]
  },
  {
   "cell_type": "code",
   "execution_count": null,
   "id": "alternate-soviet",
   "metadata": {},
   "outputs": [],
   "source": [
    "g = Digraph()\n",
    "for name in (\"Boston\", \"Providence\", \"New York\", \"Chicago\",\n",
    "             \"Denvor\", \"Phoenix\", \"Los Angles\"):\n",
    "    g.addNode(Node(name))\n",
    "\n",
    "g.addEdge(Edge(g.getNode(\"Boston\"), g.getNode(\"Providence\")))\n",
    "g.addEdge(Edge(g.getNode(\"Chicago\"), g.getNode(\"New York\")))\n",
    "g.addEdge(Edge(g.getNode(\"Phoenix\"), g.getNode(\"Los Angles\")))"
   ]
  },
  {
   "cell_type": "markdown",
   "id": "signed-factor",
   "metadata": {},
   "source": [
    "## Depth First Search (DFS)"
   ]
  },
  {
   "cell_type": "code",
   "execution_count": 1,
   "id": "joint-diamond",
   "metadata": {},
   "outputs": [],
   "source": [
    "city_graph = {}\n",
    "\n",
    "\n",
    "city_graph[\"Boston\"] = [\"Providence\", \"New York\"]\n",
    "\n",
    "city_graph[\"Providence\"] = [\"New York\"]\n",
    "\n",
    "city_graph[\"New York\"] = [\"Chicago\"]\n",
    "\n",
    "city_graph[\"Chicago\"] = [\"Denver\", \"Phoenix\", ]\n",
    "\n",
    "city_graph[\"Phoenix\"] = []\n",
    "\n",
    "\n",
    "city_graph[\"Denver\"] = [\"Phoenix\", \"New York\"]\n",
    "\n",
    "city_graph[\"Los Angles\"] = [\"Boston\"]\n"
   ]
  },
  {
   "cell_type": "code",
   "execution_count": 3,
   "id": "serial-exploration",
   "metadata": {},
   "outputs": [
    {
     "data": {
      "text/plain": [
       "{'Boston': ['Providence', 'New York'],\n",
       " 'Providence': ['New York'],\n",
       " 'New York': ['Chicago'],\n",
       " 'Chicago': ['Denver', 'Phoenix'],\n",
       " 'Phoenix': [],\n",
       " 'Denver': ['Phoenix', 'New York'],\n",
       " 'Los Angles': ['Boston']}"
      ]
     },
     "execution_count": 3,
     "metadata": {},
     "output_type": "execute_result"
    }
   ],
   "source": [
    "city_graph"
   ]
  },
  {
   "cell_type": "code",
   "execution_count": 5,
   "id": "improved-casting",
   "metadata": {},
   "outputs": [],
   "source": [
    "def DFS(graph, start, end, path, shortest, to_print):\n",
    "    \n",
    "    path = path + [start]\n",
    "    \n",
    "    if to_print:\n",
    "        print(\"Current path:\", path)\n",
    "        \n",
    "    if start == end:\n",
    "        return path\n",
    "    \n",
    "    for node in graph[start]:\n",
    "        if node not in path:  # avoid cycles\n",
    "            if shortest == None or len(path) < len(shortest):\n",
    "                new_path = DFS(graph, node, end, path, shortest, to_print)\n",
    "            if new_path != None:\n",
    "                shortest = new_path\n",
    "        else:\n",
    "            print(node, \" has been visited\")\n",
    "    return shortest\n",
    "                \n",
    "\n",
    "    \n",
    "def shortest_path(graph, start, end):\n",
    "    return DFS(graph, start, end, [], None, to_print=True)\n",
    "    \n",
    "    "
   ]
  },
  {
   "cell_type": "code",
   "execution_count": 9,
   "id": "generic-arthur",
   "metadata": {},
   "outputs": [
    {
     "name": "stdout",
     "output_type": "stream",
     "text": [
      "Current path: ['Chicago']\n",
      "Current path: ['Chicago', 'Denver']\n",
      "Current path: ['Chicago', 'Denver', 'Phoenix']\n",
      "Current path: ['Chicago', 'Denver', 'New York']\n",
      "Chicago  has been visited\n",
      "Current path: ['Chicago', 'Phoenix']\n",
      "No path\n"
     ]
    }
   ],
   "source": [
    "found_dfs_path = shortest_path(graph=city_graph, start=\"Chicago\", end=\"Boston\", )\n",
    "\n",
    "if found_dfs_path:\n",
    "    print(\"found path by DFS:\", found_dfs_path)\n",
    "else:\n",
    "    print(\"No path\")"
   ]
  },
  {
   "cell_type": "code",
   "execution_count": 10,
   "id": "gross-spouse",
   "metadata": {},
   "outputs": [
    {
     "name": "stdout",
     "output_type": "stream",
     "text": [
      "Current path: ['Boston']\n",
      "Current path: ['Boston', 'Providence']\n",
      "Current path: ['Boston', 'Providence', 'New York']\n",
      "Current path: ['Boston', 'Providence', 'New York', 'Chicago']\n",
      "Current path: ['Boston', 'Providence', 'New York', 'Chicago', 'Denver']\n",
      "Current path: ['Boston', 'Providence', 'New York', 'Chicago', 'Denver', 'Phoenix']\n",
      "New York  has been visited\n",
      "Current path: ['Boston', 'Providence', 'New York', 'Chicago', 'Phoenix']\n",
      "Current path: ['Boston', 'New York']\n",
      "Current path: ['Boston', 'New York', 'Chicago']\n",
      "Current path: ['Boston', 'New York', 'Chicago', 'Denver']\n",
      "Current path: ['Boston', 'New York', 'Chicago', 'Denver', 'Phoenix']\n",
      "New York  has been visited\n",
      "Current path: ['Boston', 'New York', 'Chicago', 'Phoenix']\n",
      "found path by DFS: ['Boston', 'New York', 'Chicago', 'Phoenix']\n"
     ]
    }
   ],
   "source": [
    "found_dfs_path = shortest_path(graph=city_graph, start=\"Boston\", end=\"Phoenix\", )\n",
    "\n",
    "if found_dfs_path:\n",
    "    print(\"found path by DFS:\", found_dfs_path)\n",
    "else:\n",
    "    print(\"No path\")"
   ]
  },
  {
   "cell_type": "code",
   "execution_count": 11,
   "id": "integrated-cartridge",
   "metadata": {},
   "outputs": [
    {
     "data": {
      "text/plain": [
       "['Boston', 'New York', 'Chicago', 'Phoenix']"
      ]
     },
     "execution_count": 11,
     "metadata": {},
     "output_type": "execute_result"
    }
   ],
   "source": [
    "found_dfs_path"
   ]
  },
  {
   "cell_type": "code",
   "execution_count": null,
   "id": "exclusive-think",
   "metadata": {},
   "outputs": [],
   "source": []
  }
 ],
 "metadata": {
  "kernelspec": {
   "display_name": "Python 3",
   "language": "python",
   "name": "python3"
  },
  "language_info": {
   "codemirror_mode": {
    "name": "ipython",
    "version": 3
   },
   "file_extension": ".py",
   "mimetype": "text/x-python",
   "name": "python",
   "nbconvert_exporter": "python",
   "pygments_lexer": "ipython3",
   "version": "3.9.1"
  }
 },
 "nbformat": 4,
 "nbformat_minor": 5
}
