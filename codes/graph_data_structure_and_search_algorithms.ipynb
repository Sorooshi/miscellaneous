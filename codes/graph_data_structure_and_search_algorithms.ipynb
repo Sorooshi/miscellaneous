{
 "cells": [
  {
   "cell_type": "markdown",
   "id": "collectible-night",
   "metadata": {},
   "source": [
    "# Graph data structure and search algorithms\n",
    "\n",
    "## Graph data structure \n",
    "\n"
   ]
  },
  {
   "cell_type": "code",
   "execution_count": 27,
   "id": "cleared-plastic",
   "metadata": {},
   "outputs": [],
   "source": [
    "class Node(object):\n",
    "    \"\"\"Assumes node is a string\"\"\"\n",
    "    def __init__(self, name, ):\n",
    "        self.name = name \n",
    "        \n",
    "    def getName(self, ):\n",
    "        return self.name\n",
    "    \n",
    "    def __str__(self, ):\n",
    "        return self.name "
   ]
  },
  {
   "cell_type": "code",
   "execution_count": 28,
   "id": "operational-toilet",
   "metadata": {},
   "outputs": [],
   "source": [
    "class Edge(object):\n",
    "    \"\"\"Assumes src and dest are nodes\"\"\"\n",
    "    def __init__(self, src, dest):\n",
    "        self.src = src\n",
    "        self.dest = dest\n",
    "    \n",
    "    def getSource(self, ):\n",
    "        return self.src\n",
    "    \n",
    "    def getDestination(self, ):\n",
    "        return self.dest\n",
    "    \n",
    "    def __str__ (self, ):\n",
    "        return self.src.getName() + \" -> \" + self.dest.getName()"
   ]
  },
  {
   "cell_type": "code",
   "execution_count": 29,
   "id": "single-louisville",
   "metadata": {},
   "outputs": [],
   "source": [
    "class Digraph(object):\n",
    "    \"\"\"Edge is a dict mapping each node to a list of its childern\"\"\"\n",
    "    def __init__(self, ):\n",
    "        self.edges = {}\n",
    "    \n",
    "    def addNode(self, node, ):\n",
    "        if node in self.edges:\n",
    "            raise ValueError (\"Dublicate Node\")            \n",
    "        else:\n",
    "            self.edges[node] = []\n",
    "    \n",
    "    def addEdge(self, edge, ):\n",
    "        src = edge.getSource()\n",
    "        dest = edge.getDestination()\n",
    "        if not (src or dest in self.edges):\n",
    "            raise ValueError (\"Node not in graph\")\n",
    "        return self.edges[src].append(dest)\n",
    "        \n",
    "    def childerenOf(self, node, ):\n",
    "        return self.edges[node]\n",
    "    \n",
    "    def hasNode(self, node, ):\n",
    "        return node in self.edges\n",
    "    \n",
    "    def getNode(self, name, ):\n",
    "        for n in self.edges:\n",
    "            if n.getName() == name:\n",
    "                return n\n",
    "        raise NameError (name)\n",
    "    \n",
    "    def __str__(self, ):\n",
    "        result = \"\"\n",
    "        for src in self.edges:\n",
    "            for dest in self.edges[src]:\n",
    "                result = result + src.getName() + \"->\" + dest.getName() + \"\\n\"\n",
    "                return result[:-1]  # omit the last newline\n",
    "    "
   ]
  },
  {
   "cell_type": "code",
   "execution_count": 30,
   "id": "younger-possible",
   "metadata": {},
   "outputs": [],
   "source": [
    "class Graph(Digraph):\n",
    "    def addEdge(self, edge):\n",
    "        Digraph.addEdge(self, edge)\n",
    "        rev = Edge(edge.getDestination(), edge.getSource())\n",
    "        Digraph.addEdge(self, rev)\n",
    "\n"
   ]
  },
  {
   "cell_type": "markdown",
   "id": "coastal-camping",
   "metadata": {},
   "source": [
    "### Example"
   ]
  },
  {
   "cell_type": "code",
   "execution_count": 31,
   "id": "cross-fitting",
   "metadata": {},
   "outputs": [],
   "source": [
    "def buildCityGraph(graph_type):\n",
    "    \n",
    "    g = graph_type()\n",
    "    for name in (\"Boston\", \"Providence\", \"New York\", \"Chicago\",\n",
    "                 \"Denvor\", \"Phoenix\", \"Los Angles\"):\n",
    "        g.addNode(Node(name))\n",
    "    \n",
    "    g.addEdge(Edge(g.getNode(\"Boston\"), g.getNode(\"Providence\")))\n",
    "    g.addEdge(Edge(g.getNode(\"Boston\"), g.getNode(\"New York\")))\n",
    "    g.addEdge(Edge(g.getNode(\"Phoenix\"), g.getNode(\"Los Angles\")))\n",
    "    \n",
    "    return g"
   ]
  },
  {
   "cell_type": "code",
   "execution_count": 33,
   "id": "significant-coffee",
   "metadata": {},
   "outputs": [],
   "source": [
    "g = buildCityGraph(Graph)"
   ]
  },
  {
   "cell_type": "code",
   "execution_count": null,
   "id": "alternate-soviet",
   "metadata": {},
   "outputs": [],
   "source": []
  },
  {
   "cell_type": "code",
   "execution_count": null,
   "id": "distant-diana",
   "metadata": {},
   "outputs": [],
   "source": []
  }
 ],
 "metadata": {
  "kernelspec": {
   "display_name": "Python 3",
   "language": "python",
   "name": "python3"
  },
  "language_info": {
   "codemirror_mode": {
    "name": "ipython",
    "version": 3
   },
   "file_extension": ".py",
   "mimetype": "text/x-python",
   "name": "python",
   "nbconvert_exporter": "python",
   "pygments_lexer": "ipython3",
   "version": "3.9.1"
  }
 },
 "nbformat": 4,
 "nbformat_minor": 5
}
