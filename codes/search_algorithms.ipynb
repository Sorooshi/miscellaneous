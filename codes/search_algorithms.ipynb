{
 "cells": [
  {
   "cell_type": "code",
   "execution_count": 2,
   "metadata": {},
   "outputs": [],
   "source": [
    "import time\n",
    "import math\n",
    "import itertools \n",
    "import numpy as np\n",
    "\n"
   ]
  },
  {
   "cell_type": "code",
   "execution_count": 3,
   "metadata": {},
   "outputs": [],
   "source": [
    "def factorial(num):\n",
    "    factorial = 1\n",
    "    if num > 1:\n",
    "        for i in range(1, num+1):\n",
    "            factorial = factorial*i\n",
    "        return factorial\n",
    "    else:\n",
    "        return factorial\n",
    "    \n",
    "    "
   ]
  },
  {
   "cell_type": "code",
   "execution_count": 4,
   "metadata": {},
   "outputs": [],
   "source": [
    "def factoril_memoization(num):\n",
    "    \n",
    "    return None"
   ]
  },
  {
   "cell_type": "code",
   "execution_count": 5,
   "metadata": {},
   "outputs": [],
   "source": [
    "def factorial_tabulization(num):\n",
    "    return None"
   ]
  },
  {
   "cell_type": "code",
   "execution_count": 6,
   "metadata": {},
   "outputs": [],
   "source": [
    "def comb(n, k):\n",
    "    return math.factorial(n) / (math.factorial(k)*math.factorial(n-k))\n"
   ]
  },
  {
   "cell_type": "code",
   "execution_count": 7,
   "metadata": {},
   "outputs": [],
   "source": [
    "\n",
    "def perm(n, k):\n",
    "    return math.factorial(n) / math.factorial(n-k)\n",
    "\n"
   ]
  },
  {
   "cell_type": "code",
   "execution_count": 8,
   "metadata": {},
   "outputs": [],
   "source": [
    "def fibonacci(n):\n",
    "    if n == 0:\n",
    "        return 0\n",
    "    elif n == 1 or n==2:\n",
    "        return 1\n",
    "    else:\n",
    "        return fibonacci(n-1) + fibonacci(n-2)\n",
    "        "
   ]
  },
  {
   "cell_type": "code",
   "execution_count": 9,
   "metadata": {},
   "outputs": [],
   "source": [
    "def fibonacci_seq(n):\n",
    "    assert n > 0 \n",
    "    if n == 0:\n",
    "        return 0\n",
    "    elif n == 1:\n",
    "        return 1\n",
    "    else:\n",
    "        fib = [0, 1]\n",
    "        while n >= 2:\n",
    "            fib += [fib[-1] + fib[-2]]\n",
    "            n -= 1\n",
    "        return fib\n"
   ]
  },
  {
   "cell_type": "code",
   "execution_count": 13,
   "metadata": {},
   "outputs": [],
   "source": [
    "def fibonacci_num(n):\n",
    "    idx = n\n",
    "    assert n > 0 \n",
    "    if n == 0:\n",
    "        return 0\n",
    "    elif n == 1:\n",
    "        return 1\n",
    "    else:\n",
    "        fib = [0, 1]\n",
    "        while n >= 2:\n",
    "            fib += [fib[-1] + fib[-2]]\n",
    "            n -= 1\n",
    "        \n",
    "        return fib[idx]\n",
    "\n"
   ]
  },
  {
   "cell_type": "code",
   "execution_count": 14,
   "metadata": {
    "scrolled": true
   },
   "outputs": [
    {
     "data": {
      "text/plain": [
       "[0,\n",
       " 1,\n",
       " 1,\n",
       " 2,\n",
       " 3,\n",
       " 5,\n",
       " 8,\n",
       " 13,\n",
       " 21,\n",
       " 34,\n",
       " 55,\n",
       " 89,\n",
       " 144,\n",
       " 233,\n",
       " 377,\n",
       " 610,\n",
       " 987,\n",
       " 1597,\n",
       " 2584,\n",
       " 4181,\n",
       " 6765]"
      ]
     },
     "execution_count": 14,
     "metadata": {},
     "output_type": "execute_result"
    }
   ],
   "source": [
    "fibonacci_seq(20)"
   ]
  },
  {
   "cell_type": "code",
   "execution_count": 41,
   "metadata": {},
   "outputs": [
    {
     "data": {
      "text/plain": [
       "6765"
      ]
     },
     "execution_count": 41,
     "metadata": {},
     "output_type": "execute_result"
    }
   ],
   "source": [
    "fibonacci_num(20)"
   ]
  },
  {
   "cell_type": "markdown",
   "metadata": {},
   "source": [
    "### combinations, permutations and all possible subsets"
   ]
  },
  {
   "cell_type": "code",
   "execution_count": 16,
   "metadata": {},
   "outputs": [
    {
     "data": {
      "text/plain": [
       "{'Bread & Cheese', 'Egg', 'Poridge'}"
      ]
     },
     "execution_count": 16,
     "metadata": {},
     "output_type": "execute_result"
    }
   ],
   "source": [
    "breakfast = set([\"Poridge\", \"Egg\", \"Bread & Cheese\"])\n",
    "breakfast"
   ]
  },
  {
   "cell_type": "code",
   "execution_count": 17,
   "metadata": {},
   "outputs": [
    {
     "data": {
      "text/plain": [
       "{'C&M', 'Chicken', 'Meat', 'Vegtables'}"
      ]
     },
     "execution_count": 17,
     "metadata": {},
     "output_type": "execute_result"
    }
   ],
   "source": [
    "launch = set([\"Chicken\", \"Meat\", \"Vegtables\", \"C&M\"])\n",
    "launch"
   ]
  },
  {
   "cell_type": "code",
   "execution_count": 18,
   "metadata": {},
   "outputs": [
    {
     "data": {
      "text/plain": [
       "{'Salad', 'Soup'}"
      ]
     },
     "execution_count": 18,
     "metadata": {},
     "output_type": "execute_result"
    }
   ],
   "source": [
    "dinner = set([\"Salad\", \"Soup\"])\n",
    "dinner"
   ]
  },
  {
   "cell_type": "code",
   "execution_count": 19,
   "metadata": {},
   "outputs": [
    {
     "name": "stdout",
     "output_type": "stream",
     "text": [
      "24\n"
     ]
    },
    {
     "data": {
      "text/plain": [
       "([('Bread & Cheese', 'Meat', 'Soup'),\n",
       "  ('Bread & Cheese', 'Meat', 'Salad'),\n",
       "  ('Bread & Cheese', 'C&M', 'Soup'),\n",
       "  ('Bread & Cheese', 'C&M', 'Salad'),\n",
       "  ('Bread & Cheese', 'Chicken', 'Soup'),\n",
       "  ('Bread & Cheese', 'Chicken', 'Salad'),\n",
       "  ('Bread & Cheese', 'Vegtables', 'Soup'),\n",
       "  ('Bread & Cheese', 'Vegtables', 'Salad'),\n",
       "  ('Egg', 'Meat', 'Soup'),\n",
       "  ('Egg', 'Meat', 'Salad'),\n",
       "  ('Egg', 'C&M', 'Soup'),\n",
       "  ('Egg', 'C&M', 'Salad'),\n",
       "  ('Egg', 'Chicken', 'Soup'),\n",
       "  ('Egg', 'Chicken', 'Salad'),\n",
       "  ('Egg', 'Vegtables', 'Soup'),\n",
       "  ('Egg', 'Vegtables', 'Salad'),\n",
       "  ('Poridge', 'Meat', 'Soup'),\n",
       "  ('Poridge', 'Meat', 'Salad'),\n",
       "  ('Poridge', 'C&M', 'Soup'),\n",
       "  ('Poridge', 'C&M', 'Salad'),\n",
       "  ('Poridge', 'Chicken', 'Soup'),\n",
       "  ('Poridge', 'Chicken', 'Salad'),\n",
       "  ('Poridge', 'Vegtables', 'Soup'),\n",
       "  ('Poridge', 'Vegtables', 'Salad')],)"
      ]
     },
     "execution_count": 19,
     "metadata": {},
     "output_type": "execute_result"
    }
   ],
   "source": [
    "all_possible_food_options = list(itertools.product(breakfast, launch, dinner))\n",
    "print(len(all_possible_food_options))\n",
    "all_possible_food_options, "
   ]
  },
  {
   "cell_type": "code",
   "execution_count": 21,
   "metadata": {},
   "outputs": [
    {
     "data": {
      "text/plain": [
       "True"
      ]
     },
     "execution_count": 21,
     "metadata": {},
     "output_type": "execute_result"
    }
   ],
   "source": [
    "len(all_possible_food_options) == perm(len(breakfast), 1) * perm(len(launch), 1)* perm(len(dinner), 1)"
   ]
  },
  {
   "cell_type": "code",
   "execution_count": 22,
   "metadata": {},
   "outputs": [
    {
     "data": {
      "text/plain": [
       "True"
      ]
     },
     "execution_count": 22,
     "metadata": {},
     "output_type": "execute_result"
    }
   ],
   "source": [
    "len(all_possible_food_options) == comb(len(breakfast), 1) * comb(len(launch), 1)* comb(len(dinner), 1)"
   ]
  },
  {
   "cell_type": "code",
   "execution_count": 23,
   "metadata": {},
   "outputs": [
    {
     "data": {
      "text/plain": [
       "(6.0, 12.0)"
      ]
     },
     "execution_count": 23,
     "metadata": {},
     "output_type": "execute_result"
    }
   ],
   "source": [
    "comb(len(launch), 2), perm(len(launch), 2)"
   ]
  },
  {
   "cell_type": "markdown",
   "metadata": {},
   "source": [
    "### Brute Force Algorithm: factors"
   ]
  },
  {
   "cell_type": "code",
   "execution_count": 26,
   "metadata": {},
   "outputs": [],
   "source": [
    "def brute_force_factor(x):\n",
    "    return [i for i in range(1, x+1) if x%i==0 ]"
   ]
  },
  {
   "cell_type": "code",
   "execution_count": 27,
   "metadata": {},
   "outputs": [
    {
     "name": "stdout",
     "output_type": "stream",
     "text": [
      "[1, 7] [1, 2, 5, 10] [1, 2, 3, 4, 6, 12] [1, 2, 4, 8, 16] [1, 2, 3, 4, 6, 8, 12, 24]\n",
      "CPU times: user 2.35 ms, sys: 0 ns, total: 2.35 ms\n",
      "Wall time: 1.45 ms\n"
     ]
    }
   ],
   "source": [
    "%%time\n",
    "\n",
    "print(brute_force_factor(7), brute_force_factor(10),\n",
    "brute_force_factor(12), brute_force_factor(16), \n",
    "brute_force_factor(24))\n",
    "\n"
   ]
  },
  {
   "cell_type": "markdown",
   "metadata": {},
   "source": [
    "### Bread First Algorithm: factors"
   ]
  },
  {
   "cell_type": "code",
   "execution_count": 33,
   "metadata": {},
   "outputs": [],
   "source": [
    "def breadth_first_factors(x):\n",
    "    factors = []\n",
    "    i = 1\n",
    "    while i*i <= x:\n",
    "        if x % i == 0:\n",
    "            factors.append(i)\n",
    "            if x % i == 0 and x // i != i:\n",
    "                factors.append(x // i)\n",
    "        i += 1\n",
    "    return factors\n",
    "    "
   ]
  },
  {
   "cell_type": "code",
   "execution_count": 34,
   "metadata": {},
   "outputs": [
    {
     "name": "stdout",
     "output_type": "stream",
     "text": [
      "[1, 7] [1, 10, 2, 5] [1, 12, 2, 6, 3, 4] [1, 16, 2, 8, 4] [1, 24, 2, 12, 3, 8, 4, 6]\n",
      "CPU times: user 736 µs, sys: 546 µs, total: 1.28 ms\n",
      "Wall time: 726 µs\n"
     ]
    }
   ],
   "source": [
    "%%time \n",
    "\n",
    "print(breadth_first_factors(7), breadth_first_factors(10), \n",
    "      breadth_first_factors(12), breadth_first_factors(16), \n",
    "      breadth_first_factors(24))\n",
    "\n",
    "\n"
   ]
  },
  {
   "cell_type": "markdown",
   "metadata": {},
   "source": [
    "### Binary Search"
   ]
  },
  {
   "cell_type": "code",
   "execution_count": 35,
   "metadata": {},
   "outputs": [],
   "source": [
    "def linear_search(arr, x):\n",
    "    for i in range(len(arr)):\n",
    "        if x == arr[i]:\n",
    "            return i\n",
    "    return -1 "
   ]
  },
  {
   "cell_type": "code",
   "execution_count": 36,
   "metadata": {},
   "outputs": [
    {
     "name": "stdout",
     "output_type": "stream",
     "text": [
      "CPU times: user 2 µs, sys: 1e+03 ns, total: 3 µs\n",
      "Wall time: 4.77 µs\n"
     ]
    },
    {
     "data": {
      "text/plain": [
       "3"
      ]
     },
     "execution_count": 36,
     "metadata": {},
     "output_type": "execute_result"
    }
   ],
   "source": [
    "%%time \n",
    "linear_search(arr=[2, 3, 4, 10, 40], x=10)"
   ]
  },
  {
   "cell_type": "markdown",
   "metadata": {},
   "source": [
    "### Recursive program to linearly search an element in a given array"
   ]
  },
  {
   "cell_type": "code",
   "execution_count": 53,
   "metadata": {},
   "outputs": [],
   "source": [
    "def recursive_search(arr, x, l, r):\n",
    "    if r < l:\n",
    "        return -1\n",
    "    elif arr[l] == x:\n",
    "        return l\n",
    "    elif arr[r] == x:\n",
    "        return r\n",
    "    else:\n",
    "        return recursive_search(arr, x, l+1, r-1)"
   ]
  },
  {
   "cell_type": "code",
   "execution_count": 54,
   "metadata": {},
   "outputs": [
    {
     "data": {
      "text/plain": [
       "3"
      ]
     },
     "execution_count": 54,
     "metadata": {},
     "output_type": "execute_result"
    }
   ],
   "source": [
    "tmp = [2, 3, 4, 10, 40]\n",
    "recursive_search(arr=tmp, x=10, l=0, r=len(tmp)-1)"
   ]
  },
  {
   "cell_type": "code",
   "execution_count": 36,
   "metadata": {},
   "outputs": [],
   "source": [
    "def binary_search(arr, x, left, right):\n",
    "    \n",
    "    \"\"\"\n",
    "    works on a sorted array\n",
    "    \"\"\"\n",
    "    \n",
    "    if right >= left:\n",
    "        middle =(left+right) // 2\n",
    "        if arr[middle] == x:\n",
    "            return middle\n",
    "        if x > arr[middle]:  # right search\n",
    "            left = middle+1 \n",
    "            return binary_search(arr, x, left, right)\n",
    "        elif x < arr[middle]: # left search\n",
    "            right = middle-1 \n",
    "            return binary_search(arr, x, left, right)\n",
    "    else:\n",
    "        return -1\n",
    "    "
   ]
  },
  {
   "cell_type": "code",
   "execution_count": 43,
   "metadata": {},
   "outputs": [
    {
     "data": {
      "text/plain": [
       "6"
      ]
     },
     "execution_count": 43,
     "metadata": {},
     "output_type": "execute_result"
    }
   ],
   "source": [
    "arr = [1, 2, 5, 8, 10, 11, 13]\n",
    "binary_search(arr=arr, x=13, left=0, right=len(arr)-1)"
   ]
  },
  {
   "cell_type": "code",
   "execution_count": null,
   "metadata": {},
   "outputs": [],
   "source": []
  },
  {
   "cell_type": "markdown",
   "metadata": {},
   "source": [
    "### The 0/1 Knapsack Problem\n",
    "\n",
    "Toy example: \n",
    "\n",
    "- Capacity C = 8\n",
    "- Number of items N = 4\n",
    "- Values V = [1, 2, 5, 6]\n",
    "- Weights W = [2, 3, 4, 5]\n",
    "\n",
    "objective: to maximize profit, i.e., maximize the values while the weight is at most equal to C.\n",
    "Each object can be chosen only once.\n",
    "\n"
   ]
  },
  {
   "cell_type": "code",
   "execution_count": 55,
   "metadata": {},
   "outputs": [],
   "source": [
    "C = 8\n",
    "N = 4\n",
    "V = [1, 2, 5, 6]\n",
    "W = [2, 3, 4, 5]\n",
    "\n"
   ]
  },
  {
   "cell_type": "code",
   "execution_count": 85,
   "metadata": {},
   "outputs": [
    {
     "data": {
      "text/plain": [
       "[1, 10, 90, 720, 5040, 30240, 151200, 604800, 1814400, 3628800]"
      ]
     },
     "execution_count": 85,
     "metadata": {},
     "output_type": "execute_result"
    }
   ],
   "source": [
    "tmp = set(list(np.arange(10)))\n",
    "possibilities= []\n",
    "for i in range(len(tmp)):\n",
    "    possibilities.append(len(list(itertools.permutations(tmp, i))))\n",
    "    \n",
    "possibilities"
   ]
  },
  {
   "cell_type": "code",
   "execution_count": 87,
   "metadata": {},
   "outputs": [
    {
     "data": {
      "text/plain": [
       "6235301"
      ]
     },
     "execution_count": 87,
     "metadata": {},
     "output_type": "execute_result"
    }
   ],
   "source": [
    "np.asarray(possibilities).sum()"
   ]
  },
  {
   "cell_type": "code",
   "execution_count": 88,
   "metadata": {},
   "outputs": [
    {
     "data": {
      "text/plain": [
       "10.0"
      ]
     },
     "execution_count": 88,
     "metadata": {},
     "output_type": "execute_result"
    }
   ],
   "source": [
    "for i in range(10):\n",
    "    tmp = [perm(10, 1)]"
   ]
  },
  {
   "cell_type": "markdown",
   "metadata": {},
   "source": [
    "### Fibonacci Search"
   ]
  },
  {
   "cell_type": "code",
   "execution_count": null,
   "metadata": {},
   "outputs": [],
   "source": []
  },
  {
   "cell_type": "code",
   "execution_count": null,
   "metadata": {},
   "outputs": [],
   "source": []
  },
  {
   "cell_type": "code",
   "execution_count": null,
   "metadata": {},
   "outputs": [],
   "source": []
  },
  {
   "cell_type": "code",
   "execution_count": null,
   "metadata": {},
   "outputs": [],
   "source": []
  },
  {
   "cell_type": "code",
   "execution_count": null,
   "metadata": {},
   "outputs": [],
   "source": []
  }
 ],
 "metadata": {
  "kernelspec": {
   "display_name": "tfGvenv",
   "language": "python",
   "name": "tfgvenv"
  },
  "language_info": {
   "codemirror_mode": {
    "name": "ipython",
    "version": 3
   },
   "file_extension": ".py",
   "mimetype": "text/x-python",
   "name": "python",
   "nbconvert_exporter": "python",
   "pygments_lexer": "ipython3",
   "version": "3.6.9"
  }
 },
 "nbformat": 4,
 "nbformat_minor": 4
}
