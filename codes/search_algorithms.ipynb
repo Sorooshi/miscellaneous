{
 "cells": [
  {
   "cell_type": "code",
   "execution_count": 99,
   "metadata": {},
   "outputs": [],
   "source": [
    "import time\n",
    "import math\n",
    "import itertools \n",
    "import numpy as np\n",
    "\n"
   ]
  },
  {
   "cell_type": "code",
   "execution_count": 100,
   "metadata": {},
   "outputs": [],
   "source": [
    "def factorial(num):\n",
    "    factorial = 1\n",
    "    if num > 1:\n",
    "        for i in range(1, num+1):\n",
    "            factorial = factorial*i\n",
    "        return factorial\n",
    "    else:\n",
    "        return factorial\n",
    "    \n",
    "    "
   ]
  },
  {
   "cell_type": "code",
   "execution_count": 101,
   "metadata": {},
   "outputs": [],
   "source": [
    "def comb(n, k):\n",
    "    return math.factorial(n) / (math.factorial(k)*math.factorial(n-k))\n"
   ]
  },
  {
   "cell_type": "code",
   "execution_count": 102,
   "metadata": {},
   "outputs": [],
   "source": [
    "\n",
    "def perm(n, k):\n",
    "    return math.factorial(n) / math.factorial(n-k)\n",
    "\n"
   ]
  },
  {
   "cell_type": "markdown",
   "metadata": {},
   "source": [
    "### Brute Force Algorithm: factors"
   ]
  },
  {
   "cell_type": "code",
   "execution_count": 105,
   "metadata": {},
   "outputs": [],
   "source": [
    "def brute_force_factor(x):\n",
    "    return [i for i in range(1, x+1) if x%i==0 ]"
   ]
  },
  {
   "cell_type": "code",
   "execution_count": 107,
   "metadata": {},
   "outputs": [
    {
     "name": "stdout",
     "output_type": "stream",
     "text": [
      "[1, 7] [1, 2, 5, 10] [1, 2, 3, 4, 6, 12] [1, 2, 4, 8, 16] [1, 2, 3, 4, 6, 8, 12, 24]\n",
      "CPU times: user 1.06 ms, sys: 98 µs, total: 1.16 ms\n",
      "Wall time: 1.12 ms\n"
     ]
    }
   ],
   "source": [
    "%%time\n",
    "\n",
    "print(brute_force_factor(7), brute_force_factor(10),\n",
    "brute_force_factor(12), brute_force_factor(16), \n",
    "brute_force_factor(24))\n",
    "\n"
   ]
  },
  {
   "cell_type": "markdown",
   "metadata": {},
   "source": [
    "### Bread First Algorithm: factors"
   ]
  },
  {
   "cell_type": "code",
   "execution_count": 95,
   "metadata": {},
   "outputs": [],
   "source": [
    "def breadth_first_factors(x):\n",
    "    factors = []\n",
    "    i = 1\n",
    "    while i*i <= x:\n",
    "        if x % i == 0:\n",
    "            factors.append(i)\n",
    "            if x % i == 0 and x // i != i:\n",
    "                factors.append(x // i)\n",
    "        i += 1\n",
    "    return factors\n",
    "    "
   ]
  },
  {
   "cell_type": "code",
   "execution_count": 109,
   "metadata": {},
   "outputs": [
    {
     "name": "stdout",
     "output_type": "stream",
     "text": [
      "[1, 7] [1, 10, 2, 5] [1, 12, 2, 6, 3, 4] [1, 16, 2, 8, 4] [1, 24, 2, 12, 3, 8, 4, 6]\n",
      "CPU times: user 1 ms, sys: 83 µs, total: 1.09 ms\n",
      "Wall time: 1.05 ms\n"
     ]
    }
   ],
   "source": [
    "%%time \n",
    "\n",
    "print(breadth_first_factors(7), breadth_first_factors(10), \n",
    "      breadth_first_factors(12), breadth_first_factors(16), \n",
    "      breadth_first_factors(24))\n",
    "\n",
    "\n"
   ]
  },
  {
   "cell_type": "markdown",
   "metadata": {},
   "source": [
    "### Binary Search"
   ]
  },
  {
   "cell_type": "code",
   "execution_count": 115,
   "metadata": {},
   "outputs": [],
   "source": [
    "def linear_search(arr, x):\n",
    "    for i in range(len(arr)):\n",
    "        if x == arr[i]:\n",
    "            return i\n",
    "    return -1 "
   ]
  },
  {
   "cell_type": "code",
   "execution_count": 116,
   "metadata": {},
   "outputs": [
    {
     "name": "stdout",
     "output_type": "stream",
     "text": [
      "CPU times: user 7 µs, sys: 1e+03 ns, total: 8 µs\n",
      "Wall time: 11 µs\n"
     ]
    },
    {
     "data": {
      "text/plain": [
       "3"
      ]
     },
     "execution_count": 116,
     "metadata": {},
     "output_type": "execute_result"
    }
   ],
   "source": [
    "%%time \n",
    "linear_search(arr=[2, 3, 4, 10, 40], x=10)"
   ]
  },
  {
   "cell_type": "code",
   "execution_count": null,
   "metadata": {},
   "outputs": [],
   "source": [
    "# def binary_search(arr, x):\n",
    "\n",
    "#     arr = arr.sort()\n",
    "#     mid_val = int(len(arr)/2)\n",
    "#     interval = len(arr[])\n",
    "\n",
    "#     while mid_val != 0:\n",
    "#         if x <= arr[:interval]:\n",
    "#             # search in lower part\n",
    "#             if x == interval:\n",
    "#                 return interval\n",
    "#             else:\n",
    "#                 interval = int(interval/2)\n",
    "#         else:\n",
    "#             if x == interval:\n",
    "        "
   ]
  }
 ],
 "metadata": {
  "kernelspec": {
   "display_name": "tfGvenv",
   "language": "python",
   "name": "tfgvenv"
  },
  "language_info": {
   "codemirror_mode": {
    "name": "ipython",
    "version": 3
   },
   "file_extension": ".py",
   "mimetype": "text/x-python",
   "name": "python",
   "nbconvert_exporter": "python",
   "pygments_lexer": "ipython3",
   "version": "3.6.9"
  }
 },
 "nbformat": 4,
 "nbformat_minor": 4
}
