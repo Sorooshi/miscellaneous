{
 "cells": [
  {
   "cell_type": "code",
   "execution_count": 1,
   "metadata": {},
   "outputs": [],
   "source": [
    "import time\n",
    "import math\n",
    "import itertools \n",
    "import numpy as np\n",
    "\n"
   ]
  },
  {
   "cell_type": "code",
   "execution_count": 2,
   "metadata": {},
   "outputs": [],
   "source": [
    "def factorial(num):\n",
    "    factorial = 1\n",
    "    if num > 1:\n",
    "        for i in range(1, num+1):\n",
    "            factorial = factorial*i\n",
    "        return factorial\n",
    "    else:\n",
    "        return factorial\n",
    "    \n",
    "    "
   ]
  },
  {
   "cell_type": "code",
   "execution_count": 3,
   "metadata": {},
   "outputs": [],
   "source": [
    "def comb(n, k):\n",
    "    return math.factorial(n) / (math.factorial(k)*math.factorial(n-k))\n"
   ]
  },
  {
   "cell_type": "code",
   "execution_count": 4,
   "metadata": {},
   "outputs": [],
   "source": [
    "\n",
    "def perm(n, k):\n",
    "    return math.factorial(n) / math.factorial(n-k)\n",
    "\n"
   ]
  },
  {
   "cell_type": "code",
   "execution_count": 5,
   "metadata": {},
   "outputs": [],
   "source": [
    "def fibonacci(n):\n",
    "    if n == 0:\n",
    "        return 0\n",
    "    elif n == 1 or n==2:\n",
    "        return 1\n",
    "    else:\n",
    "        return fibonacci(n-1) + fibonacci(n-2)\n",
    "        "
   ]
  },
  {
   "cell_type": "code",
   "execution_count": 6,
   "metadata": {},
   "outputs": [],
   "source": [
    "def fibonacci_seq(n):\n",
    "    assert n > 0 \n",
    "    if n == 0:\n",
    "        return 0\n",
    "    elif n == 1:\n",
    "        return 1\n",
    "    else:\n",
    "        fib = [0, 1]\n",
    "        while n >= 2:\n",
    "            fib += [fib[-1] + fib[-2]]\n",
    "            n -= 1\n",
    "        return fib\n"
   ]
  },
  {
   "cell_type": "code",
   "execution_count": 7,
   "metadata": {},
   "outputs": [],
   "source": [
    "def fibonacci_num(n):\n",
    "    idx = n\n",
    "    assert n > 0 \n",
    "    if n == 0:\n",
    "        return 0\n",
    "    elif n == 1:\n",
    "        return 1\n",
    "    else:\n",
    "        fib = [0, 1]\n",
    "        while n >= 2:\n",
    "            fib += [fib[-1] + fib[-2]]\n",
    "            n -= 1\n",
    "        \n",
    "        return fib[idx]\n",
    "\n"
   ]
  },
  {
   "cell_type": "code",
   "execution_count": 8,
   "metadata": {},
   "outputs": [
    {
     "data": {
      "text/plain": [
       "[0,\n",
       " 1,\n",
       " 1,\n",
       " 2,\n",
       " 3,\n",
       " 5,\n",
       " 8,\n",
       " 13,\n",
       " 21,\n",
       " 34,\n",
       " 55,\n",
       " 89,\n",
       " 144,\n",
       " 233,\n",
       " 377,\n",
       " 610,\n",
       " 987,\n",
       " 1597,\n",
       " 2584,\n",
       " 4181,\n",
       " 6765]"
      ]
     },
     "execution_count": 8,
     "metadata": {},
     "output_type": "execute_result"
    }
   ],
   "source": [
    "fibonacci_seq(20)"
   ]
  },
  {
   "cell_type": "code",
   "execution_count": 9,
   "metadata": {},
   "outputs": [
    {
     "data": {
      "text/plain": [
       "6765"
      ]
     },
     "execution_count": 9,
     "metadata": {},
     "output_type": "execute_result"
    }
   ],
   "source": [
    "fibonacci_num(20)"
   ]
  },
  {
   "cell_type": "markdown",
   "metadata": {},
   "source": [
    "### Brute Force Algorithm: factors"
   ]
  },
  {
   "cell_type": "code",
   "execution_count": 10,
   "metadata": {},
   "outputs": [],
   "source": [
    "def brute_force_factor(x):\n",
    "    return [i for i in range(1, x+1) if x%i==0 ]"
   ]
  },
  {
   "cell_type": "code",
   "execution_count": 11,
   "metadata": {},
   "outputs": [
    {
     "name": "stdout",
     "output_type": "stream",
     "text": [
      "[1, 7] [1, 2, 5, 10] [1, 2, 3, 4, 6, 12] [1, 2, 4, 8, 16] [1, 2, 3, 4, 6, 8, 12, 24]\n",
      "CPU times: user 964 µs, sys: 0 ns, total: 964 µs\n",
      "Wall time: 978 µs\n"
     ]
    }
   ],
   "source": [
    "%%time\n",
    "\n",
    "print(brute_force_factor(7), brute_force_factor(10),\n",
    "brute_force_factor(12), brute_force_factor(16), \n",
    "brute_force_factor(24))\n",
    "\n"
   ]
  },
  {
   "cell_type": "markdown",
   "metadata": {},
   "source": [
    "### Bread First Algorithm: factors"
   ]
  },
  {
   "cell_type": "code",
   "execution_count": 12,
   "metadata": {},
   "outputs": [],
   "source": [
    "def breadth_first_factors(x):\n",
    "    factors = []\n",
    "    i = 1\n",
    "    while i*i <= x:\n",
    "        if x % i == 0:\n",
    "            factors.append(i)\n",
    "            if x % i == 0 and x // i != i:\n",
    "                factors.append(x // i)\n",
    "        i += 1\n",
    "    return factors\n",
    "    "
   ]
  },
  {
   "cell_type": "code",
   "execution_count": 13,
   "metadata": {},
   "outputs": [
    {
     "name": "stdout",
     "output_type": "stream",
     "text": [
      "[1, 7] [1, 10, 2, 5] [1, 12, 2, 6, 3, 4] [1, 16, 2, 8, 4] [1, 24, 2, 12, 3, 8, 4, 6]\n",
      "CPU times: user 977 µs, sys: 0 ns, total: 977 µs\n",
      "Wall time: 723 µs\n"
     ]
    }
   ],
   "source": [
    "%%time \n",
    "\n",
    "print(breadth_first_factors(7), breadth_first_factors(10), \n",
    "      breadth_first_factors(12), breadth_first_factors(16), \n",
    "      breadth_first_factors(24))\n",
    "\n",
    "\n"
   ]
  },
  {
   "cell_type": "markdown",
   "metadata": {},
   "source": [
    "### Binary Search"
   ]
  },
  {
   "cell_type": "code",
   "execution_count": 45,
   "metadata": {},
   "outputs": [],
   "source": [
    "def linear_search(arr, x):\n",
    "    for i in range(len(arr)):\n",
    "        if x == arr[i]:\n",
    "            return i\n",
    "    return -1 "
   ]
  },
  {
   "cell_type": "code",
   "execution_count": 47,
   "metadata": {},
   "outputs": [
    {
     "name": "stdout",
     "output_type": "stream",
     "text": [
      "CPU times: user 9 µs, sys: 1 µs, total: 10 µs\n",
      "Wall time: 15 µs\n"
     ]
    },
    {
     "data": {
      "text/plain": [
       "3"
      ]
     },
     "execution_count": 47,
     "metadata": {},
     "output_type": "execute_result"
    }
   ],
   "source": [
    "%%time \n",
    "linear_search(arr=[2, 3, 4, 10, 40], x=10)"
   ]
  },
  {
   "cell_type": "markdown",
   "metadata": {},
   "source": [
    "### Recursive program to linearly search an element in a given array"
   ]
  },
  {
   "cell_type": "code",
   "execution_count": 53,
   "metadata": {},
   "outputs": [],
   "source": [
    "def recursive_search(arr, x, l, r):\n",
    "    if r < l:\n",
    "        return -1\n",
    "    elif arr[l] == x:\n",
    "        return l\n",
    "    elif arr[r] == x:\n",
    "        return r\n",
    "    else:\n",
    "        return recursive_search(arr, x, l+1, r-1)"
   ]
  },
  {
   "cell_type": "code",
   "execution_count": 54,
   "metadata": {},
   "outputs": [
    {
     "data": {
      "text/plain": [
       "3"
      ]
     },
     "execution_count": 54,
     "metadata": {},
     "output_type": "execute_result"
    }
   ],
   "source": [
    "tmp = [2, 3, 4, 10, 40]\n",
    "recursive_search(arr=tmp, x=10, l=0, r=len(tmp)-1)"
   ]
  },
  {
   "cell_type": "code",
   "execution_count": 36,
   "metadata": {},
   "outputs": [],
   "source": [
    "def binary_search(arr, x, left, right):\n",
    "    \n",
    "    \"\"\"\n",
    "    works on a sorted array\n",
    "    \"\"\"\n",
    "    \n",
    "    if right >= left:\n",
    "        middle =(left+right) // 2\n",
    "        if arr[middle] == x:\n",
    "            return middle\n",
    "        if x > arr[middle]:  # right search\n",
    "            left = middle+1 \n",
    "            return binary_search(arr, x, left, right)\n",
    "        elif x < arr[middle]: # left search\n",
    "            right = middle-1 \n",
    "            return binary_search(arr, x, left, right)\n",
    "    else:\n",
    "        return -1\n",
    "    "
   ]
  },
  {
   "cell_type": "code",
   "execution_count": 43,
   "metadata": {},
   "outputs": [
    {
     "data": {
      "text/plain": [
       "6"
      ]
     },
     "execution_count": 43,
     "metadata": {},
     "output_type": "execute_result"
    }
   ],
   "source": [
    "arr = [1, 2, 5, 8, 10, 11, 13]\n",
    "binary_search(arr=arr, x=13, left=0, right=len(arr)-1)"
   ]
  },
  {
   "cell_type": "code",
   "execution_count": null,
   "metadata": {},
   "outputs": [],
   "source": []
  },
  {
   "cell_type": "markdown",
   "metadata": {},
   "source": [
    "### Fibonacci Search"
   ]
  },
  {
   "cell_type": "code",
   "execution_count": null,
   "metadata": {},
   "outputs": [],
   "source": []
  },
  {
   "cell_type": "code",
   "execution_count": null,
   "metadata": {},
   "outputs": [],
   "source": []
  },
  {
   "cell_type": "code",
   "execution_count": null,
   "metadata": {},
   "outputs": [],
   "source": []
  },
  {
   "cell_type": "code",
   "execution_count": null,
   "metadata": {},
   "outputs": [],
   "source": []
  },
  {
   "cell_type": "code",
   "execution_count": null,
   "metadata": {},
   "outputs": [],
   "source": []
  }
 ],
 "metadata": {
  "kernelspec": {
   "display_name": "tfGvenv",
   "language": "python",
   "name": "tfgvenv"
  },
  "language_info": {
   "codemirror_mode": {
    "name": "ipython",
    "version": 3
   },
   "file_extension": ".py",
   "mimetype": "text/x-python",
   "name": "python",
   "nbconvert_exporter": "python",
   "pygments_lexer": "ipython3",
   "version": "3.6.9"
  }
 },
 "nbformat": 4,
 "nbformat_minor": 4
}
