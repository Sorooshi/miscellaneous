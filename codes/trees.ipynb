{
 "cells": [
  {
   "cell_type": "markdown",
   "metadata": {},
   "source": [
    "# Enumerating tree (aka powerset)\n",
    "\n",
    "## using itertools lib"
   ]
  },
  {
   "cell_type": "code",
   "execution_count": 27,
   "metadata": {},
   "outputs": [],
   "source": [
    "import itertools\n",
    "import numpy as np\n",
    "import networkx as nx\n",
    "import matplotlib.pyplot as plt"
   ]
  },
  {
   "cell_type": "markdown",
   "metadata": {},
   "source": [
    "## Combination"
   ]
  },
  {
   "cell_type": "code",
   "execution_count": 30,
   "metadata": {},
   "outputs": [],
   "source": [
    "def powerset(l):\n",
    "    return [list(itertools.combinations(l, s)) for s in range(len(l)+1)]"
   ]
  },
  {
   "cell_type": "code",
   "execution_count": 31,
   "metadata": {},
   "outputs": [
    {
     "data": {
      "text/plain": [
       "[[()],\n",
       " [(0,), (1,), (2,), (3,), (4,)],\n",
       " [(0, 1),\n",
       "  (0, 2),\n",
       "  (0, 3),\n",
       "  (0, 4),\n",
       "  (1, 2),\n",
       "  (1, 3),\n",
       "  (1, 4),\n",
       "  (2, 3),\n",
       "  (2, 4),\n",
       "  (3, 4)],\n",
       " [(0, 1, 2),\n",
       "  (0, 1, 3),\n",
       "  (0, 1, 4),\n",
       "  (0, 2, 3),\n",
       "  (0, 2, 4),\n",
       "  (0, 3, 4),\n",
       "  (1, 2, 3),\n",
       "  (1, 2, 4),\n",
       "  (1, 3, 4),\n",
       "  (2, 3, 4)],\n",
       " [(0, 1, 2, 3), (0, 1, 2, 4), (0, 1, 3, 4), (0, 2, 3, 4), (1, 2, 3, 4)],\n",
       " [(0, 1, 2, 3, 4)]]"
      ]
     },
     "execution_count": 31,
     "metadata": {},
     "output_type": "execute_result"
    }
   ],
   "source": [
    "powerset(range(5))"
   ]
  },
  {
   "cell_type": "code",
   "execution_count": 32,
   "metadata": {},
   "outputs": [],
   "source": [
    "tmp = powerset(range(20))"
   ]
  },
  {
   "cell_type": "code",
   "execution_count": 33,
   "metadata": {},
   "outputs": [
    {
     "data": {
      "text/plain": [
       "True"
      ]
     },
     "execution_count": 33,
     "metadata": {},
     "output_type": "execute_result"
    }
   ],
   "source": [
    "length = [len(i) for i in tmp]\n",
    "\n",
    "sum(length) == 2**20"
   ]
  },
  {
   "cell_type": "code",
   "execution_count": 34,
   "metadata": {},
   "outputs": [
    {
     "data": {
      "text/plain": [
       "1048576"
      ]
     },
     "execution_count": 34,
     "metadata": {},
     "output_type": "execute_result"
    }
   ],
   "source": [
    "2**20"
   ]
  },
  {
   "cell_type": "markdown",
   "metadata": {},
   "source": [
    "## From scratch"
   ]
  },
  {
   "cell_type": "code",
   "execution_count": 35,
   "metadata": {},
   "outputs": [],
   "source": [
    "def add_node(tree, node,):\n",
    "    tree[node] = {}\n",
    "    return tree"
   ]
  },
  {
   "cell_type": "code",
   "execution_count": 36,
   "metadata": {},
   "outputs": [],
   "source": [
    "def add_branches(tree, node):\n",
    "    tree[node][\"left\"] = {}\n",
    "    tree[node][\"right\"] = {}\n",
    "    return tree"
   ]
  },
  {
   "cell_type": "markdown",
   "metadata": {},
   "source": [
    "### Generate Tree"
   ]
  },
  {
   "cell_type": "code",
   "execution_count": 37,
   "metadata": {},
   "outputs": [],
   "source": [
    "def generate_tree(items):\n",
    "    # initialize the tree\n",
    "    tree = {}\n",
    "    for i in range(len(items)):\n",
    "        tree = add_node(tree=tree, node=items[i]+1)\n",
    "        tree = add_branches(tree=tree, node=items[i]+1)\n",
    "\n",
    "\n",
    "    # adding possible parent nodes\n",
    "    r = 0\n",
    "    while r < len(items):\n",
    "        for j in range(len(items)+1):\n",
    "            if j != r and r <= j:\n",
    "                add_node(tree=tree[j][\"left\"], node=r)\n",
    "                add_node(tree=tree[j][\"right\"], node=r)\n",
    "        r += 1 \n",
    "\n",
    "\n",
    "    # adding (possible) edges children and their parents and ancestors\n",
    "#     rr = 0\n",
    "#     while rr < len(items):\n",
    "#         for j in range(len(items)+1):\n",
    "#             if j != rr and rr < j:\n",
    "#                 add_branches(tree=tree[j][\"left\"], node=rr)\n",
    "#                 add_branches(tree=tree[j][\"right\"], node=rr)\n",
    "#         rr += 1 \n",
    "\n",
    "    return tree"
   ]
  },
  {
   "cell_type": "code",
   "execution_count": 38,
   "metadata": {},
   "outputs": [
    {
     "data": {
      "text/plain": [
       "{1: {'left': {0: {}}, 'right': {0: {}}},\n",
       " 2: {'left': {0: {}, 1: {}}, 'right': {0: {}, 1: {}}},\n",
       " 3: {'left': {0: {}, 1: {}, 2: {}}, 'right': {0: {}, 1: {}, 2: {}}},\n",
       " 4: {'left': {0: {}, 1: {}, 2: {}, 3: {}},\n",
       "  'right': {0: {}, 1: {}, 2: {}, 3: {}}}}"
      ]
     },
     "execution_count": 38,
     "metadata": {},
     "output_type": "execute_result"
    }
   ],
   "source": [
    "N = 4\n",
    "t_tree = generate_tree(items=list(range(N)))\n",
    "t_tree"
   ]
  },
  {
   "cell_type": "markdown",
   "metadata": {},
   "source": [
    "### Binary tree"
   ]
  },
  {
   "cell_type": "code",
   "execution_count": 39,
   "metadata": {},
   "outputs": [],
   "source": [
    "left_child = lambda x: 2*x+1\n",
    "\n",
    "right_child = lambda x: 2*x+2\n",
    "\n",
    "b_tree = {}\n",
    "N = 5\n",
    "for i in range(N):\n",
    "    b_tree[i] = {}\n",
    "    b_tree[i][\"left\"] = left_child(i)\n",
    "    b_tree[i][\"righ\"] = right_child(i)"
   ]
  },
  {
   "cell_type": "code",
   "execution_count": 40,
   "metadata": {},
   "outputs": [
    {
     "data": {
      "text/plain": [
       "{0: {'left': 1, 'righ': 2},\n",
       " 1: {'left': 3, 'righ': 4},\n",
       " 2: {'left': 5, 'righ': 6},\n",
       " 3: {'left': 7, 'righ': 8},\n",
       " 4: {'left': 9, 'righ': 10}}"
      ]
     },
     "execution_count": 40,
     "metadata": {},
     "output_type": "execute_result"
    }
   ],
   "source": [
    "b_tree"
   ]
  },
  {
   "cell_type": "code",
   "execution_count": null,
   "metadata": {},
   "outputs": [],
   "source": []
  },
  {
   "cell_type": "code",
   "execution_count": 41,
   "metadata": {},
   "outputs": [],
   "source": [
    "g = nx.DiGraph()\n",
    "g.add_nodes_from(list(range(N)))\n",
    "for k, v in b_tree.items():\n",
    "    g.add_edges_from(([(k, vv) for kk, vv in v.items()]))"
   ]
  },
  {
   "cell_type": "code",
   "execution_count": 42,
   "metadata": {},
   "outputs": [
    {
     "data": {
      "text/plain": [
       "OutEdgeView([(0, 1), (0, 2), (1, 3), (1, 4), (2, 5), (2, 6), (3, 7), (3, 8), (4, 9), (4, 10)])"
      ]
     },
     "execution_count": 42,
     "metadata": {},
     "output_type": "execute_result"
    }
   ],
   "source": [
    " g.edges()"
   ]
  },
  {
   "cell_type": "code",
   "execution_count": 46,
   "metadata": {},
   "outputs": [
    {
     "data": {
      "image/png": "[encoded data removed]",
      "text/plain": [
       "<Figure size 432x288 with 1 Axes>"
      ]
     },
     "metadata": {
      "needs_background": "light"
     },
     "output_type": "display_data"
    }
   ],
   "source": [
    "nx.draw_networkx(g)\n",
    "plt.show()"
   ]
  },
  {
   "cell_type": "code",
   "execution_count": 48,
   "metadata": {
    "scrolled": true
   },
   "outputs": [],
   "source": [
    "# b_tree = {}\n",
    "# i = 0\n",
    "# while i <= N:\n",
    "#     print(\"while\", i, b_tree)\n",
    "#     if i == 0:\n",
    "#         b_tree[i] = {}\n",
    "#         b_tree[i][\"left\"] = left_child(i)\n",
    "#         b_tree[i][\"right\"] = right_child(i)\n",
    "#         i += 1\n",
    "#     else:\n",
    "#         print(i, \"b_tree_add:\", b_tree)\n",
    "#         for j in range(1, i):\n",
    "#             b_tree[i][j] = {}\n",
    "#         b_tree[i-1][i][\"left\"] = left_child(i)\n",
    "#         b_tree[i-1][i][\"right\"] = right_child(i)\n",
    "#         i += 1\n",
    "    "
   ]
  },
  {
   "cell_type": "code",
   "execution_count": 50,
   "metadata": {},
   "outputs": [],
   "source": [
    "# def comb(tree):\n",
    "#     depth = (tree.keys())\n",
    "#     comb = [list(depth)]\n",
    "\n",
    "#     for d in depth:\n",
    "#         tmp_l = list(tree[d][\"left\"].keys())\n",
    "#         tmp_r = list(tree[d][\"right\"].keys())[::-1]\n",
    "#         if tmp_l not in comb:\n",
    "#             comb.append(tmp_l)\n",
    "#         if tmp_r not in comb:\n",
    "#             comb.append(tmp_r)\n",
    "#     return comb"
   ]
  },
  {
   "cell_type": "code",
   "execution_count": null,
   "metadata": {},
   "outputs": [],
   "source": []
  },
  {
   "cell_type": "code",
   "execution_count": 49,
   "metadata": {},
   "outputs": [
    {
     "name": "stdout",
     "output_type": "stream",
     "text": [
      "Generating tree with 0 nodes\n",
      "{}\n",
      " \n",
      "Generating tree with 1 nodes\n",
      "{1: {'left': {0: {}}, 'right': {0: {}}}}\n",
      " \n",
      "Generating tree with 2 nodes\n",
      "{1: {'left': {0: {}}, 'right': {0: {}}}, 2: {'left': {0: {}, 1: {}}, 'right': {0: {}, 1: {}}}}\n",
      " \n",
      "Generating tree with 3 nodes\n",
      "{1: {'left': {0: {}}, 'right': {0: {}}}, 2: {'left': {0: {}, 1: {}}, 'right': {0: {}, 1: {}}}, 3: {'left': {0: {}, 1: {}, 2: {}}, 'right': {0: {}, 1: {}, 2: {}}}}\n",
      " \n",
      "Generating tree with 4 nodes\n",
      "{1: {'left': {0: {}}, 'right': {0: {}}}, 2: {'left': {0: {}, 1: {}}, 'right': {0: {}, 1: {}}}, 3: {'left': {0: {}, 1: {}, 2: {}}, 'right': {0: {}, 1: {}, 2: {}}}, 4: {'left': {0: {}, 1: {}, 2: {}, 3: {}}, 'right': {0: {}, 1: {}, 2: {}, 3: {}}}}\n",
      " \n",
      "Generating tree with 5 nodes\n",
      "{1: {'left': {0: {}}, 'right': {0: {}}}, 2: {'left': {0: {}, 1: {}}, 'right': {0: {}, 1: {}}}, 3: {'left': {0: {}, 1: {}, 2: {}}, 'right': {0: {}, 1: {}, 2: {}}}, 4: {'left': {0: {}, 1: {}, 2: {}, 3: {}}, 'right': {0: {}, 1: {}, 2: {}, 3: {}}}, 5: {'left': {0: {}, 1: {}, 2: {}, 3: {}, 4: {}}, 'right': {0: {}, 1: {}, 2: {}, 3: {}, 4: {}}}}\n",
      " \n",
      "Generating tree with 6 nodes\n",
      "{1: {'left': {0: {}}, 'right': {0: {}}}, 2: {'left': {0: {}, 1: {}}, 'right': {0: {}, 1: {}}}, 3: {'left': {0: {}, 1: {}, 2: {}}, 'right': {0: {}, 1: {}, 2: {}}}, 4: {'left': {0: {}, 1: {}, 2: {}, 3: {}}, 'right': {0: {}, 1: {}, 2: {}, 3: {}}}, 5: {'left': {0: {}, 1: {}, 2: {}, 3: {}, 4: {}}, 'right': {0: {}, 1: {}, 2: {}, 3: {}, 4: {}}}, 6: {'left': {0: {}, 1: {}, 2: {}, 3: {}, 4: {}, 5: {}}, 'right': {0: {}, 1: {}, 2: {}, 3: {}, 4: {}, 5: {}}}}\n",
      " \n",
      "Generating tree with 7 nodes\n",
      "{1: {'left': {0: {}}, 'right': {0: {}}}, 2: {'left': {0: {}, 1: {}}, 'right': {0: {}, 1: {}}}, 3: {'left': {0: {}, 1: {}, 2: {}}, 'right': {0: {}, 1: {}, 2: {}}}, 4: {'left': {0: {}, 1: {}, 2: {}, 3: {}}, 'right': {0: {}, 1: {}, 2: {}, 3: {}}}, 5: {'left': {0: {}, 1: {}, 2: {}, 3: {}, 4: {}}, 'right': {0: {}, 1: {}, 2: {}, 3: {}, 4: {}}}, 6: {'left': {0: {}, 1: {}, 2: {}, 3: {}, 4: {}, 5: {}}, 'right': {0: {}, 1: {}, 2: {}, 3: {}, 4: {}, 5: {}}}, 7: {'left': {0: {}, 1: {}, 2: {}, 3: {}, 4: {}, 5: {}, 6: {}}, 'right': {0: {}, 1: {}, 2: {}, 3: {}, 4: {}, 5: {}, 6: {}}}}\n",
      " \n",
      "Generating tree with 8 nodes\n",
      "{1: {'left': {0: {}}, 'right': {0: {}}}, 2: {'left': {0: {}, 1: {}}, 'right': {0: {}, 1: {}}}, 3: {'left': {0: {}, 1: {}, 2: {}}, 'right': {0: {}, 1: {}, 2: {}}}, 4: {'left': {0: {}, 1: {}, 2: {}, 3: {}}, 'right': {0: {}, 1: {}, 2: {}, 3: {}}}, 5: {'left': {0: {}, 1: {}, 2: {}, 3: {}, 4: {}}, 'right': {0: {}, 1: {}, 2: {}, 3: {}, 4: {}}}, 6: {'left': {0: {}, 1: {}, 2: {}, 3: {}, 4: {}, 5: {}}, 'right': {0: {}, 1: {}, 2: {}, 3: {}, 4: {}, 5: {}}}, 7: {'left': {0: {}, 1: {}, 2: {}, 3: {}, 4: {}, 5: {}, 6: {}}, 'right': {0: {}, 1: {}, 2: {}, 3: {}, 4: {}, 5: {}, 6: {}}}, 8: {'left': {0: {}, 1: {}, 2: {}, 3: {}, 4: {}, 5: {}, 6: {}, 7: {}}, 'right': {0: {}, 1: {}, 2: {}, 3: {}, 4: {}, 5: {}, 6: {}, 7: {}}}}\n",
      " \n",
      "Generating tree with 9 nodes\n",
      "{1: {'left': {0: {}}, 'right': {0: {}}}, 2: {'left': {0: {}, 1: {}}, 'right': {0: {}, 1: {}}}, 3: {'left': {0: {}, 1: {}, 2: {}}, 'right': {0: {}, 1: {}, 2: {}}}, 4: {'left': {0: {}, 1: {}, 2: {}, 3: {}}, 'right': {0: {}, 1: {}, 2: {}, 3: {}}}, 5: {'left': {0: {}, 1: {}, 2: {}, 3: {}, 4: {}}, 'right': {0: {}, 1: {}, 2: {}, 3: {}, 4: {}}}, 6: {'left': {0: {}, 1: {}, 2: {}, 3: {}, 4: {}, 5: {}}, 'right': {0: {}, 1: {}, 2: {}, 3: {}, 4: {}, 5: {}}}, 7: {'left': {0: {}, 1: {}, 2: {}, 3: {}, 4: {}, 5: {}, 6: {}}, 'right': {0: {}, 1: {}, 2: {}, 3: {}, 4: {}, 5: {}, 6: {}}}, 8: {'left': {0: {}, 1: {}, 2: {}, 3: {}, 4: {}, 5: {}, 6: {}, 7: {}}, 'right': {0: {}, 1: {}, 2: {}, 3: {}, 4: {}, 5: {}, 6: {}, 7: {}}}, 9: {'left': {0: {}, 1: {}, 2: {}, 3: {}, 4: {}, 5: {}, 6: {}, 7: {}, 8: {}}, 'right': {0: {}, 1: {}, 2: {}, 3: {}, 4: {}, 5: {}, 6: {}, 7: {}, 8: {}}}}\n",
      " \n"
     ]
    }
   ],
   "source": [
    "for i in range(10):\n",
    "    tree = generate_tree(items=list(range(i)))\n",
    "    print(\"Generating tree with \"+ str(i), \"nodes\")\n",
    "    print(tree)\n",
    "    print(\" \")"
   ]
  },
  {
   "cell_type": "code",
   "execution_count": null,
   "metadata": {},
   "outputs": [],
   "source": []
  }
 ],
 "metadata": {
  "kernelspec": {
   "display_name": "Python 3",
   "language": "python",
   "name": "python3"
  },
  "language_info": {
   "codemirror_mode": {
    "name": "ipython",
    "version": 3
   },
   "file_extension": ".py",
   "mimetype": "text/x-python",
   "name": "python",
   "nbconvert_exporter": "python",
   "pygments_lexer": "ipython3",
   "version": "3.7.3"
  }
 },
 "nbformat": 4,
 "nbformat_minor": 2
}
