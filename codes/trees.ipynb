{
 "cells": [
  {
   "cell_type": "markdown",
   "metadata": {},
   "source": [
    "# Enumerating tree (aka powerset)\n",
    "\n",
    "## using itertools lib"
   ]
  },
  {
   "cell_type": "code",
   "execution_count": 5,
   "metadata": {},
   "outputs": [],
   "source": [
    "import itertools\n",
    "import numpy as np\n",
    "import networkx as nx\n",
    "import matplotlib.pyplot as plt"
   ]
  },
  {
   "cell_type": "code",
   "execution_count": 6,
   "metadata": {},
   "outputs": [],
   "source": [
    "def powerset(l):\n",
    "    return [list(itertools.combinations(l, s)) for s in range(len(l)+1)]"
   ]
  },
  {
   "cell_type": "markdown",
   "metadata": {},
   "source": [
    "## From scratch"
   ]
  },
  {
   "cell_type": "code",
   "execution_count": 7,
   "metadata": {},
   "outputs": [],
   "source": [
    "def add_node(tree, node,):\n",
    "    tree[node] = {}\n",
    "    return tree"
   ]
  },
  {
   "cell_type": "code",
   "execution_count": 8,
   "metadata": {},
   "outputs": [],
   "source": [
    "def add_branches(tree, node):\n",
    "    tree[node][\"left\"] = {}\n",
    "    tree[node][\"right\"] = {}\n",
    "    return tree"
   ]
  },
  {
   "cell_type": "markdown",
   "metadata": {},
   "source": [
    "### Generate Tree"
   ]
  },
  {
   "cell_type": "code",
   "execution_count": 9,
   "metadata": {},
   "outputs": [],
   "source": [
    "def generate_tree(items):\n",
    "    # initialize the tree\n",
    "    tree = {}\n",
    "    for i in range(len(items)):\n",
    "        tree = add_node(tree=tree, node=items[i]+1)\n",
    "        tree = add_branches(tree=tree, node=items[i]+1)\n",
    "\n",
    "\n",
    "    # adding possible parent nodes\n",
    "    r = 0\n",
    "    while r < len(items):\n",
    "        for j in range(len(items)+1):\n",
    "            if j != r and r <= j:\n",
    "                add_node(tree=tree[j][\"left\"], node=r)\n",
    "                add_node(tree=tree[j][\"right\"], node=r)\n",
    "        r += 1 \n",
    "\n",
    "\n",
    "    # adding (possible) edges children and their parents and ancestors\n",
    "#     rr = 0\n",
    "#     while rr < len(items):\n",
    "#         for j in range(len(items)+1):\n",
    "#             if j != rr and rr < j:\n",
    "#                 add_branches(tree=tree[j][\"left\"], node=rr)\n",
    "#                 add_branches(tree=tree[j][\"right\"], node=rr)\n",
    "#         rr += 1 \n",
    "\n",
    "    return tree"
   ]
  },
  {
   "cell_type": "code",
   "execution_count": 10,
   "metadata": {},
   "outputs": [
    {
     "data": {
      "text/plain": [
       "{1: {'left': {0: {}}, 'right': {0: {}}},\n",
       " 2: {'left': {0: {}, 1: {}}, 'right': {0: {}, 1: {}}},\n",
       " 3: {'left': {0: {}, 1: {}, 2: {}}, 'right': {0: {}, 1: {}, 2: {}}},\n",
       " 4: {'left': {0: {}, 1: {}, 2: {}, 3: {}},\n",
       "  'right': {0: {}, 1: {}, 2: {}, 3: {}}}}"
      ]
     },
     "execution_count": 10,
     "metadata": {},
     "output_type": "execute_result"
    }
   ],
   "source": [
    "N = 4\n",
    "t_tree = generate_tree(items=list(range(N)))\n",
    "t_tree"
   ]
  },
  {
   "cell_type": "markdown",
   "metadata": {},
   "source": [
    "### Binary tree"
   ]
  },
  {
   "cell_type": "code",
   "execution_count": 19,
   "metadata": {},
   "outputs": [],
   "source": [
    "left_child = lambda x: 2*x+1\n",
    "\n",
    "right_child = lambda x: 2*x+2\n",
    "\n",
    "b_tree = {}\n",
    "N = 5\n",
    "for i in range(N):\n",
    "    b_tree[i] = {}\n",
    "    b_tree[i][\"left\"] = left_child(i)\n",
    "    b_tree[i][\"righ\"] = right_child(i)"
   ]
  },
  {
   "cell_type": "code",
   "execution_count": 20,
   "metadata": {},
   "outputs": [
    {
     "data": {
      "text/plain": [
       "{0: {'left': 1, 'righ': 2},\n",
       " 1: {'left': 3, 'righ': 4},\n",
       " 2: {'left': 5, 'righ': 6},\n",
       " 3: {'left': 7, 'righ': 8},\n",
       " 4: {'left': 9, 'righ': 10}}"
      ]
     },
     "execution_count": 20,
     "metadata": {},
     "output_type": "execute_result"
    }
   ],
   "source": [
    "b_tree"
   ]
  },
  {
   "cell_type": "code",
   "execution_count": null,
   "metadata": {},
   "outputs": [],
   "source": []
  },
  {
   "cell_type": "code",
   "execution_count": 21,
   "metadata": {},
   "outputs": [],
   "source": [
    "g = nx.DiGraph()\n",
    "g.add_nodes_from(list(range(N)))\n",
    "for k, v in b_tree.items():\n",
    "    g.add_edges_from(([(k, vv) for kk, vv in v.items()]))"
   ]
  },
  {
   "cell_type": "code",
   "execution_count": 22,
   "metadata": {},
   "outputs": [
    {
     "data": {
      "text/plain": [
       "OutEdgeView([(0, 1), (0, 2), (1, 3), (1, 4), (2, 5), (2, 6), (3, 7), (3, 8), (4, 9), (4, 10)])"
      ]
     },
     "execution_count": 22,
     "metadata": {},
     "output_type": "execute_result"
    }
   ],
   "source": [
    " g.edges()"
   ]
  },
  {
   "cell_type": "code",
   "execution_count": 25,
   "metadata": {},
   "outputs": [
    {
     "data": {
      "image/png": "[encoded data removed]",
      "text/plain": [
       "<Figure size 432x288 with 1 Axes>"
      ]
     },
     "metadata": {
      "needs_background": "light"
     },
     "output_type": "display_data"
    }
   ],
   "source": [
    "nx.draw_networkx(g)\n",
    "plt.show()"
   ]
  },
  {
   "cell_type": "code",
   "execution_count": null,
   "metadata": {
    "scrolled": true
   },
   "outputs": [],
   "source": [
    "b_tree = {}\n",
    "i = 0\n",
    "while i <= N:\n",
    "    print(\"while\", i, b_tree)\n",
    "    if i == 0:\n",
    "        b_tree[i] = {}\n",
    "        b_tree[i][\"left\"] = left_child(i)\n",
    "        b_tree[i][\"right\"] = right_child(i)\n",
    "        i += 1\n",
    "    else:\n",
    "        print(i, \"b_tree_add:\", b_tree)\n",
    "        for j in range(1, i):\n",
    "            b_tree[i][j] = {}\n",
    "        b_tree[i-1][i][\"left\"] = left_child(i)\n",
    "        b_tree[i-1][i][\"right\"] = right_child(i)\n",
    "        i += 1\n",
    "    "
   ]
  },
  {
   "cell_type": "markdown",
   "metadata": {},
   "source": [
    "## Evaluation"
   ]
  },
  {
   "cell_type": "code",
   "execution_count": null,
   "metadata": {},
   "outputs": [],
   "source": [
    "D = {}\n",
    "D[0] = {}\n",
    "D"
   ]
  },
  {
   "cell_type": "code",
   "execution_count": null,
   "metadata": {},
   "outputs": [],
   "source": [
    "D[0][1] = {}\n",
    "D"
   ]
  },
  {
   "cell_type": "code",
   "execution_count": null,
   "metadata": {},
   "outputs": [],
   "source": [
    "D[0][1]"
   ]
  },
  {
   "cell_type": "markdown",
   "metadata": {},
   "source": [
    "### Combinations\n",
    "(not complete yet)"
   ]
  },
  {
   "cell_type": "code",
   "execution_count": null,
   "metadata": {},
   "outputs": [],
   "source": [
    "def comb(tree):\n",
    "    depth = (tree.keys())\n",
    "    comb = [list(depth)]\n",
    "\n",
    "    for d in depth:\n",
    "        tmp_l = list(tree[d][\"left\"].keys())\n",
    "        tmp_r = list(tree[d][\"right\"].keys())[::-1]\n",
    "        if tmp_l not in comb:\n",
    "            comb.append(tmp_l)\n",
    "        if tmp_r not in comb:\n",
    "            comb.append(tmp_r)\n",
    "    return comb"
   ]
  },
  {
   "cell_type": "code",
   "execution_count": null,
   "metadata": {},
   "outputs": [],
   "source": []
  },
  {
   "cell_type": "code",
   "execution_count": null,
   "metadata": {},
   "outputs": [],
   "source": [
    "test[0][1][2][3] = {}\n",
    "test"
   ]
  },
  {
   "cell_type": "code",
   "execution_count": null,
   "metadata": {},
   "outputs": [],
   "source": []
  },
  {
   "cell_type": "code",
   "execution_count": null,
   "metadata": {},
   "outputs": [],
   "source": [
    "D"
   ]
  },
  {
   "cell_type": "code",
   "execution_count": null,
   "metadata": {},
   "outputs": [],
   "source": []
  },
  {
   "cell_type": "markdown",
   "metadata": {},
   "source": [
    "## Comparison"
   ]
  },
  {
   "cell_type": "code",
   "execution_count": null,
   "metadata": {},
   "outputs": [],
   "source": [
    "# for N in range(4):\n",
    "#     tree = generate_tree(items=list(range(N+1)))\n",
    "#     my_comb = comb(tree=tree)\n",
    "#     iter_comb = powerset(l=list(range(N)))\n",
    "#     print(\"my comb: \\n\", \n",
    "#           my_comb,\n",
    "#           \"\\n \", \n",
    "#           \"iter: \\n\", \n",
    "#           iter_comb\n",
    "#          )"
   ]
  },
  {
   "cell_type": "code",
   "execution_count": null,
   "metadata": {},
   "outputs": [],
   "source": []
  },
  {
   "cell_type": "code",
   "execution_count": null,
   "metadata": {},
   "outputs": [],
   "source": [
    "for i in range(10):\n",
    "    tree = generate_tree(items=list(range(i)))\n",
    "    print(\"Generating tree with \"+ str(i), \"nodes\")\n",
    "    print(tree)\n",
    "    print(\" \")"
   ]
  }
 ],
 "metadata": {
  "kernelspec": {
   "display_name": "Python 3",
   "language": "python",
   "name": "python3"
  },
  "language_info": {
   "codemirror_mode": {
    "name": "ipython",
    "version": 3
   },
   "file_extension": ".py",
   "mimetype": "text/x-python",
   "name": "python",
   "nbconvert_exporter": "python",
   "pygments_lexer": "ipython3",
   "version": "3.7.3"
  }
 },
 "nbformat": 4,
 "nbformat_minor": 2
}
