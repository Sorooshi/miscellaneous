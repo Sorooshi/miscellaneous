{
 "cells": [
  {
   "cell_type": "code",
   "execution_count": null,
   "metadata": {},
   "outputs": [],
   "source": [
    "import torch\n",
    "from torch import nn\n",
    "from torchvision import datasets\n",
    "from torch.utils.data import DataLoader\n",
    "from torchvision.transforms import ToTensor, Lambda, Compose\n",
    "\n",
    "import matplotlib.pyplot as plt\n",
    "\n"
   ]
  },
  {
   "cell_type": "code",
   "execution_count": null,
   "metadata": {},
   "outputs": [],
   "source": [
    "# Download training data from open datasets.\n",
    "training_data = datasets.FashionMNIST(\n",
    "    root=\"data\",\n",
    "    train=True,\n",
    "    download=True,\n",
    "    transform=ToTensor(),\n",
    ")\n",
    "\n",
    "# Download test data from open datasets.\n",
    "test_data = datasets.FashionMNIST(\n",
    "    root=\"data\",\n",
    "    train=False,\n",
    "    download=True,\n",
    "    transform=ToTensor(),\n",
    ")"
   ]
  },
  {
   "cell_type": "code",
   "execution_count": null,
   "metadata": {},
   "outputs": [],
   "source": [
    "batch_size = 64\n",
    "\n",
    "# create data loader \n",
    "train_dataloader = DataLoader(training_data, batch_size=batch_size)\n",
    "test_dataloader = DataLoader(test_data, batch_size=batch_size)\n",
    "\n"
   ]
  },
  {
   "cell_type": "code",
   "execution_count": null,
   "metadata": {},
   "outputs": [],
   "source": []
  },
  {
   "cell_type": "code",
   "execution_count": null,
   "metadata": {},
   "outputs": [],
   "source": [
    "for x, y in test_dataloader:\n",
    "    print(\"shape of x: [batch, channel, height, width]:\", x.shape )\n",
    "    print(\"shaope of y:\", y.shape, y.type)\n",
    "    break "
   ]
  },
  {
   "cell_type": "code",
   "execution_count": null,
   "metadata": {},
   "outputs": [],
   "source": [
    "# Get cpu or gpu device for training.\n",
    "device = \"cuda\" if torch.cuda.is_available() else \"cpu\"\n",
    "print(f\"Using {device} device\")\n"
   ]
  },
  {
   "cell_type": "code",
   "execution_count": 6,
   "metadata": {},
   "outputs": [],
   "source": [
    "class NeuralNetwork(nn.Module):\n",
    "    def __init__(self, ):\n",
    "        super (NeuralNetwork, self, ).__init__()\n",
    "        self.flatten = nn.Flatten()\n",
    "        self.linear_relu_stack = nn.Sequential(\n",
    "            nn.Linear(28*28, 512), \n",
    "            nn.ReLU(), \n",
    "            nn.Linear(512, 512), \n",
    "            nn.ReLU(), \n",
    "            nn.Linear(512, 10)\n",
    "        )\n",
    "    def forward(self, x):\n",
    "        x = self.flatten(x)\n",
    "        logits = self.linear_relu_stack(x)\n",
    "        return logits\n",
    "    \n",
    "        "
   ]
  },
  {
   "cell_type": "code",
   "execution_count": 7,
   "metadata": {},
   "outputs": [],
   "source": [
    "model = NeuralNetwork().to(device)\n"
   ]
  },
  {
   "cell_type": "code",
   "execution_count": 8,
   "metadata": {},
   "outputs": [
    {
     "name": "stdout",
     "output_type": "stream",
     "text": [
      "NeuralNetwork(\n",
      "  (flatten): Flatten(start_dim=1, end_dim=-1)\n",
      "  (linear_relu_stack): Sequential(\n",
      "    (0): Linear(in_features=784, out_features=512, bias=True)\n",
      "    (1): ReLU()\n",
      "    (2): Linear(in_features=512, out_features=512, bias=True)\n",
      "    (3): ReLU()\n",
      "    (4): Linear(in_features=512, out_features=10, bias=True)\n",
      "  )\n",
      ")\n"
     ]
    }
   ],
   "source": [
    "print(model)"
   ]
  },
  {
   "cell_type": "code",
   "execution_count": 9,
   "metadata": {},
   "outputs": [],
   "source": [
    "loss_fn = nn.CrossEntropyLoss()\n",
    "optimizer = torch.optim.SGD(model.parameters(), lr=1e-3)"
   ]
  },
  {
   "cell_type": "code",
   "execution_count": 16,
   "metadata": {},
   "outputs": [],
   "source": [
    "def train (data_loader, model, loss_fn, optimizer):\n",
    "    size = len(data_loader.dataset)\n",
    "    model.train()\n",
    "    for batch, (X, y) in enumerate (data_loader):\n",
    "        X, y = X.to(device), y.to(device)\n",
    "        \n",
    "        # compute prediction error\n",
    "        pred = model(X)\n",
    "        loss = loss_fn(pred, y)\n",
    "        \n",
    "        # Backpropagation\n",
    "        optimizer.zero_grad()\n",
    "        loss.backward()\n",
    "        optimizer.step()\n",
    "        \n",
    "        if batch % 100 == 0:\n",
    "            loss, current = loss.item(), batch * len(X)\n",
    "            print(f\"loss: {loss:>7f}  [{current:>5d}/{size:>5d}]\")\n",
    "        "
   ]
  },
  {
   "cell_type": "code",
   "execution_count": 21,
   "metadata": {},
   "outputs": [],
   "source": [
    "def test(data_loader, model, loss_fn, ):\n",
    "    size = len(data_loader.dataset)\n",
    "    num_batch = len(data_loader)\n",
    "    model.eval()\n",
    "    test_loss, correct = 0, 0\n",
    "    with torch.no_grad():\n",
    "        for X, y in data_loader:\n",
    "            X, y = X.to(device), y.to(device)\n",
    "            pred = model(X)\n",
    "            test_loss += loss_fn(pred, y).item()\n",
    "            correct += (pred.argmax(1) == y).type(torch.float).sum().item()\n",
    "        test_loss /= num_batch\n",
    "        correct /= size \n",
    "        print(f\"Test Error: \\n Accuracy: {(100*correct):>0.1f}%, Avg loss: {test_loss:>8f} \\n\")"
   ]
  },
  {
   "cell_type": "code",
   "execution_count": 22,
   "metadata": {},
   "outputs": [
    {
     "name": "stdout",
     "output_type": "stream",
     "text": [
      "Epoch 1\n",
      "-------------------------------\n",
      "loss: 1.919186  [    0/60000]\n",
      "loss: 1.884700  [ 6400/60000]\n",
      "loss: 1.771096  [12800/60000]\n",
      "loss: 1.798242  [19200/60000]\n",
      "loss: 1.701908  [25600/60000]\n",
      "loss: 1.653175  [32000/60000]\n",
      "loss: 1.665179  [38400/60000]\n",
      "loss: 1.580075  [44800/60000]\n",
      "loss: 1.602161  [51200/60000]\n",
      "loss: 1.476555  [57600/60000]\n",
      "Test Error: \n",
      " Accuracy: 60.8%, Avg loss: 1.513432 \n",
      "\n",
      "Epoch 2\n",
      "-------------------------------\n",
      "loss: 1.587751  [    0/60000]\n",
      "loss: 1.548025  [ 6400/60000]\n",
      "loss: 1.403701  [12800/60000]\n",
      "loss: 1.463510  [19200/60000]\n",
      "loss: 1.357545  [25600/60000]\n",
      "loss: 1.349653  [32000/60000]\n",
      "loss: 1.357232  [38400/60000]\n",
      "loss: 1.296346  [44800/60000]\n",
      "loss: 1.323775  [51200/60000]\n",
      "loss: 1.212294  [57600/60000]\n",
      "Test Error: \n",
      " Accuracy: 63.6%, Avg loss: 1.249787 \n",
      "\n",
      "Epoch 3\n",
      "-------------------------------\n",
      "loss: 1.328118  [    0/60000]\n",
      "loss: 1.308408  [ 6400/60000]\n",
      "loss: 1.145133  [12800/60000]\n",
      "loss: 1.247423  [19200/60000]\n",
      "loss: 1.126288  [25600/60000]\n",
      "loss: 1.148171  [32000/60000]\n",
      "loss: 1.166930  [38400/60000]\n",
      "loss: 1.117260  [44800/60000]\n",
      "loss: 1.147575  [51200/60000]\n",
      "loss: 1.055935  [57600/60000]\n",
      "Test Error: \n",
      " Accuracy: 65.1%, Avg loss: 1.085087 \n",
      "\n",
      "Epoch 4\n",
      "-------------------------------\n",
      "loss: 1.154206  [    0/60000]\n",
      "loss: 1.157312  [ 6400/60000]\n",
      "loss: 0.975218  [12800/60000]\n",
      "loss: 1.112398  [19200/60000]\n",
      "loss: 0.984413  [25600/60000]\n",
      "loss: 1.013605  [32000/60000]\n",
      "loss: 1.049994  [38400/60000]\n",
      "loss: 1.002801  [44800/60000]\n",
      "loss: 1.033146  [51200/60000]\n",
      "loss: 0.958579  [57600/60000]\n",
      "Test Error: \n",
      " Accuracy: 66.4%, Avg loss: 0.979585 \n",
      "\n",
      "Epoch 5\n",
      "-------------------------------\n",
      "loss: 1.034386  [    0/60000]\n",
      "loss: 1.059794  [ 6400/60000]\n",
      "loss: 0.859413  [12800/60000]\n",
      "loss: 1.023359  [19200/60000]\n",
      "loss: 0.895279  [25600/60000]\n",
      "loss: 0.919817  [32000/60000]\n",
      "loss: 0.974083  [38400/60000]\n",
      "loss: 0.928249  [44800/60000]\n",
      "loss: 0.954503  [51200/60000]\n",
      "loss: 0.893641  [57600/60000]\n",
      "Test Error: \n",
      " Accuracy: 67.8%, Avg loss: 0.907860 \n",
      "\n",
      "Done!\n"
     ]
    }
   ],
   "source": [
    "epochs = 5\n",
    "for t in range(epochs):\n",
    "    print(f\"Epoch {t+1}\\n-------------------------------\")\n",
    "    train(train_dataloader, model, loss_fn, optimizer)\n",
    "    test(test_dataloader, model, loss_fn)\n",
    "print(\"Done!\")"
   ]
  },
  {
   "cell_type": "code",
   "execution_count": null,
   "metadata": {},
   "outputs": [],
   "source": []
  }
 ],
 "metadata": {
  "kernelspec": {
   "display_name": "venv_Sep21",
   "language": "python",
   "name": "venv_sep21"
  },
  "language_info": {
   "codemirror_mode": {
    "name": "ipython",
    "version": 3
   },
   "file_extension": ".py",
   "mimetype": "text/x-python",
   "name": "python",
   "nbconvert_exporter": "python",
   "pygments_lexer": "ipython3",
   "version": "3.7.3"
  }
 },
 "nbformat": 4,
 "nbformat_minor": 2
}
